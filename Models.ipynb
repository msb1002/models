{
  "nbformat": 4,
  "nbformat_minor": 0,
  "metadata": {
    "colab": {
      "name": "Models.ipynb",
      "provenance": [],
      "collapsed_sections": [],
      "authorship_tag": "ABX9TyPU0B69PPMqsTiX6neJIww+",
      "include_colab_link": true
    },
    "kernelspec": {
      "name": "python3",
      "display_name": "Python 3"
    },
    "language_info": {
      "name": "python"
    },
    "widgets": {
      "application/vnd.jupyter.widget-state+json": {
        "74827bf9e78d4a9ab9317c688174b0c0": {
          "model_module": "catboost-widget",
          "model_name": "CatboostWidgetModel",
          "model_module_version": "^1.0.0",
          "state": {
            "_view_name": "CatboostWidgetView",
            "_dom_classes": [],
            "_model_name": "CatboostWidgetModel",
            "data": {
              "catboost_info": {
                "content": {
                  "data": {
                    "meta": {
                      "name": "experiment",
                      "parameters": "",
                      "test_metrics": [],
                      "learn_sets": [
                        "learn"
                      ],
                      "launch_mode": "Train",
                      "learn_metrics": [
                        {
                          "best_value": "Min",
                          "name": "RMSE"
                        }
                      ],
                      "iteration_count": 1000,
                      "test_sets": []
                    },
                    "iterations": [
                      {
                        "passed_time": 0.04802472227,
                        "iteration": 0,
                        "remaining_time": 47.97669755,
                        "learn": [
                          0.2322306561
                        ]
                      },
                      {
                        "passed_time": 0.04938130325,
                        "iteration": 1,
                        "remaining_time": 24.64127032,
                        "learn": [
                          0.2233354259
                        ]
                      },
                      {
                        "passed_time": 0.05059062758,
                        "iteration": 2,
                        "remaining_time": 16.8129519,
                        "learn": [
                          0.2147827202
                        ]
                      },
                      {
                        "passed_time": 0.05174740058,
                        "iteration": 3,
                        "remaining_time": 12.88510275,
                        "learn": [
                          0.2069523189
                        ]
                      },
                      {
                        "passed_time": 0.05290333672,
                        "iteration": 4,
                        "remaining_time": 10.52776401,
                        "learn": [
                          0.1991038518
                        ]
                      },
                      {
                        "passed_time": 0.05403073776,
                        "iteration": 5,
                        "remaining_time": 8.951092223,
                        "learn": [
                          0.1922897916
                        ]
                      },
                      {
                        "passed_time": 0.05517656702,
                        "iteration": 6,
                        "remaining_time": 7.82719015,
                        "learn": [
                          0.1850659791
                        ]
                      },
                      {
                        "passed_time": 0.05634762075,
                        "iteration": 7,
                        "remaining_time": 6.987104973,
                        "learn": [
                          0.1778938598
                        ]
                      },
                      {
                        "passed_time": 0.0575045924,
                        "iteration": 8,
                        "remaining_time": 6.331894563,
                        "learn": [
                          0.1712772449
                        ]
                      },
                      {
                        "passed_time": 0.05863518042,
                        "iteration": 9,
                        "remaining_time": 5.804882861,
                        "learn": [
                          0.1649931377
                        ]
                      },
                      {
                        "passed_time": 0.05980190165,
                        "iteration": 10,
                        "remaining_time": 5.376734612,
                        "learn": [
                          0.1588724081
                        ]
                      },
                      {
                        "passed_time": 0.06097244491,
                        "iteration": 11,
                        "remaining_time": 5.020064631,
                        "learn": [
                          0.1528239305
                        ]
                      },
                      {
                        "passed_time": 0.06210498484,
                        "iteration": 12,
                        "remaining_time": 4.715201542,
                        "learn": [
                          0.1469244467
                        ]
                      },
                      {
                        "passed_time": 0.06327131606,
                        "iteration": 13,
                        "remaining_time": 4.456108403,
                        "learn": [
                          0.141452131
                        ]
                      },
                      {
                        "passed_time": 0.06443443621,
                        "iteration": 14,
                        "remaining_time": 4.231194644,
                        "learn": [
                          0.1361530007
                        ]
                      },
                      {
                        "passed_time": 0.06559932235,
                        "iteration": 15,
                        "remaining_time": 4.034358325,
                        "learn": [
                          0.1309168858
                        ]
                      },
                      {
                        "passed_time": 0.06671988167,
                        "iteration": 16,
                        "remaining_time": 3.85797904,
                        "learn": [
                          0.1259230752
                        ]
                      },
                      {
                        "passed_time": 0.06784533807,
                        "iteration": 17,
                        "remaining_time": 3.70134011,
                        "learn": [
                          0.1214456733
                        ]
                      },
                      {
                        "passed_time": 0.0689838924,
                        "iteration": 18,
                        "remaining_time": 3.561747287,
                        "learn": [
                          0.1169433015
                        ]
                      },
                      {
                        "passed_time": 0.07014153818,
                        "iteration": 19,
                        "remaining_time": 3.436935371,
                        "learn": [
                          0.1127359958
                        ]
                      },
                      {
                        "passed_time": 0.07130321143,
                        "iteration": 20,
                        "remaining_time": 3.324087809,
                        "learn": [
                          0.1087299945
                        ]
                      },
                      {
                        "passed_time": 0.07247217869,
                        "iteration": 21,
                        "remaining_time": 3.221717762,
                        "learn": [
                          0.1046476191
                        ]
                      },
                      {
                        "passed_time": 0.07361881071,
                        "iteration": 22,
                        "remaining_time": 3.127199046,
                        "learn": [
                          0.1009944345
                        ]
                      },
                      {
                        "passed_time": 0.07475309438,
                        "iteration": 23,
                        "remaining_time": 3.039959171,
                        "learn": [
                          0.09726506464
                        ]
                      },
                      {
                        "passed_time": 0.07591160292,
                        "iteration": 24,
                        "remaining_time": 2.960552514,
                        "learn": [
                          0.09377803642
                        ]
                      },
                      {
                        "passed_time": 0.07703729842,
                        "iteration": 25,
                        "remaining_time": 2.885935718,
                        "learn": [
                          0.09024136916
                        ]
                      },
                      {
                        "passed_time": 0.07817979478,
                        "iteration": 26,
                        "remaining_time": 2.81736816,
                        "learn": [
                          0.08687691569
                        ]
                      },
                      {
                        "passed_time": 0.07931333658,
                        "iteration": 27,
                        "remaining_time": 2.753305827,
                        "learn": [
                          0.08375878065
                        ]
                      },
                      {
                        "passed_time": 0.08046786038,
                        "iteration": 28,
                        "remaining_time": 2.694285946,
                        "learn": [
                          0.08065724682
                        ]
                      },
                      {
                        "passed_time": 0.08161044356,
                        "iteration": 29,
                        "remaining_time": 2.638737675,
                        "learn": [
                          0.07767675393
                        ]
                      },
                      {
                        "passed_time": 0.08277941946,
                        "iteration": 30,
                        "remaining_time": 2.587524434,
                        "learn": [
                          0.0748019058
                        ]
                      },
                      {
                        "passed_time": 0.08393877077,
                        "iteration": 31,
                        "remaining_time": 2.539147816,
                        "learn": [
                          0.07219610063
                        ]
                      },
                      {
                        "passed_time": 0.08510042811,
                        "iteration": 32,
                        "remaining_time": 2.493700424,
                        "learn": [
                          0.06971985941
                        ]
                      },
                      {
                        "passed_time": 0.08624200033,
                        "iteration": 33,
                        "remaining_time": 2.450287421,
                        "learn": [
                          0.06712544859
                        ]
                      },
                      {
                        "passed_time": 0.08738026193,
                        "iteration": 34,
                        "remaining_time": 2.40919865,
                        "learn": [
                          0.06485568681
                        ]
                      },
                      {
                        "passed_time": 0.08855832329,
                        "iteration": 35,
                        "remaining_time": 2.371395101,
                        "learn": [
                          0.06249411911
                        ]
                      },
                      {
                        "passed_time": 0.08969221603,
                        "iteration": 36,
                        "remaining_time": 2.334421731,
                        "learn": [
                          0.06019495971
                        ]
                      },
                      {
                        "passed_time": 0.09088818558,
                        "iteration": 37,
                        "remaining_time": 2.300906172,
                        "learn": [
                          0.05802967252
                        ]
                      },
                      {
                        "passed_time": 0.09202452344,
                        "iteration": 38,
                        "remaining_time": 2.267578642,
                        "learn": [
                          0.05595563965
                        ]
                      },
                      {
                        "passed_time": 0.09319902645,
                        "iteration": 39,
                        "remaining_time": 2.236776635,
                        "learn": [
                          0.05402901578
                        ]
                      },
                      {
                        "passed_time": 0.09444573497,
                        "iteration": 40,
                        "remaining_time": 2.209108776,
                        "learn": [
                          0.05212714189
                        ]
                      },
                      {
                        "passed_time": 0.09563106125,
                        "iteration": 41,
                        "remaining_time": 2.181298969,
                        "learn": [
                          0.05041488413
                        ]
                      },
                      {
                        "passed_time": 0.09679319862,
                        "iteration": 42,
                        "remaining_time": 2.15421142,
                        "learn": [
                          0.04865646928
                        ]
                      },
                      {
                        "passed_time": 0.09798866042,
                        "iteration": 43,
                        "remaining_time": 2.129026349,
                        "learn": [
                          0.04705015971
                        ]
                      },
                      {
                        "passed_time": 0.09915462389,
                        "iteration": 44,
                        "remaining_time": 2.104281463,
                        "learn": [
                          0.04542415056
                        ]
                      },
                      {
                        "passed_time": 0.1003226988,
                        "iteration": 45,
                        "remaining_time": 2.080605537,
                        "learn": [
                          0.04382385907
                        ]
                      },
                      {
                        "passed_time": 0.1015016184,
                        "iteration": 46,
                        "remaining_time": 2.058107284,
                        "learn": [
                          0.04234541024
                        ]
                      },
                      {
                        "passed_time": 0.1026435202,
                        "iteration": 47,
                        "remaining_time": 2.035763151,
                        "learn": [
                          0.0409333465
                        ]
                      },
                      {
                        "passed_time": 0.1038637137,
                        "iteration": 48,
                        "remaining_time": 2.015803914,
                        "learn": [
                          0.03962273109
                        ]
                      },
                      {
                        "passed_time": 0.1049885228,
                        "iteration": 49,
                        "remaining_time": 1.994781934,
                        "learn": [
                          0.03834684991
                        ]
                      },
                      {
                        "passed_time": 0.1061201695,
                        "iteration": 50,
                        "remaining_time": 1.974667468,
                        "learn": [
                          0.03706381474
                        ]
                      },
                      {
                        "passed_time": 0.1072468696,
                        "iteration": 51,
                        "remaining_time": 1.955192931,
                        "learn": [
                          0.03583364805
                        ]
                      },
                      {
                        "passed_time": 0.1084340396,
                        "iteration": 52,
                        "remaining_time": 1.937491237,
                        "learn": [
                          0.03471216259
                        ]
                      },
                      {
                        "passed_time": 0.1095594529,
                        "iteration": 53,
                        "remaining_time": 1.919319304,
                        "learn": [
                          0.03357958344
                        ]
                      },
                      {
                        "passed_time": 0.1107207284,
                        "iteration": 54,
                        "remaining_time": 1.902383424,
                        "learn": [
                          0.03250161756
                        ]
                      },
                      {
                        "passed_time": 0.1118903475,
                        "iteration": 55,
                        "remaining_time": 1.886151572,
                        "learn": [
                          0.03148257035
                        ]
                      },
                      {
                        "passed_time": 0.1130030791,
                        "iteration": 56,
                        "remaining_time": 1.869507081,
                        "learn": [
                          0.03049457225
                        ]
                      },
                      {
                        "passed_time": 0.1141227157,
                        "iteration": 57,
                        "remaining_time": 1.853510313,
                        "learn": [
                          0.02956674759
                        ]
                      },
                      {
                        "passed_time": 0.1152866531,
                        "iteration": 58,
                        "remaining_time": 1.838724417,
                        "learn": [
                          0.02868170043
                        ]
                      },
                      {
                        "passed_time": 0.1165157626,
                        "iteration": 59,
                        "remaining_time": 1.825413614,
                        "learn": [
                          0.02780465386
                        ]
                      },
                      {
                        "passed_time": 0.1177352211,
                        "iteration": 60,
                        "remaining_time": 1.81235037,
                        "learn": [
                          0.02701145465
                        ]
                      },
                      {
                        "passed_time": 0.118968058,
                        "iteration": 61,
                        "remaining_time": 1.799871587,
                        "learn": [
                          0.02620628849
                        ]
                      },
                      {
                        "passed_time": 0.1201206721,
                        "iteration": 62,
                        "remaining_time": 1.786556663,
                        "learn": [
                          0.02544125887
                        ]
                      },
                      {
                        "passed_time": 0.121273734,
                        "iteration": 63,
                        "remaining_time": 1.77362836,
                        "learn": [
                          0.02470287329
                        ]
                      },
                      {
                        "passed_time": 0.1224239544,
                        "iteration": 64,
                        "remaining_time": 1.761021498,
                        "learn": [
                          0.02400045531
                        ]
                      },
                      {
                        "passed_time": 0.1238726401,
                        "iteration": 65,
                        "remaining_time": 1.752985543,
                        "learn": [
                          0.02334650764
                        ]
                      },
                      {
                        "passed_time": 0.1271488223,
                        "iteration": 66,
                        "remaining_time": 1.770594794,
                        "learn": [
                          0.02269611911
                        ]
                      },
                      {
                        "passed_time": 0.1282967494,
                        "iteration": 67,
                        "remaining_time": 1.758420154,
                        "learn": [
                          0.02208165834
                        ]
                      },
                      {
                        "passed_time": 0.1294813838,
                        "iteration": 68,
                        "remaining_time": 1.747060411,
                        "learn": [
                          0.02152196813
                        ]
                      },
                      {
                        "passed_time": 0.1306224883,
                        "iteration": 69,
                        "remaining_time": 1.735413059,
                        "learn": [
                          0.0210045502
                        ]
                      },
                      {
                        "passed_time": 0.131800426,
                        "iteration": 70,
                        "remaining_time": 1.724543603,
                        "learn": [
                          0.02050780939
                        ]
                      },
                      {
                        "passed_time": 0.1329689201,
                        "iteration": 71,
                        "remaining_time": 1.713821637,
                        "learn": [
                          0.01995505754
                        ]
                      },
                      {
                        "passed_time": 0.1341014618,
                        "iteration": 72,
                        "remaining_time": 1.702904865,
                        "learn": [
                          0.01948178842
                        ]
                      },
                      {
                        "passed_time": 0.1352395762,
                        "iteration": 73,
                        "remaining_time": 1.692322264,
                        "learn": [
                          0.0190668821
                        ]
                      },
                      {
                        "passed_time": 0.1363608214,
                        "iteration": 74,
                        "remaining_time": 1.681783464,
                        "learn": [
                          0.01860702331
                        ]
                      },
                      {
                        "passed_time": 0.1375328448,
                        "iteration": 75,
                        "remaining_time": 1.672109849,
                        "learn": [
                          0.01815819196
                        ]
                      },
                      {
                        "passed_time": 0.1387395094,
                        "iteration": 76,
                        "remaining_time": 1.663072301,
                        "learn": [
                          0.01777722116
                        ]
                      },
                      {
                        "passed_time": 0.1398576491,
                        "iteration": 77,
                        "remaining_time": 1.653189134,
                        "learn": [
                          0.01739077572
                        ]
                      },
                      {
                        "passed_time": 0.1409834823,
                        "iteration": 78,
                        "remaining_time": 1.643617559,
                        "learn": [
                          0.01700105702
                        ]
                      },
                      {
                        "passed_time": 0.142123604,
                        "iteration": 79,
                        "remaining_time": 1.634421446,
                        "learn": [
                          0.01662082858
                        ]
                      },
                      {
                        "passed_time": 0.1432867996,
                        "iteration": 80,
                        "remaining_time": 1.625686035,
                        "learn": [
                          0.01628482185
                        ]
                      },
                      {
                        "passed_time": 0.1444312279,
                        "iteration": 81,
                        "remaining_time": 1.616925209,
                        "learn": [
                          0.01596913814
                        ]
                      },
                      {
                        "passed_time": 0.1455768453,
                        "iteration": 82,
                        "remaining_time": 1.60836105,
                        "learn": [
                          0.01565778207
                        ]
                      },
                      {
                        "passed_time": 0.1467179125,
                        "iteration": 83,
                        "remaining_time": 1.599923903,
                        "learn": [
                          0.01537739048
                        ]
                      },
                      {
                        "passed_time": 0.1478370649,
                        "iteration": 84,
                        "remaining_time": 1.591422522,
                        "learn": [
                          0.01510833348
                        ]
                      },
                      {
                        "passed_time": 0.148983571,
                        "iteration": 85,
                        "remaining_time": 1.583383534,
                        "learn": [
                          0.01488155884
                        ]
                      },
                      {
                        "passed_time": 0.1501181047,
                        "iteration": 86,
                        "remaining_time": 1.575377352,
                        "learn": [
                          0.01460826658
                        ]
                      },
                      {
                        "passed_time": 0.1512754914,
                        "iteration": 87,
                        "remaining_time": 1.567764183,
                        "learn": [
                          0.01434762149
                        ]
                      },
                      {
                        "passed_time": 0.1524257931,
                        "iteration": 88,
                        "remaining_time": 1.560223568,
                        "learn": [
                          0.01414482689
                        ]
                      },
                      {
                        "passed_time": 0.1535896497,
                        "iteration": 89,
                        "remaining_time": 1.552962013,
                        "learn": [
                          0.01392197989
                        ]
                      },
                      {
                        "passed_time": 0.1547477855,
                        "iteration": 90,
                        "remaining_time": 1.54577733,
                        "learn": [
                          0.01372301756
                        ]
                      },
                      {
                        "passed_time": 0.1561868902,
                        "iteration": 91,
                        "remaining_time": 1.541496699,
                        "learn": [
                          0.0135173158
                        ]
                      },
                      {
                        "passed_time": 0.1573583735,
                        "iteration": 92,
                        "remaining_time": 1.534667148,
                        "learn": [
                          0.01331774537
                        ]
                      },
                      {
                        "passed_time": 0.1585380791,
                        "iteration": 93,
                        "remaining_time": 1.52803723,
                        "learn": [
                          0.01315278018
                        ]
                      },
                      {
                        "passed_time": 0.1596699099,
                        "iteration": 94,
                        "remaining_time": 1.521065984,
                        "learn": [
                          0.01299322929
                        ]
                      },
                      {
                        "passed_time": 0.160815946,
                        "iteration": 95,
                        "remaining_time": 1.514350158,
                        "learn": [
                          0.01284287078
                        ]
                      },
                      {
                        "passed_time": 0.1619479922,
                        "iteration": 96,
                        "remaining_time": 1.507618938,
                        "learn": [
                          0.01269253021
                        ]
                      },
                      {
                        "passed_time": 0.1630969621,
                        "iteration": 97,
                        "remaining_time": 1.501157753,
                        "learn": [
                          0.0125628145
                        ]
                      },
                      {
                        "passed_time": 0.1642138485,
                        "iteration": 98,
                        "remaining_time": 1.494511894,
                        "learn": [
                          0.01242900426
                        ]
                      },
                      {
                        "passed_time": 0.1653813334,
                        "iteration": 99,
                        "remaining_time": 1.488432001,
                        "learn": [
                          0.01230877089
                        ]
                      },
                      {
                        "passed_time": 0.1666588881,
                        "iteration": 100,
                        "remaining_time": 1.483429113,
                        "learn": [
                          0.01219276381
                        ]
                      },
                      {
                        "passed_time": 0.1680510214,
                        "iteration": 101,
                        "remaining_time": 1.479508012,
                        "learn": [
                          0.01207197605
                        ]
                      },
                      {
                        "passed_time": 0.1692775448,
                        "iteration": 102,
                        "remaining_time": 1.474193764,
                        "learn": [
                          0.01197175145
                        ]
                      },
                      {
                        "passed_time": 0.1704509209,
                        "iteration": 103,
                        "remaining_time": 1.468500241,
                        "learn": [
                          0.01187644626
                        ]
                      },
                      {
                        "passed_time": 0.1715907994,
                        "iteration": 104,
                        "remaining_time": 1.46260729,
                        "learn": [
                          0.01178129719
                        ]
                      },
                      {
                        "passed_time": 0.1727575424,
                        "iteration": 105,
                        "remaining_time": 1.457030594,
                        "learn": [
                          0.01168849804
                        ]
                      },
                      {
                        "passed_time": 0.1739278402,
                        "iteration": 106,
                        "remaining_time": 1.451565994,
                        "learn": [
                          0.01159757654
                        ]
                      },
                      {
                        "passed_time": 0.1750744804,
                        "iteration": 107,
                        "remaining_time": 1.445985523,
                        "learn": [
                          0.01151499445
                        ]
                      },
                      {
                        "passed_time": 0.176212757,
                        "iteration": 108,
                        "remaining_time": 1.440418041,
                        "learn": [
                          0.01143805614
                        ]
                      },
                      {
                        "passed_time": 0.1773612991,
                        "iteration": 109,
                        "remaining_time": 1.435014148,
                        "learn": [
                          0.01135057904
                        ]
                      },
                      {
                        "passed_time": 0.1785257034,
                        "iteration": 110,
                        "remaining_time": 1.429813967,
                        "learn": [
                          0.01127844281
                        ]
                      },
                      {
                        "passed_time": 0.1796821782,
                        "iteration": 111,
                        "remaining_time": 1.424622985,
                        "learn": [
                          0.01120729908
                        ]
                      },
                      {
                        "passed_time": 0.1809540431,
                        "iteration": 112,
                        "remaining_time": 1.42040917,
                        "learn": [
                          0.01114602589
                        ]
                      },
                      {
                        "passed_time": 0.1821411963,
                        "iteration": 113,
                        "remaining_time": 1.415588595,
                        "learn": [
                          0.01107635445
                        ]
                      },
                      {
                        "passed_time": 0.1833304032,
                        "iteration": 114,
                        "remaining_time": 1.410847016,
                        "learn": [
                          0.01101571681
                        ]
                      },
                      {
                        "passed_time": 0.1845023733,
                        "iteration": 115,
                        "remaining_time": 1.406035328,
                        "learn": [
                          0.01096956198
                        ]
                      },
                      {
                        "passed_time": 0.185619162,
                        "iteration": 116,
                        "remaining_time": 1.400869402,
                        "learn": [
                          0.01092287542
                        ]
                      },
                      {
                        "passed_time": 0.1867333051,
                        "iteration": 117,
                        "remaining_time": 1.395752331,
                        "learn": [
                          0.01087875172
                        ]
                      },
                      {
                        "passed_time": 0.1879585225,
                        "iteration": 118,
                        "remaining_time": 1.39152486,
                        "learn": [
                          0.01083442264
                        ]
                      },
                      {
                        "passed_time": 0.1891207899,
                        "iteration": 119,
                        "remaining_time": 1.386885793,
                        "learn": [
                          0.01078238994
                        ]
                      },
                      {
                        "passed_time": 0.1902902513,
                        "iteration": 120,
                        "remaining_time": 1.382356453,
                        "learn": [
                          0.0107409735
                        ]
                      },
                      {
                        "passed_time": 0.1914141535,
                        "iteration": 121,
                        "remaining_time": 1.377554318,
                        "learn": [
                          0.01069068486
                        ]
                      },
                      {
                        "passed_time": 0.1925674781,
                        "iteration": 122,
                        "remaining_time": 1.373021775,
                        "learn": [
                          0.01064303048
                        ]
                      },
                      {
                        "passed_time": 0.1937945261,
                        "iteration": 123,
                        "remaining_time": 1.369064555,
                        "learn": [
                          0.01058988736
                        ]
                      },
                      {
                        "passed_time": 0.1949553034,
                        "iteration": 124,
                        "remaining_time": 1.364687124,
                        "learn": [
                          0.01055050022
                        ]
                      },
                      {
                        "passed_time": 0.1961265471,
                        "iteration": 125,
                        "remaining_time": 1.360433351,
                        "learn": [
                          0.01050656838
                        ]
                      },
                      {
                        "passed_time": 0.1973028016,
                        "iteration": 126,
                        "remaining_time": 1.356262565,
                        "learn": [
                          0.01047001819
                        ]
                      },
                      {
                        "passed_time": 0.1984462975,
                        "iteration": 127,
                        "remaining_time": 1.351915402,
                        "learn": [
                          0.01043973705
                        ]
                      },
                      {
                        "passed_time": 0.1996553178,
                        "iteration": 128,
                        "remaining_time": 1.348060324,
                        "learn": [
                          0.0104075491
                        ]
                      },
                      {
                        "passed_time": 0.2008327014,
                        "iteration": 129,
                        "remaining_time": 1.344034232,
                        "learn": [
                          0.01036412676
                        ]
                      },
                      {
                        "passed_time": 0.2019535648,
                        "iteration": 130,
                        "remaining_time": 1.339676701,
                        "learn": [
                          0.01033591861
                        ]
                      },
                      {
                        "passed_time": 0.2031131984,
                        "iteration": 131,
                        "remaining_time": 1.335623153,
                        "learn": [
                          0.01030601062
                        ]
                      },
                      {
                        "passed_time": 0.2043658954,
                        "iteration": 132,
                        "remaining_time": 1.332219784,
                        "learn": [
                          0.01027456038
                        ]
                      },
                      {
                        "passed_time": 0.2055820692,
                        "iteration": 133,
                        "remaining_time": 1.328612477,
                        "learn": [
                          0.01023759643
                        ]
                      },
                      {
                        "passed_time": 0.206737263,
                        "iteration": 134,
                        "remaining_time": 1.32464987,
                        "learn": [
                          0.01021205055
                        ]
                      },
                      {
                        "passed_time": 0.2078786675,
                        "iteration": 135,
                        "remaining_time": 1.320640947,
                        "learn": [
                          0.01018386543
                        ]
                      },
                      {
                        "passed_time": 0.2089820837,
                        "iteration": 136,
                        "remaining_time": 1.316434586,
                        "learn": [
                          0.01016237646
                        ]
                      },
                      {
                        "passed_time": 0.2101285639,
                        "iteration": 137,
                        "remaining_time": 1.312542189,
                        "learn": [
                          0.01013369164
                        ]
                      },
                      {
                        "passed_time": 0.2112687883,
                        "iteration": 138,
                        "remaining_time": 1.308650552,
                        "learn": [
                          0.01009897994
                        ]
                      },
                      {
                        "passed_time": 0.2124468579,
                        "iteration": 139,
                        "remaining_time": 1.305030698,
                        "learn": [
                          0.01006368988
                        ]
                      },
                      {
                        "passed_time": 0.2136358339,
                        "iteration": 140,
                        "remaining_time": 1.301511924,
                        "learn": [
                          0.01003698133
                        ]
                      },
                      {
                        "passed_time": 0.214759892,
                        "iteration": 141,
                        "remaining_time": 1.297633714,
                        "learn": [
                          0.01001677976
                        ]
                      },
                      {
                        "passed_time": 0.2158865335,
                        "iteration": 142,
                        "remaining_time": 1.293809505,
                        "learn": [
                          0.01000215786
                        ]
                      },
                      {
                        "passed_time": 0.2170262569,
                        "iteration": 143,
                        "remaining_time": 1.290100527,
                        "learn": [
                          0.009981857344
                        ]
                      },
                      {
                        "passed_time": 0.2181847864,
                        "iteration": 144,
                        "remaining_time": 1.286537878,
                        "learn": [
                          0.009950860985
                        ]
                      },
                      {
                        "passed_time": 0.2193036279,
                        "iteration": 145,
                        "remaining_time": 1.282776015,
                        "learn": [
                          0.009932849895
                        ]
                      },
                      {
                        "passed_time": 0.2204482335,
                        "iteration": 146,
                        "remaining_time": 1.279199613,
                        "learn": [
                          0.009916583704
                        ]
                      },
                      {
                        "passed_time": 0.221648931,
                        "iteration": 147,
                        "remaining_time": 1.275978981,
                        "learn": [
                          0.009888208015
                        ]
                      },
                      {
                        "passed_time": 0.2228750312,
                        "iteration": 148,
                        "remaining_time": 1.272930547,
                        "learn": [
                          0.009868693448
                        ]
                      },
                      {
                        "passed_time": 0.2240192945,
                        "iteration": 149,
                        "remaining_time": 1.269442669,
                        "learn": [
                          0.009851482611
                        ]
                      },
                      {
                        "passed_time": 0.225174546,
                        "iteration": 150,
                        "remaining_time": 1.266047613,
                        "learn": [
                          0.00982730948
                        ]
                      },
                      {
                        "passed_time": 0.2263157455,
                        "iteration": 151,
                        "remaining_time": 1.262603633,
                        "learn": [
                          0.009811703732
                        ]
                      },
                      {
                        "passed_time": 0.227430049,
                        "iteration": 152,
                        "remaining_time": 1.25904086,
                        "learn": [
                          0.009800415879
                        ]
                      },
                      {
                        "passed_time": 0.2285482078,
                        "iteration": 153,
                        "remaining_time": 1.255531064,
                        "learn": [
                          0.009783751481
                        ]
                      },
                      {
                        "passed_time": 0.2297535933,
                        "iteration": 154,
                        "remaining_time": 1.252527654,
                        "learn": [
                          0.009762129224
                        ]
                      },
                      {
                        "passed_time": 0.2309484969,
                        "iteration": 155,
                        "remaining_time": 1.249490586,
                        "learn": [
                          0.009735167802
                        ]
                      },
                      {
                        "passed_time": 0.2320914983,
                        "iteration": 156,
                        "remaining_time": 1.2461983,
                        "learn": [
                          0.009713227878
                        ]
                      },
                      {
                        "passed_time": 0.2332651853,
                        "iteration": 157,
                        "remaining_time": 1.243096747,
                        "learn": [
                          0.009696846442
                        ]
                      },
                      {
                        "passed_time": 0.2344900973,
                        "iteration": 158,
                        "remaining_time": 1.240290389,
                        "learn": [
                          0.009666729406
                        ]
                      },
                      {
                        "passed_time": 0.2358385596,
                        "iteration": 159,
                        "remaining_time": 1.238152438,
                        "learn": [
                          0.009655010885
                        ]
                      },
                      {
                        "passed_time": 0.2370977461,
                        "iteration": 160,
                        "remaining_time": 1.235559062,
                        "learn": [
                          0.009634069593
                        ]
                      },
                      {
                        "passed_time": 0.2382424212,
                        "iteration": 161,
                        "remaining_time": 1.232389808,
                        "learn": [
                          0.009616158644
                        ]
                      },
                      {
                        "passed_time": 0.2394103925,
                        "iteration": 162,
                        "remaining_time": 1.229365022,
                        "learn": [
                          0.009593991381
                        ]
                      },
                      {
                        "passed_time": 0.2405696042,
                        "iteration": 163,
                        "remaining_time": 1.226318227,
                        "learn": [
                          0.009563502881
                        ]
                      },
                      {
                        "passed_time": 0.2417098668,
                        "iteration": 164,
                        "remaining_time": 1.223198417,
                        "learn": [
                          0.009553866349
                        ]
                      },
                      {
                        "passed_time": 0.2428263987,
                        "iteration": 165,
                        "remaining_time": 1.219983232,
                        "learn": [
                          0.009539513577
                        ]
                      },
                      {
                        "passed_time": 0.2439577818,
                        "iteration": 166,
                        "remaining_time": 1.216867259,
                        "learn": [
                          0.009519828464
                        ]
                      },
                      {
                        "passed_time": 0.2451386755,
                        "iteration": 167,
                        "remaining_time": 1.214020107,
                        "learn": [
                          0.009501078283
                        ]
                      },
                      {
                        "passed_time": 0.2463281884,
                        "iteration": 168,
                        "remaining_time": 1.211235057,
                        "learn": [
                          0.009480884224
                        ]
                      },
                      {
                        "passed_time": 0.247489438,
                        "iteration": 169,
                        "remaining_time": 1.208330785,
                        "learn": [
                          0.009472731676
                        ]
                      },
                      {
                        "passed_time": 0.2486409189,
                        "iteration": 170,
                        "remaining_time": 1.205399543,
                        "learn": [
                          0.009451076949
                        ]
                      },
                      {
                        "passed_time": 0.2497681458,
                        "iteration": 171,
                        "remaining_time": 1.202372237,
                        "learn": [
                          0.009435265324
                        ]
                      },
                      {
                        "passed_time": 0.2509567891,
                        "iteration": 172,
                        "remaining_time": 1.199660489,
                        "learn": [
                          0.009417989155
                        ]
                      },
                      {
                        "passed_time": 0.2522988307,
                        "iteration": 173,
                        "remaining_time": 1.197694449,
                        "learn": [
                          0.009409896149
                        ]
                      },
                      {
                        "passed_time": 0.2535981524,
                        "iteration": 174,
                        "remaining_time": 1.195534147,
                        "learn": [
                          0.009388255825
                        ]
                      },
                      {
                        "passed_time": 0.2548863694,
                        "iteration": 175,
                        "remaining_time": 1.193331639,
                        "learn": [
                          0.009366360075
                        ]
                      },
                      {
                        "passed_time": 0.2560227832,
                        "iteration": 176,
                        "remaining_time": 1.190433619,
                        "learn": [
                          0.009356169964
                        ]
                      },
                      {
                        "passed_time": 0.2571338684,
                        "iteration": 177,
                        "remaining_time": 1.187438426,
                        "learn": [
                          0.009340950137
                        ]
                      },
                      {
                        "passed_time": 0.2582898091,
                        "iteration": 178,
                        "remaining_time": 1.184670018,
                        "learn": [
                          0.00931358175
                        ]
                      },
                      {
                        "passed_time": 0.2594241468,
                        "iteration": 179,
                        "remaining_time": 1.181821113,
                        "learn": [
                          0.009296150794
                        ]
                      },
                      {
                        "passed_time": 0.2606176276,
                        "iteration": 180,
                        "remaining_time": 1.179258768,
                        "learn": [
                          0.00927571461
                        ]
                      },
                      {
                        "passed_time": 0.2617679335,
                        "iteration": 181,
                        "remaining_time": 1.176517415,
                        "learn": [
                          0.009260311694
                        ]
                      },
                      {
                        "passed_time": 0.262923435,
                        "iteration": 182,
                        "remaining_time": 1.173816647,
                        "learn": [
                          0.009245490225
                        ]
                      },
                      {
                        "passed_time": 0.264101981,
                        "iteration": 183,
                        "remaining_time": 1.171234872,
                        "learn": [
                          0.00922063467
                        ]
                      },
                      {
                        "passed_time": 0.2684652585,
                        "iteration": 184,
                        "remaining_time": 1.182698301,
                        "learn": [
                          0.009202876776
                        ]
                      },
                      {
                        "passed_time": 0.2706260485,
                        "iteration": 185,
                        "remaining_time": 1.184352707,
                        "learn": [
                          0.009186451732
                        ]
                      },
                      {
                        "passed_time": 0.2772970158,
                        "iteration": 186,
                        "remaining_time": 1.205574727,
                        "learn": [
                          0.0091825533
                        ]
                      },
                      {
                        "passed_time": 0.2787609837,
                        "iteration": 187,
                        "remaining_time": 1.204010206,
                        "learn": [
                          0.009165397598
                        ]
                      },
                      {
                        "passed_time": 0.2799863843,
                        "iteration": 188,
                        "remaining_time": 1.201423056,
                        "learn": [
                          0.009150814057
                        ]
                      },
                      {
                        "passed_time": 0.2811764745,
                        "iteration": 189,
                        "remaining_time": 1.198699707,
                        "learn": [
                          0.009128743578
                        ]
                      },
                      {
                        "passed_time": 0.2823145829,
                        "iteration": 190,
                        "remaining_time": 1.195772238,
                        "learn": [
                          0.009116838505
                        ]
                      },
                      {
                        "passed_time": 0.2837764088,
                        "iteration": 191,
                        "remaining_time": 1.19422572,
                        "learn": [
                          0.009112846802
                        ]
                      },
                      {
                        "passed_time": 0.2849293966,
                        "iteration": 192,
                        "remaining_time": 1.191388721,
                        "learn": [
                          0.009100230798
                        ]
                      },
                      {
                        "passed_time": 0.286071643,
                        "iteration": 193,
                        "remaining_time": 1.188524455,
                        "learn": [
                          0.009085671052
                        ]
                      },
                      {
                        "passed_time": 0.2871887307,
                        "iteration": 194,
                        "remaining_time": 1.185573991,
                        "learn": [
                          0.00907668239
                        ]
                      },
                      {
                        "passed_time": 0.2883856376,
                        "iteration": 195,
                        "remaining_time": 1.182969656,
                        "learn": [
                          0.009060874512
                        ]
                      },
                      {
                        "passed_time": 0.2895607684,
                        "iteration": 196,
                        "remaining_time": 1.180290848,
                        "learn": [
                          0.009052866601
                        ]
                      },
                      {
                        "passed_time": 0.2927936302,
                        "iteration": 197,
                        "remaining_time": 1.185962078,
                        "learn": [
                          0.00902736371
                        ]
                      },
                      {
                        "passed_time": 0.2944021377,
                        "iteration": 198,
                        "remaining_time": 1.18500559,
                        "learn": [
                          0.009018791731
                        ]
                      },
                      {
                        "passed_time": 0.2958921751,
                        "iteration": 199,
                        "remaining_time": 1.1835687,
                        "learn": [
                          0.009002207325
                        ]
                      },
                      {
                        "passed_time": 0.3004124798,
                        "iteration": 200,
                        "remaining_time": 1.194176972,
                        "learn": [
                          0.008988747446
                        ]
                      },
                      {
                        "passed_time": 0.3016608098,
                        "iteration": 201,
                        "remaining_time": 1.191709536,
                        "learn": [
                          0.008973138511
                        ]
                      },
                      {
                        "passed_time": 0.3029538539,
                        "iteration": 202,
                        "remaining_time": 1.189429663,
                        "learn": [
                          0.008966692266
                        ]
                      },
                      {
                        "passed_time": 0.304142013,
                        "iteration": 203,
                        "remaining_time": 1.186750208,
                        "learn": [
                          0.008952838315
                        ]
                      },
                      {
                        "passed_time": 0.3052780827,
                        "iteration": 204,
                        "remaining_time": 1.183883296,
                        "learn": [
                          0.008941170166
                        ]
                      },
                      {
                        "passed_time": 0.3064680356,
                        "iteration": 205,
                        "remaining_time": 1.181240875,
                        "learn": [
                          0.008928340384
                        ]
                      },
                      {
                        "passed_time": 0.3076181964,
                        "iteration": 206,
                        "remaining_time": 1.178460047,
                        "learn": [
                          0.00890338428
                        ]
                      },
                      {
                        "passed_time": 0.3088368781,
                        "iteration": 207,
                        "remaining_time": 1.175955805,
                        "learn": [
                          0.008896770638
                        ]
                      },
                      {
                        "passed_time": 0.3099936006,
                        "iteration": 208,
                        "remaining_time": 1.173229369,
                        "learn": [
                          0.008893848115
                        ]
                      },
                      {
                        "passed_time": 0.3112024776,
                        "iteration": 209,
                        "remaining_time": 1.170714083,
                        "learn": [
                          0.008880115059
                        ]
                      },
                      {
                        "passed_time": 0.312405978,
                        "iteration": 210,
                        "remaining_time": 1.168191074,
                        "learn": [
                          0.008869732868
                        ]
                      },
                      {
                        "passed_time": 0.3136950174,
                        "iteration": 211,
                        "remaining_time": 1.165998461,
                        "learn": [
                          0.00885899862
                        ]
                      },
                      {
                        "passed_time": 0.3149474112,
                        "iteration": 212,
                        "remaining_time": 1.163678932,
                        "learn": [
                          0.008841468793
                        ]
                      },
                      {
                        "passed_time": 0.3160775124,
                        "iteration": 213,
                        "remaining_time": 1.160920209,
                        "learn": [
                          0.00882751159
                        ]
                      },
                      {
                        "passed_time": 0.3172746497,
                        "iteration": 214,
                        "remaining_time": 1.158421395,
                        "learn": [
                          0.008812968214
                        ]
                      },
                      {
                        "passed_time": 0.3184229395,
                        "iteration": 215,
                        "remaining_time": 1.155757336,
                        "learn": [
                          0.008803286915
                        ]
                      },
                      {
                        "passed_time": 0.3195550295,
                        "iteration": 216,
                        "remaining_time": 1.153048793,
                        "learn": [
                          0.008800987548
                        ]
                      },
                      {
                        "passed_time": 0.3207269137,
                        "iteration": 217,
                        "remaining_time": 1.150497461,
                        "learn": [
                          0.008775462811
                        ]
                      },
                      {
                        "passed_time": 0.3218345187,
                        "iteration": 218,
                        "remaining_time": 1.147729494,
                        "learn": [
                          0.008762564528
                        ]
                      },
                      {
                        "passed_time": 0.3230108563,
                        "iteration": 219,
                        "remaining_time": 1.145220309,
                        "learn": [
                          0.008753338023
                        ]
                      },
                      {
                        "passed_time": 0.3242307653,
                        "iteration": 220,
                        "remaining_time": 1.14287677,
                        "learn": [
                          0.008742925341
                        ]
                      },
                      {
                        "passed_time": 0.3254208627,
                        "iteration": 221,
                        "remaining_time": 1.140438879,
                        "learn": [
                          0.00871696147
                        ]
                      },
                      {
                        "passed_time": 0.3265644478,
                        "iteration": 222,
                        "remaining_time": 1.137850116,
                        "learn": [
                          0.008702647406
                        ]
                      },
                      {
                        "passed_time": 0.3277396017,
                        "iteration": 223,
                        "remaining_time": 1.13538362,
                        "learn": [
                          0.008693515821
                        ]
                      },
                      {
                        "passed_time": 0.3288975834,
                        "iteration": 224,
                        "remaining_time": 1.132869454,
                        "learn": [
                          0.008689020904
                        ]
                      },
                      {
                        "passed_time": 0.3300183028,
                        "iteration": 225,
                        "remaining_time": 1.130239674,
                        "learn": [
                          0.00868009935
                        ]
                      },
                      {
                        "passed_time": 0.3311823261,
                        "iteration": 226,
                        "remaining_time": 1.127770652,
                        "learn": [
                          0.008673750302
                        ]
                      },
                      {
                        "passed_time": 0.3323238229,
                        "iteration": 227,
                        "remaining_time": 1.125236804,
                        "learn": [
                          0.008670148876
                        ]
                      },
                      {
                        "passed_time": 0.3334820123,
                        "iteration": 228,
                        "remaining_time": 1.122771317,
                        "learn": [
                          0.008663258702
                        ]
                      },
                      {
                        "passed_time": 0.334661462,
                        "iteration": 229,
                        "remaining_time": 1.120388373,
                        "learn": [
                          0.008654218
                        ]
                      },
                      {
                        "passed_time": 0.3358120633,
                        "iteration": 230,
                        "remaining_time": 1.117919812,
                        "learn": [
                          0.008646622642
                        ]
                      },
                      {
                        "passed_time": 0.3369557438,
                        "iteration": 231,
                        "remaining_time": 1.115439704,
                        "learn": [
                          0.008637954815
                        ]
                      },
                      {
                        "passed_time": 0.3380974415,
                        "iteration": 232,
                        "remaining_time": 1.112964539,
                        "learn": [
                          0.008628772154
                        ]
                      },
                      {
                        "passed_time": 0.3392298855,
                        "iteration": 233,
                        "remaining_time": 1.11047048,
                        "learn": [
                          0.008616002848
                        ]
                      },
                      {
                        "passed_time": 0.3403454759,
                        "iteration": 234,
                        "remaining_time": 1.107933145,
                        "learn": [
                          0.008615047414
                        ]
                      },
                      {
                        "passed_time": 0.3417987182,
                        "iteration": 235,
                        "remaining_time": 1.106500935,
                        "learn": [
                          0.008606489137
                        ]
                      },
                      {
                        "passed_time": 0.3429978248,
                        "iteration": 236,
                        "remaining_time": 1.104250381,
                        "learn": [
                          0.008604429023
                        ]
                      },
                      {
                        "passed_time": 0.3442301257,
                        "iteration": 237,
                        "remaining_time": 1.10211494,
                        "learn": [
                          0.008595140337
                        ]
                      },
                      {
                        "passed_time": 0.3455593439,
                        "iteration": 238,
                        "remaining_time": 1.100295652,
                        "learn": [
                          0.008571344456
                        ]
                      },
                      {
                        "passed_time": 0.3467725471,
                        "iteration": 239,
                        "remaining_time": 1.098113066,
                        "learn": [
                          0.008564876002
                        ]
                      },
                      {
                        "passed_time": 0.348029738,
                        "iteration": 240,
                        "remaining_time": 1.096077059,
                        "learn": [
                          0.008556729233
                        ]
                      },
                      {
                        "passed_time": 0.3492753615,
                        "iteration": 241,
                        "remaining_time": 1.094011256,
                        "learn": [
                          0.008539495022
                        ]
                      },
                      {
                        "passed_time": 0.3506214978,
                        "iteration": 242,
                        "remaining_time": 1.092265324,
                        "learn": [
                          0.008518687811
                        ]
                      },
                      {
                        "passed_time": 0.351848063,
                        "iteration": 243,
                        "remaining_time": 1.090152195,
                        "learn": [
                          0.008510977782
                        ]
                      },
                      {
                        "passed_time": 0.3531283237,
                        "iteration": 244,
                        "remaining_time": 1.088211773,
                        "learn": [
                          0.008496298018
                        ]
                      },
                      {
                        "passed_time": 0.3543634926,
                        "iteration": 245,
                        "remaining_time": 1.08613851,
                        "learn": [
                          0.008489805977
                        ]
                      },
                      {
                        "passed_time": 0.355565032,
                        "iteration": 246,
                        "remaining_time": 1.08396951,
                        "learn": [
                          0.008470511219
                        ]
                      },
                      {
                        "passed_time": 0.3567380772,
                        "iteration": 247,
                        "remaining_time": 1.081721911,
                        "learn": [
                          0.008462853631
                        ]
                      },
                      {
                        "passed_time": 0.3579297833,
                        "iteration": 248,
                        "remaining_time": 1.079539226,
                        "learn": [
                          0.00845341326
                        ]
                      },
                      {
                        "passed_time": 0.3590936958,
                        "iteration": 249,
                        "remaining_time": 1.077281087,
                        "learn": [
                          0.008445617532
                        ]
                      },
                      {
                        "passed_time": 0.3602564832,
                        "iteration": 250,
                        "remaining_time": 1.07502831,
                        "learn": [
                          0.008438042693
                        ]
                      },
                      {
                        "passed_time": 0.3614427618,
                        "iteration": 251,
                        "remaining_time": 1.072853912,
                        "learn": [
                          0.008430105959
                        ]
                      },
                      {
                        "passed_time": 0.3626895253,
                        "iteration": 252,
                        "remaining_time": 1.070865911,
                        "learn": [
                          0.008423032511
                        ]
                      },
                      {
                        "passed_time": 0.3638323685,
                        "iteration": 253,
                        "remaining_time": 1.068578531,
                        "learn": [
                          0.008421697672
                        ]
                      },
                      {
                        "passed_time": 0.3652895746,
                        "iteration": 254,
                        "remaining_time": 1.067218561,
                        "learn": [
                          0.008414926441
                        ]
                      },
                      {
                        "passed_time": 0.3665444177,
                        "iteration": 255,
                        "remaining_time": 1.065269714,
                        "learn": [
                          0.00839694079
                        ]
                      },
                      {
                        "passed_time": 0.3678388496,
                        "iteration": 256,
                        "remaining_time": 1.063440721,
                        "learn": [
                          0.008385749171
                        ]
                      },
                      {
                        "passed_time": 0.3690580871,
                        "iteration": 257,
                        "remaining_time": 1.061399615,
                        "learn": [
                          0.008374983882
                        ]
                      },
                      {
                        "passed_time": 0.3702827632,
                        "iteration": 258,
                        "remaining_time": 1.059380415,
                        "learn": [
                          0.008358411239
                        ]
                      },
                      {
                        "passed_time": 0.3714500153,
                        "iteration": 259,
                        "remaining_time": 1.05720389,
                        "learn": [
                          0.008357637703
                        ]
                      },
                      {
                        "passed_time": 0.3741917129,
                        "iteration": 260,
                        "remaining_time": 1.059493011,
                        "learn": [
                          0.008350459557
                        ]
                      },
                      {
                        "passed_time": 0.3759263096,
                        "iteration": 261,
                        "remaining_time": 1.058906933,
                        "learn": [
                          0.008342203209
                        ]
                      },
                      {
                        "passed_time": 0.3774077706,
                        "iteration": 262,
                        "remaining_time": 1.057602764,
                        "learn": [
                          0.008320894645
                        ]
                      },
                      {
                        "passed_time": 0.378956051,
                        "iteration": 263,
                        "remaining_time": 1.056483536,
                        "learn": [
                          0.00831000877
                        ]
                      },
                      {
                        "passed_time": 0.3807552188,
                        "iteration": 264,
                        "remaining_time": 1.056056928,
                        "learn": [
                          0.008301244298
                        ]
                      },
                      {
                        "passed_time": 0.3819848728,
                        "iteration": 265,
                        "remaining_time": 1.054048484,
                        "learn": [
                          0.008292007299
                        ]
                      },
                      {
                        "passed_time": 0.3831565829,
                        "iteration": 266,
                        "remaining_time": 1.051886799,
                        "learn": [
                          0.008284920013
                        ]
                      },
                      {
                        "passed_time": 0.3846150209,
                        "iteration": 267,
                        "remaining_time": 1.050515654,
                        "learn": [
                          0.008279481888
                        ]
                      },
                      {
                        "passed_time": 0.3859049421,
                        "iteration": 268,
                        "remaining_time": 1.048685921,
                        "learn": [
                          0.008260685297
                        ]
                      },
                      {
                        "passed_time": 0.387141637,
                        "iteration": 269,
                        "remaining_time": 1.046716278,
                        "learn": [
                          0.008253982878
                        ]
                      },
                      {
                        "passed_time": 0.3883811797,
                        "iteration": 270,
                        "remaining_time": 1.044759705,
                        "learn": [
                          0.008247531222
                        ]
                      },
                      {
                        "passed_time": 0.3896512548,
                        "iteration": 271,
                        "remaining_time": 1.042890123,
                        "learn": [
                          0.008241256371
                        ]
                      },
                      {
                        "passed_time": 0.3908889015,
                        "iteration": 272,
                        "remaining_time": 1.040938577,
                        "learn": [
                          0.008234639065
                        ]
                      },
                      {
                        "passed_time": 0.3920663315,
                        "iteration": 273,
                        "remaining_time": 1.038832689,
                        "learn": [
                          0.008228437174
                        ]
                      },
                      {
                        "passed_time": 0.3932141413,
                        "iteration": 274,
                        "remaining_time": 1.036655463,
                        "learn": [
                          0.008225449678
                        ]
                      },
                      {
                        "passed_time": 0.3944349072,
                        "iteration": 275,
                        "remaining_time": 1.034677075,
                        "learn": [
                          0.00821758475
                        ]
                      },
                      {
                        "passed_time": 0.3956329536,
                        "iteration": 276,
                        "remaining_time": 1.032644857,
                        "learn": [
                          0.008201748916
                        ]
                      },
                      {
                        "passed_time": 0.3968114682,
                        "iteration": 277,
                        "remaining_time": 1.030567914,
                        "learn": [
                          0.008194687508
                        ]
                      },
                      {
                        "passed_time": 0.3979811091,
                        "iteration": 278,
                        "remaining_time": 1.028474479,
                        "learn": [
                          0.008177426793
                        ]
                      },
                      {
                        "passed_time": 0.3992000785,
                        "iteration": 279,
                        "remaining_time": 1.026514488,
                        "learn": [
                          0.00817125964
                        ]
                      },
                      {
                        "passed_time": 0.4003916656,
                        "iteration": 280,
                        "remaining_time": 1.024489707,
                        "learn": [
                          0.008155036006
                        ]
                      },
                      {
                        "passed_time": 0.4016458795,
                        "iteration": 281,
                        "remaining_time": 1.022630289,
                        "learn": [
                          0.008132806929
                        ]
                      },
                      {
                        "passed_time": 0.4028117461,
                        "iteration": 282,
                        "remaining_time": 1.020551314,
                        "learn": [
                          0.00812888272
                        ]
                      },
                      {
                        "passed_time": 0.4040395741,
                        "iteration": 283,
                        "remaining_time": 1.018634983,
                        "learn": [
                          0.00812356554
                        ]
                      },
                      {
                        "passed_time": 0.4052597558,
                        "iteration": 284,
                        "remaining_time": 1.0167043,
                        "learn": [
                          0.008106073173
                        ]
                      },
                      {
                        "passed_time": 0.4064668001,
                        "iteration": 285,
                        "remaining_time": 1.014745788,
                        "learn": [
                          0.008099031397
                        ]
                      },
                      {
                        "passed_time": 0.4079438881,
                        "iteration": 286,
                        "remaining_time": 1.013463388,
                        "learn": [
                          0.008086636693
                        ]
                      },
                      {
                        "passed_time": 0.4099665928,
                        "iteration": 287,
                        "remaining_time": 1.013528521,
                        "learn": [
                          0.008080262617
                        ]
                      },
                      {
                        "passed_time": 0.4132460652,
                        "iteration": 288,
                        "remaining_time": 1.016671116,
                        "learn": [
                          0.008072333639
                        ]
                      },
                      {
                        "passed_time": 0.4173585317,
                        "iteration": 289,
                        "remaining_time": 1.021808819,
                        "learn": [
                          0.008060508298
                        ]
                      },
                      {
                        "passed_time": 0.4197752271,
                        "iteration": 290,
                        "remaining_time": 1.022751327,
                        "learn": [
                          0.008045208401
                        ]
                      },
                      {
                        "passed_time": 0.4212649167,
                        "iteration": 291,
                        "remaining_time": 1.021423154,
                        "learn": [
                          0.008035485949
                        ]
                      },
                      {
                        "passed_time": 0.422531094,
                        "iteration": 292,
                        "remaining_time": 1.019554551,
                        "learn": [
                          0.008023345302
                        ]
                      },
                      {
                        "passed_time": 0.4237783321,
                        "iteration": 293,
                        "remaining_time": 1.017644566,
                        "learn": [
                          0.008011696851
                        ]
                      },
                      {
                        "passed_time": 0.4249995525,
                        "iteration": 294,
                        "remaining_time": 1.015676897,
                        "learn": [
                          0.008005360857
                        ]
                      },
                      {
                        "passed_time": 0.4262462178,
                        "iteration": 295,
                        "remaining_time": 1.013774788,
                        "learn": [
                          0.007994370335
                        ]
                      },
                      {
                        "passed_time": 0.427429089,
                        "iteration": 296,
                        "remaining_time": 1.011726093,
                        "learn": [
                          0.007979790671
                        ]
                      },
                      {
                        "passed_time": 0.4288138096,
                        "iteration": 297,
                        "remaining_time": 1.010158706,
                        "learn": [
                          0.007965256707
                        ]
                      },
                      {
                        "passed_time": 0.4300336213,
                        "iteration": 298,
                        "remaining_time": 1.008205915,
                        "learn": [
                          0.007949715455
                        ]
                      },
                      {
                        "passed_time": 0.4312305041,
                        "iteration": 299,
                        "remaining_time": 1.00620451,
                        "learn": [
                          0.007945084874
                        ]
                      },
                      {
                        "passed_time": 0.4324273228,
                        "iteration": 300,
                        "remaining_time": 1.004208301,
                        "learn": [
                          0.007940109498
                        ]
                      },
                      {
                        "passed_time": 0.4336076452,
                        "iteration": 301,
                        "remaining_time": 1.002179259,
                        "learn": [
                          0.007939471905
                        ]
                      },
                      {
                        "passed_time": 0.4348650851,
                        "iteration": 302,
                        "remaining_time": 1.000333216,
                        "learn": [
                          0.007919483645
                        ]
                      },
                      {
                        "passed_time": 0.436100399,
                        "iteration": 303,
                        "remaining_time": 0.9984403872,
                        "learn": [
                          0.007915053375
                        ]
                      },
                      {
                        "passed_time": 0.4372419494,
                        "iteration": 304,
                        "remaining_time": 0.9963382125,
                        "learn": [
                          0.007912513331
                        ]
                      },
                      {
                        "passed_time": 0.4385405883,
                        "iteration": 305,
                        "remaining_time": 0.9945985892,
                        "learn": [
                          0.007896464527
                        ]
                      },
                      {
                        "passed_time": 0.4397254787,
                        "iteration": 306,
                        "remaining_time": 0.9926050707,
                        "learn": [
                          0.00789225739
                        ]
                      },
                      {
                        "passed_time": 0.4410338526,
                        "iteration": 307,
                        "remaining_time": 0.9908942403,
                        "learn": [
                          0.007888156612
                        ]
                      },
                      {
                        "passed_time": 0.4422410768,
                        "iteration": 308,
                        "remaining_time": 0.9889598191,
                        "learn": [
                          0.007881004304
                        ]
                      },
                      {
                        "passed_time": 0.4434112769,
                        "iteration": 309,
                        "remaining_time": 0.9869476808,
                        "learn": [
                          0.007880419165
                        ]
                      },
                      {
                        "passed_time": 0.4446036781,
                        "iteration": 310,
                        "remaining_time": 0.9849901421,
                        "learn": [
                          0.007876484424
                        ]
                      },
                      {
                        "passed_time": 0.4459674117,
                        "iteration": 311,
                        "remaining_time": 0.9834153181,
                        "learn": [
                          0.007875970289
                        ]
                      },
                      {
                        "passed_time": 0.4471768029,
                        "iteration": 312,
                        "remaining_time": 0.9815030785,
                        "learn": [
                          0.00786672184
                        ]
                      },
                      {
                        "passed_time": 0.4483521227,
                        "iteration": 313,
                        "remaining_time": 0.9795208796,
                        "learn": [
                          0.007861740511
                        ]
                      },
                      {
                        "passed_time": 0.4496047079,
                        "iteration": 314,
                        "remaining_time": 0.9777118252,
                        "learn": [
                          0.00784885754
                        ]
                      },
                      {
                        "passed_time": 0.4508183579,
                        "iteration": 315,
                        "remaining_time": 0.9758220153,
                        "learn": [
                          0.007838915623
                        ]
                      },
                      {
                        "passed_time": 0.4519995926,
                        "iteration": 316,
                        "remaining_time": 0.9738666302,
                        "learn": [
                          0.007817265986
                        ]
                      },
                      {
                        "passed_time": 0.4531688308,
                        "iteration": 317,
                        "remaining_time": 0.9718903856,
                        "learn": [
                          0.007801947202
                        ]
                      },
                      {
                        "passed_time": 0.454339215,
                        "iteration": 318,
                        "remaining_time": 0.969921647,
                        "learn": [
                          0.007792152401
                        ]
                      },
                      {
                        "passed_time": 0.4555126347,
                        "iteration": 319,
                        "remaining_time": 0.9679643488,
                        "learn": [
                          0.007781971563
                        ]
                      },
                      {
                        "passed_time": 0.4567149433,
                        "iteration": 320,
                        "remaining_time": 0.966073042,
                        "learn": [
                          0.007768893944
                        ]
                      },
                      {
                        "passed_time": 0.4577972897,
                        "iteration": 321,
                        "remaining_time": 0.9639334237,
                        "learn": [
                          0.00776847871
                        ]
                      },
                      {
                        "passed_time": 0.4589237916,
                        "iteration": 322,
                        "remaining_time": 0.9618929007,
                        "learn": [
                          0.007753581376
                        ]
                      },
                      {
                        "passed_time": 0.460090827,
                        "iteration": 323,
                        "remaining_time": 0.9599425896,
                        "learn": [
                          0.007737654935
                        ]
                      },
                      {
                        "passed_time": 0.4612513265,
                        "iteration": 324,
                        "remaining_time": 0.9579835243,
                        "learn": [
                          0.007728734703
                        ]
                      },
                      {
                        "passed_time": 0.4624215125,
                        "iteration": 325,
                        "remaining_time": 0.9560493847,
                        "learn": [
                          0.007725250398
                        ]
                      },
                      {
                        "passed_time": 0.4635912148,
                        "iteration": 326,
                        "remaining_time": 0.9541189221,
                        "learn": [
                          0.007719592047
                        ]
                      },
                      {
                        "passed_time": 0.4648252495,
                        "iteration": 327,
                        "remaining_time": 0.9523249013,
                        "learn": [
                          0.007710787307
                        ]
                      },
                      {
                        "passed_time": 0.466001283,
                        "iteration": 328,
                        "remaining_time": 0.9504159905,
                        "learn": [
                          0.007706627909
                        ]
                      },
                      {
                        "passed_time": 0.467133007,
                        "iteration": 329,
                        "remaining_time": 0.9484215596,
                        "learn": [
                          0.007693384642
                        ]
                      },
                      {
                        "passed_time": 0.4682511744,
                        "iteration": 330,
                        "remaining_time": 0.9464049415,
                        "learn": [
                          0.007684216943
                        ]
                      },
                      {
                        "passed_time": 0.4694796833,
                        "iteration": 331,
                        "remaining_time": 0.9446157484,
                        "learn": [
                          0.007683711579
                        ]
                      },
                      {
                        "passed_time": 0.4706610008,
                        "iteration": 332,
                        "remaining_time": 0.9427353979,
                        "learn": [
                          0.007672568346
                        ]
                      },
                      {
                        "passed_time": 0.4718115307,
                        "iteration": 333,
                        "remaining_time": 0.9407978427,
                        "learn": [
                          0.007667883769
                        ]
                      },
                      {
                        "passed_time": 0.4729872324,
                        "iteration": 334,
                        "remaining_time": 0.9389149539,
                        "learn": [
                          0.007652727289
                        ]
                      },
                      {
                        "passed_time": 0.4741059062,
                        "iteration": 335,
                        "remaining_time": 0.9369235765,
                        "learn": [
                          0.007638356176
                        ]
                      },
                      {
                        "passed_time": 0.475221523,
                        "iteration": 336,
                        "remaining_time": 0.9349313642,
                        "learn": [
                          0.007632164953
                        ]
                      },
                      {
                        "passed_time": 0.4764102999,
                        "iteration": 337,
                        "remaining_time": 0.9330876288,
                        "learn": [
                          0.007620174139
                        ]
                      },
                      {
                        "passed_time": 0.4776249668,
                        "iteration": 338,
                        "remaining_time": 0.9312982391,
                        "learn": [
                          0.007601833048
                        ]
                      },
                      {
                        "passed_time": 0.4788856324,
                        "iteration": 339,
                        "remaining_time": 0.9296015217,
                        "learn": [
                          0.007593159137
                        ]
                      },
                      {
                        "passed_time": 0.4800087859,
                        "iteration": 340,
                        "remaining_time": 0.9276416127,
                        "learn": [
                          0.007584990713
                        ]
                      },
                      {
                        "passed_time": 0.4811648116,
                        "iteration": 341,
                        "remaining_time": 0.9257498422,
                        "learn": [
                          0.007576456199
                        ]
                      },
                      {
                        "passed_time": 0.4823409088,
                        "iteration": 342,
                        "remaining_time": 0.9239008078,
                        "learn": [
                          0.007572463149
                        ]
                      },
                      {
                        "passed_time": 0.483473646,
                        "iteration": 343,
                        "remaining_time": 0.9219729994,
                        "learn": [
                          0.007562761825
                        ]
                      },
                      {
                        "passed_time": 0.4846717007,
                        "iteration": 344,
                        "remaining_time": 0.9201738085,
                        "learn": [
                          0.007546071202
                        ]
                      },
                      {
                        "passed_time": 0.4858270295,
                        "iteration": 345,
                        "remaining_time": 0.9182973332,
                        "learn": [
                          0.007531597143
                        ]
                      },
                      {
                        "passed_time": 0.4869524759,
                        "iteration": 346,
                        "remaining_time": 0.9163687803,
                        "learn": [
                          0.007527601584
                        ]
                      },
                      {
                        "passed_time": 0.4881453171,
                        "iteration": 347,
                        "remaining_time": 0.9145711114,
                        "learn": [
                          0.00751676775
                        ]
                      },
                      {
                        "passed_time": 0.4893054617,
                        "iteration": 348,
                        "remaining_time": 0.9127159184,
                        "learn": [
                          0.00749552349
                        ]
                      },
                      {
                        "passed_time": 0.4904319467,
                        "iteration": 349,
                        "remaining_time": 0.9108021868,
                        "learn": [
                          0.007485551733
                        ]
                      },
                      {
                        "passed_time": 0.4917854357,
                        "iteration": 350,
                        "remaining_time": 0.9093126718,
                        "learn": [
                          0.007472768015
                        ]
                      },
                      {
                        "passed_time": 0.4929780569,
                        "iteration": 351,
                        "remaining_time": 0.9075277866,
                        "learn": [
                          0.007458378813
                        ]
                      },
                      {
                        "passed_time": 0.4940849437,
                        "iteration": 352,
                        "remaining_time": 0.9055891179,
                        "learn": [
                          0.007451189434
                        ]
                      },
                      {
                        "passed_time": 0.4952640583,
                        "iteration": 353,
                        "remaining_time": 0.9037869539,
                        "learn": [
                          0.007436393322
                        ]
                      },
                      {
                        "passed_time": 0.4964491496,
                        "iteration": 354,
                        "remaining_time": 0.9019991592,
                        "learn": [
                          0.00742381058
                        ]
                      },
                      {
                        "passed_time": 0.4976450105,
                        "iteration": 355,
                        "remaining_time": 0.9002342325,
                        "learn": [
                          0.007413280333
                        ]
                      },
                      {
                        "passed_time": 0.4988162784,
                        "iteration": 356,
                        "remaining_time": 0.8984281989,
                        "learn": [
                          0.007402353962
                        ]
                      },
                      {
                        "passed_time": 0.4999614303,
                        "iteration": 357,
                        "remaining_time": 0.8965788778,
                        "learn": [
                          0.007401557066
                        ]
                      },
                      {
                        "passed_time": 0.5011041017,
                        "iteration": 358,
                        "remaining_time": 0.8947290506,
                        "learn": [
                          0.007391740035
                        ]
                      },
                      {
                        "passed_time": 0.5023544658,
                        "iteration": 359,
                        "remaining_time": 0.893074606,
                        "learn": [
                          0.007379490026
                        ]
                      },
                      {
                        "passed_time": 0.5035411622,
                        "iteration": 360,
                        "remaining_time": 0.8913097026,
                        "learn": [
                          0.007367700435
                        ]
                      },
                      {
                        "passed_time": 0.5047545445,
                        "iteration": 361,
                        "remaining_time": 0.8895950259,
                        "learn": [
                          0.007363931945
                        ]
                      },
                      {
                        "passed_time": 0.5058896064,
                        "iteration": 362,
                        "remaining_time": 0.8877456729,
                        "learn": [
                          0.007360831387
                        ]
                      },
                      {
                        "passed_time": 0.5070218513,
                        "iteration": 363,
                        "remaining_time": 0.8858953226,
                        "learn": [
                          0.00735323555
                        ]
                      },
                      {
                        "passed_time": 0.5082004159,
                        "iteration": 364,
                        "remaining_time": 0.8841294906,
                        "learn": [
                          0.007344076938
                        ]
                      },
                      {
                        "passed_time": 0.5095078943,
                        "iteration": 365,
                        "remaining_time": 0.8825901776,
                        "learn": [
                          0.007336119257
                        ]
                      },
                      {
                        "passed_time": 0.5106522244,
                        "iteration": 366,
                        "remaining_time": 0.8807707304,
                        "learn": [
                          0.007324159767
                        ]
                      },
                      {
                        "passed_time": 0.5118586327,
                        "iteration": 367,
                        "remaining_time": 0.8790615648,
                        "learn": [
                          0.007312771273
                        ]
                      },
                      {
                        "passed_time": 0.5130843469,
                        "iteration": 368,
                        "remaining_time": 0.877388138,
                        "learn": [
                          0.007311112488
                        ]
                      },
                      {
                        "passed_time": 0.5142530483,
                        "iteration": 369,
                        "remaining_time": 0.8756200552,
                        "learn": [
                          0.00729980966
                        ]
                      },
                      {
                        "passed_time": 0.5155049862,
                        "iteration": 370,
                        "remaining_time": 0.8739963243,
                        "learn": [
                          0.007299022039
                        ]
                      },
                      {
                        "passed_time": 0.5166658157,
                        "iteration": 371,
                        "remaining_time": 0.8722207857,
                        "learn": [
                          0.007294671425
                        ]
                      },
                      {
                        "passed_time": 0.5178053874,
                        "iteration": 372,
                        "remaining_time": 0.8704128094,
                        "learn": [
                          0.007291167293
                        ]
                      },
                      {
                        "passed_time": 0.5189383951,
                        "iteration": 373,
                        "remaining_time": 0.8685974207,
                        "learn": [
                          0.007287255455
                        ]
                      },
                      {
                        "passed_time": 0.5200971577,
                        "iteration": 374,
                        "remaining_time": 0.8668285962,
                        "learn": [
                          0.007284109526
                        ]
                      },
                      {
                        "passed_time": 0.5212936678,
                        "iteration": 375,
                        "remaining_time": 0.8651256614,
                        "learn": [
                          0.00727339737
                        ]
                      },
                      {
                        "passed_time": 0.5224182678,
                        "iteration": 376,
                        "remaining_time": 0.8633065804,
                        "learn": [
                          0.007259995996
                        ]
                      },
                      {
                        "passed_time": 0.5235898797,
                        "iteration": 377,
                        "remaining_time": 0.8615685322,
                        "learn": [
                          0.007254869548
                        ]
                      },
                      {
                        "passed_time": 0.5247621685,
                        "iteration": 378,
                        "remaining_time": 0.8598345822,
                        "learn": [
                          0.007247953619
                        ]
                      },
                      {
                        "passed_time": 0.5259958245,
                        "iteration": 379,
                        "remaining_time": 0.8582037137,
                        "learn": [
                          0.007238715019
                        ]
                      },
                      {
                        "passed_time": 0.5271210127,
                        "iteration": 380,
                        "remaining_time": 0.8563987057,
                        "learn": [
                          0.007235065226
                        ]
                      },
                      {
                        "passed_time": 0.528250318,
                        "iteration": 381,
                        "remaining_time": 0.8546039175,
                        "learn": [
                          0.007228138606
                        ]
                      },
                      {
                        "passed_time": 0.5294264038,
                        "iteration": 382,
                        "remaining_time": 0.8528879664,
                        "learn": [
                          0.007223206674
                        ]
                      },
                      {
                        "passed_time": 0.5310574475,
                        "iteration": 383,
                        "remaining_time": 0.8519046553,
                        "learn": [
                          0.007212095496
                        ]
                      },
                      {
                        "passed_time": 0.5324056507,
                        "iteration": 384,
                        "remaining_time": 0.8504661694,
                        "learn": [
                          0.00720450097
                        ]
                      },
                      {
                        "passed_time": 0.5335861504,
                        "iteration": 385,
                        "remaining_time": 0.8487613895,
                        "learn": [
                          0.007191591556
                        ]
                      },
                      {
                        "passed_time": 0.5347201291,
                        "iteration": 386,
                        "remaining_time": 0.8469856308,
                        "learn": [
                          0.0071830329
                        ]
                      },
                      {
                        "passed_time": 0.5359454565,
                        "iteration": 387,
                        "remaining_time": 0.8453572664,
                        "learn": [
                          0.007173240294
                        ]
                      },
                      {
                        "passed_time": 0.5371466668,
                        "iteration": 388,
                        "remaining_time": 0.8436930936,
                        "learn": [
                          0.007166098172
                        ]
                      },
                      {
                        "passed_time": 0.538317395,
                        "iteration": 389,
                        "remaining_time": 0.8419836179,
                        "learn": [
                          0.007156879438
                        ]
                      },
                      {
                        "passed_time": 0.5394654571,
                        "iteration": 390,
                        "remaining_time": 0.8402415944,
                        "learn": [
                          0.007146761667
                        ]
                      },
                      {
                        "passed_time": 0.5406471919,
                        "iteration": 391,
                        "remaining_time": 0.8385548282,
                        "learn": [
                          0.007136469895
                        ]
                      },
                      {
                        "passed_time": 0.5418034526,
                        "iteration": 392,
                        "remaining_time": 0.8368312868,
                        "learn": [
                          0.007130288156
                        ]
                      },
                      {
                        "passed_time": 0.5429814071,
                        "iteration": 393,
                        "remaining_time": 0.8351439917,
                        "learn": [
                          0.007120913003
                        ]
                      },
                      {
                        "passed_time": 0.5441216888,
                        "iteration": 394,
                        "remaining_time": 0.833401574,
                        "learn": [
                          0.007104034327
                        ]
                      },
                      {
                        "passed_time": 0.5452659739,
                        "iteration": 395,
                        "remaining_time": 0.8316683036,
                        "learn": [
                          0.007092228813
                        ]
                      },
                      {
                        "passed_time": 0.5463913812,
                        "iteration": 396,
                        "remaining_time": 0.8299093271,
                        "learn": [
                          0.007077282406
                        ]
                      },
                      {
                        "passed_time": 0.5475708999,
                        "iteration": 397,
                        "remaining_time": 0.8282353813,
                        "learn": [
                          0.007066179939
                        ]
                      },
                      {
                        "passed_time": 0.5486900505,
                        "iteration": 398,
                        "remaining_time": 0.8264729834,
                        "learn": [
                          0.007063212399
                        ]
                      },
                      {
                        "passed_time": 0.5498692933,
                        "iteration": 399,
                        "remaining_time": 0.82480394,
                        "learn": [
                          0.007049511296
                        ]
                      },
                      {
                        "passed_time": 0.5509953106,
                        "iteration": 400,
                        "remaining_time": 0.8230578331,
                        "learn": [
                          0.00704028253
                        ]
                      },
                      {
                        "passed_time": 0.5527256335,
                        "iteration": 401,
                        "remaining_time": 0.8222137534,
                        "learn": [
                          0.007035329739
                        ]
                      },
                      {
                        "passed_time": 0.5546305749,
                        "iteration": 402,
                        "remaining_time": 0.8216239534,
                        "learn": [
                          0.007031245496
                        ]
                      },
                      {
                        "passed_time": 0.5558435117,
                        "iteration": 403,
                        "remaining_time": 0.8200067648,
                        "learn": [
                          0.007028822744
                        ]
                      },
                      {
                        "passed_time": 0.5569762144,
                        "iteration": 404,
                        "remaining_time": 0.8182736977,
                        "learn": [
                          0.007027494202
                        ]
                      },
                      {
                        "passed_time": 0.5581290263,
                        "iteration": 405,
                        "remaining_time": 0.8165730089,
                        "learn": [
                          0.007017913485
                        ]
                      },
                      {
                        "passed_time": 0.5595205195,
                        "iteration": 406,
                        "remaining_time": 0.8152227717,
                        "learn": [
                          0.00700934371
                        ]
                      },
                      {
                        "passed_time": 0.5606903168,
                        "iteration": 407,
                        "remaining_time": 0.8135506558,
                        "learn": [
                          0.007001480571
                        ]
                      },
                      {
                        "passed_time": 0.5618499563,
                        "iteration": 408,
                        "remaining_time": 0.8118663183,
                        "learn": [
                          0.00699051225
                        ]
                      },
                      {
                        "passed_time": 0.563048151,
                        "iteration": 409,
                        "remaining_time": 0.8102400222,
                        "learn": [
                          0.006978318867
                        ]
                      },
                      {
                        "passed_time": 0.5642375543,
                        "iteration": 410,
                        "remaining_time": 0.8086032104,
                        "learn": [
                          0.00696640761
                        ]
                      },
                      {
                        "passed_time": 0.565354628,
                        "iteration": 411,
                        "remaining_time": 0.8068653429,
                        "learn": [
                          0.006964994914
                        ]
                      },
                      {
                        "passed_time": 0.5665184745,
                        "iteration": 412,
                        "remaining_time": 0.8051969602,
                        "learn": [
                          0.006960034323
                        ]
                      },
                      {
                        "passed_time": 0.5677035399,
                        "iteration": 413,
                        "remaining_time": 0.8035610492,
                        "learn": [
                          0.006952163973
                        ]
                      },
                      {
                        "passed_time": 0.568873624,
                        "iteration": 414,
                        "remaining_time": 0.8019061929,
                        "learn": [
                          0.006944146717
                        ]
                      },
                      {
                        "passed_time": 0.5700430559,
                        "iteration": 415,
                        "remaining_time": 0.8002527515,
                        "learn": [
                          0.006934222534
                        ]
                      },
                      {
                        "passed_time": 0.5711648916,
                        "iteration": 416,
                        "remaining_time": 0.7985350883,
                        "learn": [
                          0.006930403313
                        ]
                      },
                      {
                        "passed_time": 0.5723074789,
                        "iteration": 417,
                        "remaining_time": 0.7968491692,
                        "learn": [
                          0.006918676568
                        ]
                      },
                      {
                        "passed_time": 0.5734445213,
                        "iteration": 418,
                        "remaining_time": 0.7951581549,
                        "learn": [
                          0.006915635873
                        ]
                      },
                      {
                        "passed_time": 0.5745904974,
                        "iteration": 419,
                        "remaining_time": 0.7934821155,
                        "learn": [
                          0.006908724427
                        ]
                      },
                      {
                        "passed_time": 0.5758085022,
                        "iteration": 420,
                        "remaining_time": 0.791907655,
                        "learn": [
                          0.006905863473
                        ]
                      },
                      {
                        "passed_time": 0.5784008948,
                        "iteration": 421,
                        "remaining_time": 0.7922173393,
                        "learn": [
                          0.006894010182
                        ]
                      },
                      {
                        "passed_time": 0.5795783725,
                        "iteration": 422,
                        "remaining_time": 0.7905832646,
                        "learn": [
                          0.006890435039
                        ]
                      },
                      {
                        "passed_time": 0.5807591522,
                        "iteration": 423,
                        "remaining_time": 0.7889558294,
                        "learn": [
                          0.006884022045
                        ]
                      },
                      {
                        "passed_time": 0.5818931676,
                        "iteration": 424,
                        "remaining_time": 0.7872672268,
                        "learn": [
                          0.006873554822
                        ]
                      },
                      {
                        "passed_time": 0.5830681757,
                        "iteration": 425,
                        "remaining_time": 0.785636462,
                        "learn": [
                          0.006862914723
                        ]
                      },
                      {
                        "passed_time": 0.5842380984,
                        "iteration": 426,
                        "remaining_time": 0.784001008,
                        "learn": [
                          0.006858541185
                        ]
                      },
                      {
                        "passed_time": 0.5854046633,
                        "iteration": 427,
                        "remaining_time": 0.7823632416,
                        "learn": [
                          0.006850482056
                        ]
                      },
                      {
                        "passed_time": 0.5865762034,
                        "iteration": 428,
                        "remaining_time": 0.7807342941,
                        "learn": [
                          0.006840689588
                        ]
                      },
                      {
                        "passed_time": 0.5877060605,
                        "iteration": 429,
                        "remaining_time": 0.7790522197,
                        "learn": [
                          0.006838211569
                        ]
                      },
                      {
                        "passed_time": 0.5888766237,
                        "iteration": 430,
                        "remaining_time": 0.7774264476,
                        "learn": [
                          0.006825811519
                        ]
                      },
                      {
                        "passed_time": 0.5899997073,
                        "iteration": 431,
                        "remaining_time": 0.7757403559,
                        "learn": [
                          0.00682428918
                        ]
                      },
                      {
                        "passed_time": 0.5911314835,
                        "iteration": 432,
                        "remaining_time": 0.7740682475,
                        "learn": [
                          0.006817082318
                        ]
                      },
                      {
                        "passed_time": 0.5922776146,
                        "iteration": 433,
                        "remaining_time": 0.77241735,
                        "learn": [
                          0.006808757197
                        ]
                      },
                      {
                        "passed_time": 0.5934659597,
                        "iteration": 434,
                        "remaining_time": 0.7708236028,
                        "learn": [
                          0.006799193666
                        ]
                      },
                      {
                        "passed_time": 0.5946448752,
                        "iteration": 435,
                        "remaining_time": 0.7692195175,
                        "learn": [
                          0.006796095182
                        ]
                      },
                      {
                        "passed_time": 0.595799244,
                        "iteration": 436,
                        "remaining_time": 0.7675857537,
                        "learn": [
                          0.006787514576
                        ]
                      },
                      {
                        "passed_time": 0.596928847,
                        "iteration": 437,
                        "remaining_time": 0.7659224018,
                        "learn": [
                          0.006784176861
                        ]
                      },
                      {
                        "passed_time": 0.5981186871,
                        "iteration": 438,
                        "remaining_time": 0.7643384589,
                        "learn": [
                          0.00677598674
                        ]
                      },
                      {
                        "passed_time": 0.5992884262,
                        "iteration": 439,
                        "remaining_time": 0.7627307243,
                        "learn": [
                          0.006765562328
                        ]
                      },
                      {
                        "passed_time": 0.6004188552,
                        "iteration": 440,
                        "remaining_time": 0.7610751475,
                        "learn": [
                          0.006758198569
                        ]
                      },
                      {
                        "passed_time": 0.6016172948,
                        "iteration": 441,
                        "remaining_time": 0.7595078066,
                        "learn": [
                          0.006750809351
                        ]
                      },
                      {
                        "passed_time": 0.6027580066,
                        "iteration": 442,
                        "remaining_time": 0.7578695478,
                        "learn": [
                          0.006748151909
                        ]
                      },
                      {
                        "passed_time": 0.6041559542,
                        "iteration": 443,
                        "remaining_time": 0.7565556544,
                        "learn": [
                          0.006744958418
                        ]
                      },
                      {
                        "passed_time": 0.6075329389,
                        "iteration": 444,
                        "remaining_time": 0.7577096204,
                        "learn": [
                          0.006736626786
                        ]
                      },
                      {
                        "passed_time": 0.6087248582,
                        "iteration": 445,
                        "remaining_time": 0.756129084,
                        "learn": [
                          0.006728308023
                        ]
                      },
                      {
                        "passed_time": 0.609899173,
                        "iteration": 446,
                        "remaining_time": 0.7545285071,
                        "learn": [
                          0.006724202464
                        ]
                      },
                      {
                        "passed_time": 0.6110368032,
                        "iteration": 447,
                        "remaining_time": 0.7528846326,
                        "learn": [
                          0.006721679207
                        ]
                      },
                      {
                        "passed_time": 0.6122086252,
                        "iteration": 448,
                        "remaining_time": 0.7512849721,
                        "learn": [
                          0.006717146222
                        ]
                      },
                      {
                        "passed_time": 0.6133518539,
                        "iteration": 449,
                        "remaining_time": 0.7496522658,
                        "learn": [
                          0.006705705084
                        ]
                      },
                      {
                        "passed_time": 0.6145276387,
                        "iteration": 450,
                        "remaining_time": 0.7480613607,
                        "learn": [
                          0.00670170744
                        ]
                      },
                      {
                        "passed_time": 0.6157266475,
                        "iteration": 451,
                        "remaining_time": 0.7465004488,
                        "learn": [
                          0.006694670611
                        ]
                      },
                      {
                        "passed_time": 0.6168560055,
                        "iteration": 452,
                        "remaining_time": 0.7448570309,
                        "learn": [
                          0.006692431058
                        ]
                      },
                      {
                        "passed_time": 0.6179797809,
                        "iteration": 453,
                        "remaining_time": 0.7432091638,
                        "learn": [
                          0.006683617998
                        ]
                      },
                      {
                        "passed_time": 0.6191512051,
                        "iteration": 454,
                        "remaining_time": 0.7416206742,
                        "learn": [
                          0.006674201225
                        ]
                      },
                      {
                        "passed_time": 0.6202912859,
                        "iteration": 455,
                        "remaining_time": 0.7399966218,
                        "learn": [
                          0.006663986254
                        ]
                      },
                      {
                        "passed_time": 0.621420342,
                        "iteration": 456,
                        "remaining_time": 0.738361588,
                        "learn": [
                          0.006662040774
                        ]
                      },
                      {
                        "passed_time": 0.6225743449,
                        "iteration": 457,
                        "remaining_time": 0.7367582858,
                        "learn": [
                          0.006655358468
                        ]
                      },
                      {
                        "passed_time": 0.6237772743,
                        "iteration": 458,
                        "remaining_time": 0.7352146087,
                        "learn": [
                          0.006651041059
                        ]
                      },
                      {
                        "passed_time": 0.6249605737,
                        "iteration": 459,
                        "remaining_time": 0.7336493691,
                        "learn": [
                          0.006646181953
                        ]
                      },
                      {
                        "passed_time": 0.6260929818,
                        "iteration": 460,
                        "remaining_time": 0.7320262846,
                        "learn": [
                          0.006638990615
                        ]
                      },
                      {
                        "passed_time": 0.6275132906,
                        "iteration": 461,
                        "remaining_time": 0.7307405852,
                        "learn": [
                          0.006631109745
                        ]
                      },
                      {
                        "passed_time": 0.6286658484,
                        "iteration": 462,
                        "remaining_time": 0.7291437594,
                        "learn": [
                          0.006624886903
                        ]
                      },
                      {
                        "passed_time": 0.6297987165,
                        "iteration": 463,
                        "remaining_time": 0.7275261036,
                        "learn": [
                          0.006618981655
                        ]
                      },
                      {
                        "passed_time": 0.6309950443,
                        "iteration": 464,
                        "remaining_time": 0.7259835456,
                        "learn": [
                          0.006611801991
                        ]
                      },
                      {
                        "passed_time": 0.6321632733,
                        "iteration": 465,
                        "remaining_time": 0.7244102746,
                        "learn": [
                          0.00660554302
                        ]
                      },
                      {
                        "passed_time": 0.6333335575,
                        "iteration": 466,
                        "remaining_time": 0.7228410838,
                        "learn": [
                          0.006595782604
                        ]
                      },
                      {
                        "passed_time": 0.6345440987,
                        "iteration": 467,
                        "remaining_time": 0.72131936,
                        "learn": [
                          0.006587141169
                        ]
                      },
                      {
                        "passed_time": 0.6356625402,
                        "iteration": 468,
                        "remaining_time": 0.7196946883,
                        "learn": [
                          0.006578658741
                        ]
                      },
                      {
                        "passed_time": 0.6368937952,
                        "iteration": 469,
                        "remaining_time": 0.718199386,
                        "learn": [
                          0.006574006794
                        ]
                      },
                      {
                        "passed_time": 0.6380107025,
                        "iteration": 470,
                        "remaining_time": 0.7165767763,
                        "learn": [
                          0.006566669353
                        ]
                      },
                      {
                        "passed_time": 0.6392259576,
                        "iteration": 471,
                        "remaining_time": 0.7150663254,
                        "learn": [
                          0.006561762221
                        ]
                      },
                      {
                        "passed_time": 0.640374882,
                        "iteration": 472,
                        "remaining_time": 0.7134832195,
                        "learn": [
                          0.0065544678
                        ]
                      },
                      {
                        "passed_time": 0.6415988657,
                        "iteration": 473,
                        "remaining_time": 0.7119852392,
                        "learn": [
                          0.006546633912
                        ]
                      },
                      {
                        "passed_time": 0.6428944304,
                        "iteration": 474,
                        "remaining_time": 0.7105675283,
                        "learn": [
                          0.006543512423
                        ]
                      },
                      {
                        "passed_time": 0.644052883,
                        "iteration": 475,
                        "remaining_time": 0.7089993922,
                        "learn": [
                          0.006537948159
                        ]
                      },
                      {
                        "passed_time": 0.6451717573,
                        "iteration": 476,
                        "remaining_time": 0.7073895787,
                        "learn": [
                          0.00652780292
                        ]
                      },
                      {
                        "passed_time": 0.6463330028,
                        "iteration": 477,
                        "remaining_time": 0.7058280909,
                        "learn": [
                          0.006518733262
                        ]
                      },
                      {
                        "passed_time": 0.6474517843,
                        "iteration": 478,
                        "remaining_time": 0.7042220868,
                        "learn": [
                          0.006516490869
                        ]
                      },
                      {
                        "passed_time": 0.6486210802,
                        "iteration": 479,
                        "remaining_time": 0.7026728369,
                        "learn": [
                          0.006510215068
                        ]
                      },
                      {
                        "passed_time": 0.6499074885,
                        "iteration": 480,
                        "remaining_time": 0.7012515312,
                        "learn": [
                          0.006506403524
                        ]
                      },
                      {
                        "passed_time": 0.6510506808,
                        "iteration": 481,
                        "remaining_time": 0.6996768727,
                        "learn": [
                          0.006500534368
                        ]
                      },
                      {
                        "passed_time": 0.6522269916,
                        "iteration": 482,
                        "remaining_time": 0.6981394506,
                        "learn": [
                          0.006494566816
                        ]
                      },
                      {
                        "passed_time": 0.6534235594,
                        "iteration": 483,
                        "remaining_time": 0.696625117,
                        "learn": [
                          0.006483516024
                        ]
                      },
                      {
                        "passed_time": 0.6546099489,
                        "iteration": 484,
                        "remaining_time": 0.6951012859,
                        "learn": [
                          0.006475649429
                        ]
                      },
                      {
                        "passed_time": 0.6558065966,
                        "iteration": 485,
                        "remaining_time": 0.6935896928,
                        "learn": [
                          0.006468104062
                        ]
                      },
                      {
                        "passed_time": 0.6569404826,
                        "iteration": 486,
                        "remaining_time": 0.6920132804,
                        "learn": [
                          0.006457182653
                        ]
                      },
                      {
                        "passed_time": 0.6581174843,
                        "iteration": 487,
                        "remaining_time": 0.690483918,
                        "learn": [
                          0.00645515203
                        ]
                      },
                      {
                        "passed_time": 0.659234263,
                        "iteration": 488,
                        "remaining_time": 0.6888930642,
                        "learn": [
                          0.006450848527
                        ]
                      },
                      {
                        "passed_time": 0.6603769616,
                        "iteration": 489,
                        "remaining_time": 0.6873311233,
                        "learn": [
                          0.006444137117
                        ]
                      },
                      {
                        "passed_time": 0.6614995138,
                        "iteration": 490,
                        "remaining_time": 0.6857500051,
                        "learn": [
                          0.006441512364
                        ]
                      },
                      {
                        "passed_time": 0.6626297245,
                        "iteration": 491,
                        "remaining_time": 0.6841786587,
                        "learn": [
                          0.006429034327
                        ]
                      },
                      {
                        "passed_time": 0.6638192619,
                        "iteration": 492,
                        "remaining_time": 0.6826701132,
                        "learn": [
                          0.00642132806
                        ]
                      },
                      {
                        "passed_time": 0.6650076088,
                        "iteration": 493,
                        "remaining_time": 0.6811616398,
                        "learn": [
                          0.006413149533
                        ]
                      },
                      {
                        "passed_time": 0.6661674534,
                        "iteration": 494,
                        "remaining_time": 0.6796253817,
                        "learn": [
                          0.006410332944
                        ]
                      },
                      {
                        "passed_time": 0.6673144581,
                        "iteration": 495,
                        "remaining_time": 0.6780775945,
                        "learn": [
                          0.006399489719
                        ]
                      },
                      {
                        "passed_time": 0.6684215599,
                        "iteration": 496,
                        "remaining_time": 0.6764910355,
                        "learn": [
                          0.006391890415
                        ]
                      },
                      {
                        "passed_time": 0.6695399419,
                        "iteration": 497,
                        "remaining_time": 0.6749177727,
                        "learn": [
                          0.006387795845
                        ]
                      },
                      {
                        "passed_time": 0.6707021942,
                        "iteration": 498,
                        "remaining_time": 0.6733903794,
                        "learn": [
                          0.006379677887
                        ]
                      },
                      {
                        "passed_time": 0.6718827348,
                        "iteration": 499,
                        "remaining_time": 0.6718827348,
                        "learn": [
                          0.006374549092
                        ]
                      },
                      {
                        "passed_time": 0.6730351217,
                        "iteration": 500,
                        "remaining_time": 0.6703483547,
                        "learn": [
                          0.006369619024
                        ]
                      },
                      {
                        "passed_time": 0.6741507853,
                        "iteration": 501,
                        "remaining_time": 0.6687790659,
                        "learn": [
                          0.006358994225
                        ]
                      },
                      {
                        "passed_time": 0.6752778868,
                        "iteration": 502,
                        "remaining_time": 0.6672228822,
                        "learn": [
                          0.00635633406
                        ]
                      },
                      {
                        "passed_time": 0.6763988675,
                        "iteration": 503,
                        "remaining_time": 0.6656623775,
                        "learn": [
                          0.006345716452
                        ]
                      },
                      {
                        "passed_time": 0.677546826,
                        "iteration": 504,
                        "remaining_time": 0.6641300571,
                        "learn": [
                          0.00634366071
                        ]
                      },
                      {
                        "passed_time": 0.6786794568,
                        "iteration": 505,
                        "remaining_time": 0.6625842918,
                        "learn": [
                          0.006336321558
                        ]
                      },
                      {
                        "passed_time": 0.6798145669,
                        "iteration": 506,
                        "remaining_time": 0.661042567,
                        "learn": [
                          0.006334368408
                        ]
                      },
                      {
                        "passed_time": 0.6809979203,
                        "iteration": 507,
                        "remaining_time": 0.6595491669,
                        "learn": [
                          0.00632712145
                        ]
                      },
                      {
                        "passed_time": 0.6821348059,
                        "iteration": 508,
                        "remaining_time": 0.6580121606,
                        "learn": [
                          0.006321261503
                        ]
                      },
                      {
                        "passed_time": 0.683263758,
                        "iteration": 509,
                        "remaining_time": 0.6564691008,
                        "learn": [
                          0.006316419642
                        ]
                      },
                      {
                        "passed_time": 0.684519422,
                        "iteration": 510,
                        "remaining_time": 0.6550489185,
                        "learn": [
                          0.006308477989
                        ]
                      },
                      {
                        "passed_time": 0.6856884292,
                        "iteration": 511,
                        "remaining_time": 0.6535467841,
                        "learn": [
                          0.006306819605
                        ]
                      },
                      {
                        "passed_time": 0.6869453642,
                        "iteration": 512,
                        "remaining_time": 0.6521294198,
                        "learn": [
                          0.00629721962
                        ]
                      },
                      {
                        "passed_time": 0.6881442857,
                        "iteration": 513,
                        "remaining_time": 0.6506578266,
                        "learn": [
                          0.006290533795
                        ]
                      },
                      {
                        "passed_time": 0.6892716736,
                        "iteration": 514,
                        "remaining_time": 0.6491199256,
                        "learn": [
                          0.006282245298
                        ]
                      },
                      {
                        "passed_time": 0.6905103785,
                        "iteration": 515,
                        "remaining_time": 0.6476880294,
                        "learn": [
                          0.006280389091
                        ]
                      },
                      {
                        "passed_time": 0.6916855011,
                        "iteration": 516,
                        "remaining_time": 0.6461974797,
                        "learn": [
                          0.0062728207
                        ]
                      },
                      {
                        "passed_time": 0.6928212939,
                        "iteration": 517,
                        "remaining_time": 0.6446715515,
                        "learn": [
                          0.006269876656
                        ]
                      },
                      {
                        "passed_time": 0.6939431642,
                        "iteration": 518,
                        "remaining_time": 0.6431342235,
                        "learn": [
                          0.006267922593
                        ]
                      },
                      {
                        "passed_time": 0.6951079863,
                        "iteration": 519,
                        "remaining_time": 0.6416381412,
                        "learn": [
                          0.006254903264
                        ]
                      },
                      {
                        "passed_time": 0.6962110406,
                        "iteration": 520,
                        "remaining_time": 0.6400865421,
                        "learn": [
                          0.006254151452
                        ]
                      },
                      {
                        "passed_time": 0.6973431901,
                        "iteration": 521,
                        "remaining_time": 0.6385633043,
                        "learn": [
                          0.006249649886
                        ]
                      },
                      {
                        "passed_time": 0.6984651672,
                        "iteration": 522,
                        "remaining_time": 0.6370322844,
                        "learn": [
                          0.006242227381
                        ]
                      },
                      {
                        "passed_time": 0.6998291799,
                        "iteration": 523,
                        "remaining_time": 0.6357226901,
                        "learn": [
                          0.006239782199
                        ]
                      },
                      {
                        "passed_time": 0.7010815237,
                        "iteration": 524,
                        "remaining_time": 0.6343118548,
                        "learn": [
                          0.006233999659
                        ]
                      },
                      {
                        "passed_time": 0.7022063628,
                        "iteration": 525,
                        "remaining_time": 0.6327867224,
                        "learn": [
                          0.006226625084
                        ]
                      },
                      {
                        "passed_time": 0.7033370008,
                        "iteration": 526,
                        "remaining_time": 0.6312683138,
                        "learn": [
                          0.006222595814
                        ]
                      },
                      {
                        "passed_time": 0.7044777321,
                        "iteration": 527,
                        "remaining_time": 0.6297603969,
                        "learn": [
                          0.006216336959
                        ]
                      },
                      {
                        "passed_time": 0.7056454252,
                        "iteration": 528,
                        "remaining_time": 0.6282778739,
                        "learn": [
                          0.006212685275
                        ]
                      },
                      {
                        "passed_time": 0.7068278995,
                        "iteration": 529,
                        "remaining_time": 0.6268096467,
                        "learn": [
                          0.006203706502
                        ]
                      },
                      {
                        "passed_time": 0.7079973709,
                        "iteration": 530,
                        "remaining_time": 0.6253310112,
                        "learn": [
                          0.006198821578
                        ]
                      },
                      {
                        "passed_time": 0.7092187395,
                        "iteration": 531,
                        "remaining_time": 0.6238991919,
                        "learn": [
                          0.006196274655
                        ]
                      },
                      {
                        "passed_time": 0.7103657924,
                        "iteration": 532,
                        "remaining_time": 0.6224030489,
                        "learn": [
                          0.006189341943
                        ]
                      },
                      {
                        "passed_time": 0.711532065,
                        "iteration": 533,
                        "remaining_time": 0.6209249856,
                        "learn": [
                          0.006186751802
                        ]
                      },
                      {
                        "passed_time": 0.7127048957,
                        "iteration": 534,
                        "remaining_time": 0.6194537878,
                        "learn": [
                          0.006183049489
                        ]
                      },
                      {
                        "passed_time": 0.7138147208,
                        "iteration": 535,
                        "remaining_time": 0.6179291613,
                        "learn": [
                          0.00617948426
                        ]
                      },
                      {
                        "passed_time": 0.7149500927,
                        "iteration": 536,
                        "remaining_time": 0.616428106,
                        "learn": [
                          0.00616838192
                        ]
                      },
                      {
                        "passed_time": 0.7160701093,
                        "iteration": 537,
                        "remaining_time": 0.6149152239,
                        "learn": [
                          0.006163055651
                        ]
                      },
                      {
                        "passed_time": 0.7172907837,
                        "iteration": 538,
                        "remaining_time": 0.6134898911,
                        "learn": [
                          0.006155263267
                        ]
                      },
                      {
                        "passed_time": 0.7184686992,
                        "iteration": 539,
                        "remaining_time": 0.6120288919,
                        "learn": [
                          0.006146389809
                        ]
                      },
                      {
                        "passed_time": 0.7219721167,
                        "iteration": 540,
                        "remaining_time": 0.6125419622,
                        "learn": [
                          0.006142590466
                        ]
                      },
                      {
                        "passed_time": 0.72383407,
                        "iteration": 541,
                        "remaining_time": 0.611653144,
                        "learn": [
                          0.006140456068
                        ]
                      },
                      {
                        "passed_time": 0.7266649652,
                        "iteration": 542,
                        "remaining_time": 0.6115762231,
                        "learn": [
                          0.006131521654
                        ]
                      },
                      {
                        "passed_time": 0.7279584839,
                        "iteration": 543,
                        "remaining_time": 0.6102004939,
                        "learn": [
                          0.006125339454
                        ]
                      },
                      {
                        "passed_time": 0.7291121827,
                        "iteration": 544,
                        "remaining_time": 0.608708336,
                        "learn": [
                          0.006120365494
                        ]
                      },
                      {
                        "passed_time": 0.7303106242,
                        "iteration": 545,
                        "remaining_time": 0.6072546215,
                        "learn": [
                          0.00611571765
                        ]
                      },
                      {
                        "passed_time": 0.7314512195,
                        "iteration": 546,
                        "remaining_time": 0.605753935,
                        "learn": [
                          0.006106504544
                        ]
                      },
                      {
                        "passed_time": 0.7326198958,
                        "iteration": 547,
                        "remaining_time": 0.6042777243,
                        "learn": [
                          0.006100594602
                        ]
                      },
                      {
                        "passed_time": 0.7337985381,
                        "iteration": 548,
                        "remaining_time": 0.602810821,
                        "learn": [
                          0.006092843176
                        ]
                      },
                      {
                        "passed_time": 0.7349956709,
                        "iteration": 549,
                        "remaining_time": 0.6013600944,
                        "learn": [
                          0.006086860502
                        ]
                      },
                      {
                        "passed_time": 0.7361139706,
                        "iteration": 550,
                        "remaining_time": 0.5998460486,
                        "learn": [
                          0.00608197518
                        ]
                      },
                      {
                        "passed_time": 0.7372375451,
                        "iteration": 551,
                        "remaining_time": 0.5983377178,
                        "learn": [
                          0.006074494907
                        ]
                      },
                      {
                        "passed_time": 0.7384004884,
                        "iteration": 552,
                        "remaining_time": 0.5968626009,
                        "learn": [
                          0.006071504418
                        ]
                      },
                      {
                        "passed_time": 0.7395473964,
                        "iteration": 553,
                        "remaining_time": 0.5953757018,
                        "learn": [
                          0.006065550158
                        ]
                      },
                      {
                        "passed_time": 0.7406782603,
                        "iteration": 554,
                        "remaining_time": 0.5938771637,
                        "learn": [
                          0.006063972867
                        ]
                      },
                      {
                        "passed_time": 0.7418166978,
                        "iteration": 555,
                        "remaining_time": 0.5923859961,
                        "learn": [
                          0.006052979472
                        ]
                      },
                      {
                        "passed_time": 0.7431034552,
                        "iteration": 556,
                        "remaining_time": 0.5910140586,
                        "learn": [
                          0.006043987476
                        ]
                      },
                      {
                        "passed_time": 0.7442846226,
                        "iteration": 557,
                        "remaining_time": 0.5895587871,
                        "learn": [
                          0.0060409577
                        ]
                      },
                      {
                        "passed_time": 0.7454014513,
                        "iteration": 558,
                        "remaining_time": 0.5880537389,
                        "learn": [
                          0.006035368751
                        ]
                      },
                      {
                        "passed_time": 0.7466892474,
                        "iteration": 559,
                        "remaining_time": 0.5866844087,
                        "learn": [
                          0.006030777134
                        ]
                      },
                      {
                        "passed_time": 0.7478756906,
                        "iteration": 560,
                        "remaining_time": 0.5852360573,
                        "learn": [
                          0.006025911487
                        ]
                      },
                      {
                        "passed_time": 0.7490068845,
                        "iteration": 561,
                        "remaining_time": 0.583745579,
                        "learn": [
                          0.0060212792
                        ]
                      },
                      {
                        "passed_time": 0.7501360284,
                        "iteration": 562,
                        "remaining_time": 0.5822547858,
                        "learn": [
                          0.006016171704
                        ]
                      },
                      {
                        "passed_time": 0.7513636823,
                        "iteration": 563,
                        "remaining_time": 0.5808414282,
                        "learn": [
                          0.006006599496
                        ]
                      },
                      {
                        "passed_time": 0.7525379703,
                        "iteration": 564,
                        "remaining_time": 0.5793876408,
                        "learn": [
                          0.00600431063
                        ]
                      },
                      {
                        "passed_time": 0.7536927273,
                        "iteration": 565,
                        "remaining_time": 0.5779198651,
                        "learn": [
                          0.005998730648
                        ]
                      },
                      {
                        "passed_time": 0.754830872,
                        "iteration": 566,
                        "remaining_time": 0.5764405072,
                        "learn": [
                          0.005993136878
                        ]
                      },
                      {
                        "passed_time": 0.756023866,
                        "iteration": 567,
                        "remaining_time": 0.5750040671,
                        "learn": [
                          0.0059892079
                        ]
                      },
                      {
                        "passed_time": 0.7571550227,
                        "iteration": 568,
                        "remaining_time": 0.5735216428,
                        "learn": [
                          0.00598698817
                        ]
                      },
                      {
                        "passed_time": 0.7583445246,
                        "iteration": 569,
                        "remaining_time": 0.5720844659,
                        "learn": [
                          0.005982620989
                        ]
                      },
                      {
                        "passed_time": 0.7594635411,
                        "iteration": 570,
                        "remaining_time": 0.5705951999,
                        "learn": [
                          0.005977665452
                        ]
                      },
                      {
                        "passed_time": 0.7609032482,
                        "iteration": 571,
                        "remaining_time": 0.5693471857,
                        "learn": [
                          0.00597227384
                        ]
                      },
                      {
                        "passed_time": 0.7620681739,
                        "iteration": 572,
                        "remaining_time": 0.5678937352,
                        "learn": [
                          0.005970427676
                        ]
                      },
                      {
                        "passed_time": 0.7632587082,
                        "iteration": 573,
                        "remaining_time": 0.5664602956,
                        "learn": [
                          0.005967613244
                        ]
                      },
                      {
                        "passed_time": 0.7643969548,
                        "iteration": 574,
                        "remaining_time": 0.5649890535,
                        "learn": [
                          0.005963659519
                        ]
                      },
                      {
                        "passed_time": 0.765551124,
                        "iteration": 575,
                        "remaining_time": 0.5635306885,
                        "learn": [
                          0.005961919286
                        ]
                      },
                      {
                        "passed_time": 0.766682703,
                        "iteration": 576,
                        "remaining_time": 0.5620568169,
                        "learn": [
                          0.005959015034
                        ]
                      },
                      {
                        "passed_time": 0.7678601298,
                        "iteration": 577,
                        "remaining_time": 0.5606176034,
                        "learn": [
                          0.005957575713
                        ]
                      },
                      {
                        "passed_time": 0.7690288479,
                        "iteration": 578,
                        "remaining_time": 0.559172962,
                        "learn": [
                          0.005953149824
                        ]
                      },
                      {
                        "passed_time": 0.7701679064,
                        "iteration": 579,
                        "remaining_time": 0.5577077943,
                        "learn": [
                          0.005948377178
                        ]
                      },
                      {
                        "passed_time": 0.7713170463,
                        "iteration": 580,
                        "remaining_time": 0.5562510196,
                        "learn": [
                          0.005942780643
                        ]
                      },
                      {
                        "passed_time": 0.7724401739,
                        "iteration": 581,
                        "remaining_time": 0.5547766197,
                        "learn": [
                          0.005935388125
                        ]
                      },
                      {
                        "passed_time": 0.7736535912,
                        "iteration": 582,
                        "remaining_time": 0.553368006,
                        "learn": [
                          0.00593100339
                        ]
                      },
                      {
                        "passed_time": 0.7747977144,
                        "iteration": 583,
                        "remaining_time": 0.5519107007,
                        "learn": [
                          0.005928162069
                        ]
                      },
                      {
                        "passed_time": 0.7760489645,
                        "iteration": 584,
                        "remaining_time": 0.550530462,
                        "learn": [
                          0.005923015221
                        ]
                      },
                      {
                        "passed_time": 0.7776306975,
                        "iteration": 585,
                        "remaining_time": 0.5493841447,
                        "learn": [
                          0.005917059392
                        ]
                      },
                      {
                        "passed_time": 0.7787860659,
                        "iteration": 586,
                        "remaining_time": 0.5479363632,
                        "learn": [
                          0.005909956544
                        ]
                      },
                      {
                        "passed_time": 0.7799783548,
                        "iteration": 587,
                        "remaining_time": 0.5465154459,
                        "learn": [
                          0.005907424552
                        ]
                      },
                      {
                        "passed_time": 0.781171992,
                        "iteration": 588,
                        "remaining_time": 0.5450962457,
                        "learn": [
                          0.005906103819
                        ]
                      },
                      {
                        "passed_time": 0.782322411,
                        "iteration": 589,
                        "remaining_time": 0.5436477772,
                        "learn": [
                          0.005898710098
                        ]
                      },
                      {
                        "passed_time": 0.7835046994,
                        "iteration": 590,
                        "remaining_time": 0.5422223724,
                        "learn": [
                          0.005892216466
                        ]
                      },
                      {
                        "passed_time": 0.7846478758,
                        "iteration": 591,
                        "remaining_time": 0.5407708333,
                        "learn": [
                          0.005886942634
                        ]
                      },
                      {
                        "passed_time": 0.7857986226,
                        "iteration": 592,
                        "remaining_time": 0.5393255302,
                        "learn": [
                          0.005881831781
                        ]
                      },
                      {
                        "passed_time": 0.7869398071,
                        "iteration": 593,
                        "remaining_time": 0.537874683,
                        "learn": [
                          0.005879045706
                        ]
                      },
                      {
                        "passed_time": 0.7881219968,
                        "iteration": 594,
                        "remaining_time": 0.5364527878,
                        "learn": [
                          0.005875751016
                        ]
                      },
                      {
                        "passed_time": 0.7893357609,
                        "iteration": 595,
                        "remaining_time": 0.5350530997,
                        "learn": [
                          0.005867437314
                        ]
                      },
                      {
                        "passed_time": 0.7904761613,
                        "iteration": 596,
                        "remaining_time": 0.5336045109,
                        "learn": [
                          0.005862484112
                        ]
                      },
                      {
                        "passed_time": 0.791611615,
                        "iteration": 597,
                        "remaining_time": 0.5321536275,
                        "learn": [
                          0.005857699632
                        ]
                      },
                      {
                        "passed_time": 0.7928118816,
                        "iteration": 598,
                        "remaining_time": 0.5307471862,
                        "learn": [
                          0.005852855761
                        ]
                      },
                      {
                        "passed_time": 0.793950615,
                        "iteration": 599,
                        "remaining_time": 0.52930041,
                        "learn": [
                          0.005846235219
                        ]
                      },
                      {
                        "passed_time": 0.7950826472,
                        "iteration": 600,
                        "remaining_time": 0.5278502101,
                        "learn": [
                          0.005840826072
                        ]
                      },
                      {
                        "passed_time": 0.7962037075,
                        "iteration": 601,
                        "remaining_time": 0.5263938133,
                        "learn": [
                          0.005835052603
                        ]
                      },
                      {
                        "passed_time": 0.7976038462,
                        "iteration": 602,
                        "remaining_time": 0.5251222669,
                        "learn": [
                          0.005832058349
                        ]
                      },
                      {
                        "passed_time": 0.7987848986,
                        "iteration": 603,
                        "remaining_time": 0.5237066554,
                        "learn": [
                          0.005826318477
                        ]
                      },
                      {
                        "passed_time": 0.7999206164,
                        "iteration": 604,
                        "remaining_time": 0.5222622206,
                        "learn": [
                          0.005822467707
                        ]
                      },
                      {
                        "passed_time": 0.8010449205,
                        "iteration": 605,
                        "remaining_time": 0.5208113839,
                        "learn": [
                          0.005818567894
                        ]
                      },
                      {
                        "passed_time": 0.8022438361,
                        "iteration": 606,
                        "remaining_time": 0.5194099301,
                        "learn": [
                          0.005813106813
                        ]
                      },
                      {
                        "passed_time": 0.803438927,
                        "iteration": 607,
                        "remaining_time": 0.5180066766,
                        "learn": [
                          0.005810042835
                        ]
                      },
                      {
                        "passed_time": 0.8046185866,
                        "iteration": 608,
                        "remaining_time": 0.5165941993,
                        "learn": [
                          0.005802335409
                        ]
                      },
                      {
                        "passed_time": 0.8058054489,
                        "iteration": 609,
                        "remaining_time": 0.5151870903,
                        "learn": [
                          0.005798341778
                        ]
                      },
                      {
                        "passed_time": 0.8069577866,
                        "iteration": 610,
                        "remaining_time": 0.5137587218,
                        "learn": [
                          0.005792772643
                        ]
                      },
                      {
                        "passed_time": 0.8081434961,
                        "iteration": 611,
                        "remaining_time": 0.5123524126,
                        "learn": [
                          0.005785704421
                        ]
                      },
                      {
                        "passed_time": 0.8092849765,
                        "iteration": 612,
                        "remaining_time": 0.5109189004,
                        "learn": [
                          0.005780811155
                        ]
                      },
                      {
                        "passed_time": 0.8103943653,
                        "iteration": 613,
                        "remaining_time": 0.5094661645,
                        "learn": [
                          0.005776789602
                        ]
                      },
                      {
                        "passed_time": 0.8115666991,
                        "iteration": 614,
                        "remaining_time": 0.5080539498,
                        "learn": [
                          0.005774061237
                        ]
                      },
                      {
                        "passed_time": 0.8127326657,
                        "iteration": 615,
                        "remaining_time": 0.5066385449,
                        "learn": [
                          0.005769303584
                        ]
                      },
                      {
                        "passed_time": 0.8138729202,
                        "iteration": 616,
                        "remaining_time": 0.5052079877,
                        "learn": [
                          0.005764160602
                        ]
                      },
                      {
                        "passed_time": 0.815037989,
                        "iteration": 617,
                        "remaining_time": 0.5037937084,
                        "learn": [
                          0.005757570484
                        ]
                      },
                      {
                        "passed_time": 0.8161784226,
                        "iteration": 618,
                        "remaining_time": 0.5023650711,
                        "learn": [
                          0.00575188606
                        ]
                      },
                      {
                        "passed_time": 0.8174946806,
                        "iteration": 619,
                        "remaining_time": 0.5010451268,
                        "learn": [
                          0.005745352575
                        ]
                      },
                      {
                        "passed_time": 0.8186095414,
                        "iteration": 620,
                        "remaining_time": 0.4996022805,
                        "learn": [
                          0.005741142888
                        ]
                      },
                      {
                        "passed_time": 0.819927239,
                        "iteration": 621,
                        "remaining_time": 0.4982837562,
                        "learn": [
                          0.005734035534
                        ]
                      },
                      {
                        "passed_time": 0.8211006856,
                        "iteration": 622,
                        "remaining_time": 0.496877943,
                        "learn": [
                          0.005731092293
                        ]
                      },
                      {
                        "passed_time": 0.8222477468,
                        "iteration": 623,
                        "remaining_time": 0.4954569756,
                        "learn": [
                          0.005725670333
                        ]
                      },
                      {
                        "passed_time": 0.8233593806,
                        "iteration": 624,
                        "remaining_time": 0.4940156284,
                        "learn": [
                          0.005722693886
                        ]
                      },
                      {
                        "passed_time": 0.8244925242,
                        "iteration": 625,
                        "remaining_time": 0.4925881854,
                        "learn": [
                          0.005719368547
                        ]
                      },
                      {
                        "passed_time": 0.8256873828,
                        "iteration": 626,
                        "remaining_time": 0.4911983952,
                        "learn": [
                          0.005716227451
                        ]
                      },
                      {
                        "passed_time": 0.8268307883,
                        "iteration": 627,
                        "remaining_time": 0.4897787472,
                        "learn": [
                          0.005713265232
                        ]
                      },
                      {
                        "passed_time": 0.8279658593,
                        "iteration": 628,
                        "remaining_time": 0.4883550617,
                        "learn": [
                          0.005708880498
                        ]
                      },
                      {
                        "passed_time": 0.8291385781,
                        "iteration": 629,
                        "remaining_time": 0.486954403,
                        "learn": [
                          0.005700696229
                        ]
                      },
                      {
                        "passed_time": 0.8303107901,
                        "iteration": 630,
                        "remaining_time": 0.4855541704,
                        "learn": [
                          0.005694649291
                        ]
                      },
                      {
                        "passed_time": 0.8314284429,
                        "iteration": 631,
                        "remaining_time": 0.4841228908,
                        "learn": [
                          0.005689547352
                        ]
                      },
                      {
                        "passed_time": 0.8327250308,
                        "iteration": 632,
                        "remaining_time": 0.4827963449,
                        "learn": [
                          0.005684409878
                        ]
                      },
                      {
                        "passed_time": 0.8340017086,
                        "iteration": 633,
                        "remaining_time": 0.4814583996,
                        "learn": [
                          0.005678730403
                        ]
                      },
                      {
                        "passed_time": 0.8352643452,
                        "iteration": 634,
                        "remaining_time": 0.4801125764,
                        "learn": [
                          0.0056774693
                        ]
                      },
                      {
                        "passed_time": 0.8365351563,
                        "iteration": 635,
                        "remaining_time": 0.4787716932,
                        "learn": [
                          0.005673052334
                        ]
                      },
                      {
                        "passed_time": 0.8377268802,
                        "iteration": 636,
                        "remaining_time": 0.4773859616,
                        "learn": [
                          0.005670832089
                        ]
                      },
                      {
                        "passed_time": 0.8389073581,
                        "iteration": 637,
                        "remaining_time": 0.4759944571,
                        "learn": [
                          0.005665958317
                        ]
                      },
                      {
                        "passed_time": 0.8400750771,
                        "iteration": 638,
                        "remaining_time": 0.474596405,
                        "learn": [
                          0.005664834958
                        ]
                      },
                      {
                        "passed_time": 0.8412608825,
                        "iteration": 639,
                        "remaining_time": 0.4732092464,
                        "learn": [
                          0.005662652391
                        ]
                      },
                      {
                        "passed_time": 0.8424034788,
                        "iteration": 640,
                        "remaining_time": 0.4717985162,
                        "learn": [
                          0.005660306085
                        ]
                      },
                      {
                        "passed_time": 0.843553682,
                        "iteration": 641,
                        "remaining_time": 0.4703928631,
                        "learn": [
                          0.005654772627
                        ]
                      },
                      {
                        "passed_time": 0.8447128387,
                        "iteration": 642,
                        "remaining_time": 0.4689929758,
                        "learn": [
                          0.005652348236
                        ]
                      },
                      {
                        "passed_time": 0.8460111894,
                        "iteration": 643,
                        "remaining_time": 0.4676707817,
                        "learn": [
                          0.005644614806
                        ]
                      },
                      {
                        "passed_time": 0.8473927249,
                        "iteration": 644,
                        "remaining_time": 0.4663944455,
                        "learn": [
                          0.005639157078
                        ]
                      },
                      {
                        "passed_time": 0.8485883908,
                        "iteration": 645,
                        "remaining_time": 0.4650159293,
                        "learn": [
                          0.00563438006
                        ]
                      },
                      {
                        "passed_time": 0.8497495481,
                        "iteration": 646,
                        "remaining_time": 0.4636191507,
                        "learn": [
                          0.00562947673
                        ]
                      },
                      {
                        "passed_time": 0.8508747581,
                        "iteration": 647,
                        "remaining_time": 0.4622035723,
                        "learn": [
                          0.005624720819
                        ]
                      },
                      {
                        "passed_time": 0.852047816,
                        "iteration": 648,
                        "remaining_time": 0.4608147665,
                        "learn": [
                          0.005617535068
                        ]
                      },
                      {
                        "passed_time": 0.8532343047,
                        "iteration": 649,
                        "remaining_time": 0.4594338564,
                        "learn": [
                          0.005612379608
                        ]
                      },
                      {
                        "passed_time": 0.8543980298,
                        "iteration": 650,
                        "remaining_time": 0.4580413401,
                        "learn": [
                          0.00560811246
                        ]
                      },
                      {
                        "passed_time": 0.8555965904,
                        "iteration": 651,
                        "remaining_time": 0.4566681188,
                        "learn": [
                          0.005601416838
                        ]
                      },
                      {
                        "passed_time": 0.8567192549,
                        "iteration": 652,
                        "remaining_time": 0.4552551017,
                        "learn": [
                          0.00559826456
                        ]
                      },
                      {
                        "passed_time": 0.8578608303,
                        "iteration": 653,
                        "remaining_time": 0.4538529775,
                        "learn": [
                          0.005593835472
                        ]
                      },
                      {
                        "passed_time": 0.8589879022,
                        "iteration": 654,
                        "remaining_time": 0.4524440096,
                        "learn": [
                          0.005588890584
                        ]
                      },
                      {
                        "passed_time": 0.8601068146,
                        "iteration": 655,
                        "remaining_time": 0.4510316223,
                        "learn": [
                          0.005584179471
                        ]
                      },
                      {
                        "passed_time": 0.8613672293,
                        "iteration": 656,
                        "remaining_time": 0.4496940025,
                        "learn": [
                          0.005578723543
                        ]
                      },
                      {
                        "passed_time": 0.8624912424,
                        "iteration": 657,
                        "remaining_time": 0.4482857217,
                        "learn": [
                          0.005571327369
                        ]
                      },
                      {
                        "passed_time": 0.8636630303,
                        "iteration": 658,
                        "remaining_time": 0.4469030248,
                        "learn": [
                          0.005567162785
                        ]
                      },
                      {
                        "passed_time": 0.8649097434,
                        "iteration": 659,
                        "remaining_time": 0.4455595648,
                        "learn": [
                          0.005564630384
                        ]
                      },
                      {
                        "passed_time": 0.8660384086,
                        "iteration": 660,
                        "remaining_time": 0.4441558555,
                        "learn": [
                          0.005558585411
                        ]
                      },
                      {
                        "passed_time": 0.8672021069,
                        "iteration": 661,
                        "remaining_time": 0.4427708643,
                        "learn": [
                          0.005553552611
                        ]
                      },
                      {
                        "passed_time": 0.8683168978,
                        "iteration": 662,
                        "remaining_time": 0.4413616811,
                        "learn": [
                          0.005546821882
                        ]
                      },
                      {
                        "passed_time": 0.8694451911,
                        "iteration": 663,
                        "remaining_time": 0.4399602172,
                        "learn": [
                          0.005542659801
                        ]
                      },
                      {
                        "passed_time": 0.8707049358,
                        "iteration": 664,
                        "remaining_time": 0.4386257947,
                        "learn": [
                          0.005539892065
                        ]
                      },
                      {
                        "passed_time": 0.8718732539,
                        "iteration": 665,
                        "remaining_time": 0.4372457459,
                        "learn": [
                          0.005535388809
                        ]
                      },
                      {
                        "passed_time": 0.8730055397,
                        "iteration": 666,
                        "remaining_time": 0.4358483429,
                        "learn": [
                          0.005531205492
                        ]
                      },
                      {
                        "passed_time": 0.8741643515,
                        "iteration": 667,
                        "remaining_time": 0.4344649172,
                        "learn": [
                          0.005527914989
                        ]
                      },
                      {
                        "passed_time": 0.8754782494,
                        "iteration": 668,
                        "remaining_time": 0.4331588947,
                        "learn": [
                          0.00552379313
                        ]
                      },
                      {
                        "passed_time": 0.8767646217,
                        "iteration": 669,
                        "remaining_time": 0.4318392913,
                        "learn": [
                          0.005520879745
                        ]
                      },
                      {
                        "passed_time": 0.87803252,
                        "iteration": 670,
                        "remaining_time": 0.4305107289,
                        "learn": [
                          0.005516067921
                        ]
                      },
                      {
                        "passed_time": 0.8792111305,
                        "iteration": 671,
                        "remaining_time": 0.4291387661,
                        "learn": [
                          0.005512122793
                        ]
                      },
                      {
                        "passed_time": 0.8803919897,
                        "iteration": 672,
                        "remaining_time": 0.4277684705,
                        "learn": [
                          0.005507590407
                        ]
                      },
                      {
                        "passed_time": 0.8816376709,
                        "iteration": 673,
                        "remaining_time": 0.4264300901,
                        "learn": [
                          0.00550530129
                        ]
                      },
                      {
                        "passed_time": 0.8841780104,
                        "iteration": 674,
                        "remaining_time": 0.4257153383,
                        "learn": [
                          0.005501841016
                        ]
                      },
                      {
                        "passed_time": 0.8978140588,
                        "iteration": 675,
                        "remaining_time": 0.4303132471,
                        "learn": [
                          0.005496629821
                        ]
                      },
                      {
                        "passed_time": 0.917818454,
                        "iteration": 676,
                        "remaining_time": 0.4378956583,
                        "learn": [
                          0.005491790333
                        ]
                      },
                      {
                        "passed_time": 0.9190505877,
                        "iteration": 677,
                        "remaining_time": 0.4364812526,
                        "learn": [
                          0.005490510085
                        ]
                      },
                      {
                        "passed_time": 0.9220733628,
                        "iteration": 678,
                        "remaining_time": 0.4359139167,
                        "learn": [
                          0.005486044939
                        ]
                      },
                      {
                        "passed_time": 0.9243730299,
                        "iteration": 679,
                        "remaining_time": 0.4349990729,
                        "learn": [
                          0.005481279634
                        ]
                      },
                      {
                        "passed_time": 0.9267133409,
                        "iteration": 680,
                        "remaining_time": 0.4340992008,
                        "learn": [
                          0.005478908714
                        ]
                      },
                      {
                        "passed_time": 0.9283130157,
                        "iteration": 681,
                        "remaining_time": 0.4328497639,
                        "learn": [
                          0.005476338642
                        ]
                      },
                      {
                        "passed_time": 0.9294960783,
                        "iteration": 682,
                        "remaining_time": 0.4314059397,
                        "learn": [
                          0.005471938474
                        ]
                      },
                      {
                        "passed_time": 0.9306451841,
                        "iteration": 683,
                        "remaining_time": 0.4299471903,
                        "learn": [
                          0.005468920541
                        ]
                      },
                      {
                        "passed_time": 0.9317929761,
                        "iteration": 684,
                        "remaining_time": 0.4284887409,
                        "learn": [
                          0.005466808152
                        ]
                      },
                      {
                        "passed_time": 0.933651637,
                        "iteration": 685,
                        "remaining_time": 0.4273565802,
                        "learn": [
                          0.005463757531
                        ]
                      },
                      {
                        "passed_time": 0.9350858083,
                        "iteration": 686,
                        "remaining_time": 0.4260289054,
                        "learn": [
                          0.005456393097
                        ]
                      },
                      {
                        "passed_time": 0.9435511541,
                        "iteration": 687,
                        "remaining_time": 0.4278894769,
                        "learn": [
                          0.005455266497
                        ]
                      },
                      {
                        "passed_time": 0.9464407856,
                        "iteration": 688,
                        "remaining_time": 0.4272033154,
                        "learn": [
                          0.00545219332
                        ]
                      },
                      {
                        "passed_time": 0.949138929,
                        "iteration": 689,
                        "remaining_time": 0.4264247362,
                        "learn": [
                          0.00545058386
                        ]
                      },
                      {
                        "passed_time": 0.9515019121,
                        "iteration": 690,
                        "remaining_time": 0.4254907248,
                        "learn": [
                          0.005445511369
                        ]
                      },
                      {
                        "passed_time": 0.952720992,
                        "iteration": 691,
                        "remaining_time": 0.4240434473,
                        "learn": [
                          0.005441925427
                        ]
                      },
                      {
                        "passed_time": 0.9538697159,
                        "iteration": 692,
                        "remaining_time": 0.4225656606,
                        "learn": [
                          0.005438535476
                        ]
                      },
                      {
                        "passed_time": 0.955034012,
                        "iteration": 693,
                        "remaining_time": 0.4210956883,
                        "learn": [
                          0.005436657205
                        ]
                      },
                      {
                        "passed_time": 0.9561953357,
                        "iteration": 694,
                        "remaining_time": 0.4196252912,
                        "learn": [
                          0.005435557567
                        ]
                      },
                      {
                        "passed_time": 0.957403505,
                        "iteration": 695,
                        "remaining_time": 0.4181762436,
                        "learn": [
                          0.005432119568
                        ]
                      },
                      {
                        "passed_time": 0.9585549891,
                        "iteration": 696,
                        "remaining_time": 0.4167032449,
                        "learn": [
                          0.005426519728
                        ]
                      },
                      {
                        "passed_time": 0.9597344414,
                        "iteration": 697,
                        "remaining_time": 0.4152432683,
                        "learn": [
                          0.005423251862
                        ]
                      },
                      {
                        "passed_time": 0.9608548998,
                        "iteration": 698,
                        "remaining_time": 0.4137586908,
                        "learn": [
                          0.005417826176
                        ]
                      },
                      {
                        "passed_time": 0.9620244671,
                        "iteration": 699,
                        "remaining_time": 0.4122962002,
                        "learn": [
                          0.005413928313
                        ]
                      },
                      {
                        "passed_time": 0.9632004638,
                        "iteration": 700,
                        "remaining_time": 0.4108372877,
                        "learn": [
                          0.005411645764
                        ]
                      },
                      {
                        "passed_time": 0.9643620303,
                        "iteration": 701,
                        "remaining_time": 0.4093730556,
                        "learn": [
                          0.005407229031
                        ]
                      },
                      {
                        "passed_time": 0.9656020189,
                        "iteration": 702,
                        "remaining_time": 0.4079428159,
                        "learn": [
                          0.00540300237
                        ]
                      },
                      {
                        "passed_time": 0.9667980416,
                        "iteration": 703,
                        "remaining_time": 0.4064946311,
                        "learn": [
                          0.005396755537
                        ]
                      },
                      {
                        "passed_time": 0.9679911024,
                        "iteration": 704,
                        "remaining_time": 0.4050459223,
                        "learn": [
                          0.005392766716
                        ]
                      },
                      {
                        "passed_time": 0.9691376035,
                        "iteration": 705,
                        "remaining_time": 0.4035785488,
                        "learn": [
                          0.005387874471
                        ]
                      },
                      {
                        "passed_time": 0.970261193,
                        "iteration": 706,
                        "remaining_time": 0.4021025878,
                        "learn": [
                          0.005382547366
                        ]
                      },
                      {
                        "passed_time": 0.9713937152,
                        "iteration": 707,
                        "remaining_time": 0.4006313063,
                        "learn": [
                          0.005377232928
                        ]
                      },
                      {
                        "passed_time": 0.9725392944,
                        "iteration": 708,
                        "remaining_time": 0.3991663395,
                        "learn": [
                          0.005372535279
                        ]
                      },
                      {
                        "passed_time": 0.9737217469,
                        "iteration": 709,
                        "remaining_time": 0.3977173333,
                        "learn": [
                          0.005370136293
                        ]
                      },
                      {
                        "passed_time": 0.9750694116,
                        "iteration": 710,
                        "remaining_time": 0.3963362306,
                        "learn": [
                          0.005365287184
                        ]
                      },
                      {
                        "passed_time": 0.9762557606,
                        "iteration": 711,
                        "remaining_time": 0.3948899706,
                        "learn": [
                          0.005363831022
                        ]
                      },
                      {
                        "passed_time": 0.977433407,
                        "iteration": 712,
                        "remaining_time": 0.3934409366,
                        "learn": [
                          0.005361660979
                        ]
                      },
                      {
                        "passed_time": 0.9785674929,
                        "iteration": 713,
                        "remaining_time": 0.3919752142,
                        "learn": [
                          0.005357695992
                        ]
                      },
                      {
                        "passed_time": 0.9797009806,
                        "iteration": 714,
                        "remaining_time": 0.3905101811,
                        "learn": [
                          0.00535120265
                        ]
                      },
                      {
                        "passed_time": 0.9808214108,
                        "iteration": 715,
                        "remaining_time": 0.3890408948,
                        "learn": [
                          0.005347802841
                        ]
                      },
                      {
                        "passed_time": 0.9819390914,
                        "iteration": 716,
                        "remaining_time": 0.3875714963,
                        "learn": [
                          0.005344685048
                        ]
                      },
                      {
                        "passed_time": 0.9831055767,
                        "iteration": 717,
                        "remaining_time": 0.386122246,
                        "learn": [
                          0.005342311614
                        ]
                      },
                      {
                        "passed_time": 0.9842297089,
                        "iteration": 718,
                        "remaining_time": 0.3846572298,
                        "learn": [
                          0.005338217095
                        ]
                      },
                      {
                        "passed_time": 0.9860924959,
                        "iteration": 719,
                        "remaining_time": 0.3834804151,
                        "learn": [
                          0.005332931014
                        ]
                      },
                      {
                        "passed_time": 0.9872226957,
                        "iteration": 720,
                        "remaining_time": 0.3820182137,
                        "learn": [
                          0.005327739634
                        ]
                      },
                      {
                        "passed_time": 0.9883816684,
                        "iteration": 721,
                        "remaining_time": 0.3805680108,
                        "learn": [
                          0.005322449464
                        ]
                      },
                      {
                        "passed_time": 0.9899713658,
                        "iteration": 722,
                        "remaining_time": 0.3792836353,
                        "learn": [
                          0.005318450849
                        ]
                      },
                      {
                        "passed_time": 0.9911206298,
                        "iteration": 723,
                        "remaining_time": 0.3778305163,
                        "learn": [
                          0.005313883288
                        ]
                      },
                      {
                        "passed_time": 0.9923023132,
                        "iteration": 724,
                        "remaining_time": 0.3763905326,
                        "learn": [
                          0.005309282356
                        ]
                      },
                      {
                        "passed_time": 0.9934439745,
                        "iteration": 725,
                        "remaining_time": 0.3749361557,
                        "learn": [
                          0.005305166129
                        ]
                      },
                      {
                        "passed_time": 0.9945995143,
                        "iteration": 726,
                        "remaining_time": 0.3734878506,
                        "learn": [
                          0.005299958864
                        ]
                      },
                      {
                        "passed_time": 0.9957803358,
                        "iteration": 727,
                        "remaining_time": 0.3720497958,
                        "learn": [
                          0.005297448327
                        ]
                      },
                      {
                        "passed_time": 0.996972081,
                        "iteration": 728,
                        "remaining_time": 0.3706165075,
                        "learn": [
                          0.005296205755
                        ]
                      },
                      {
                        "passed_time": 0.9981092857,
                        "iteration": 729,
                        "remaining_time": 0.3691637084,
                        "learn": [
                          0.005291856922
                        ]
                      },
                      {
                        "passed_time": 0.9993492112,
                        "iteration": 730,
                        "remaining_time": 0.3677495729,
                        "learn": [
                          0.005288153178
                        ]
                      },
                      {
                        "passed_time": 1.000523413,
                        "iteration": 731,
                        "remaining_time": 0.3663118506,
                        "learn": [
                          0.005284929737
                        ]
                      },
                      {
                        "passed_time": 1.001650773,
                        "iteration": 732,
                        "remaining_time": 0.364857785,
                        "learn": [
                          0.005282465101
                        ]
                      },
                      {
                        "passed_time": 1.002823608,
                        "iteration": 733,
                        "remaining_time": 0.3634210896,
                        "learn": [
                          0.005277438114
                        ]
                      },
                      {
                        "passed_time": 1.00402771,
                        "iteration": 734,
                        "remaining_time": 0.3619963854,
                        "learn": [
                          0.005276101474
                        ]
                      },
                      {
                        "passed_time": 1.005237194,
                        "iteration": 735,
                        "remaining_time": 0.360574211,
                        "learn": [
                          0.005272061853
                        ]
                      },
                      {
                        "passed_time": 1.006468256,
                        "iteration": 736,
                        "remaining_time": 0.3591603137,
                        "learn": [
                          0.005268383398
                        ]
                      },
                      {
                        "passed_time": 1.007604611,
                        "iteration": 737,
                        "remaining_time": 0.3577132902,
                        "learn": [
                          0.005263692926
                        ]
                      },
                      {
                        "passed_time": 1.008781576,
                        "iteration": 738,
                        "remaining_time": 0.3562814498,
                        "learn": [
                          0.005260770846
                        ]
                      },
                      {
                        "passed_time": 1.009987736,
                        "iteration": 739,
                        "remaining_time": 0.354860556,
                        "learn": [
                          0.005257394545
                        ]
                      },
                      {
                        "passed_time": 1.011152903,
                        "iteration": 740,
                        "remaining_time": 0.3534259134,
                        "learn": [
                          0.005256345616
                        ]
                      },
                      {
                        "passed_time": 1.012296939,
                        "iteration": 741,
                        "remaining_time": 0.35198465,
                        "learn": [
                          0.005252069784
                        ]
                      },
                      {
                        "passed_time": 1.013547088,
                        "iteration": 742,
                        "remaining_time": 0.3505808903,
                        "learn": [
                          0.005247597493
                        ]
                      },
                      {
                        "passed_time": 1.014717362,
                        "iteration": 743,
                        "remaining_time": 0.3491500599,
                        "learn": [
                          0.005245175333
                        ]
                      },
                      {
                        "passed_time": 1.015915912,
                        "iteration": 744,
                        "remaining_time": 0.3477296076,
                        "learn": [
                          0.005243431716
                        ]
                      },
                      {
                        "passed_time": 1.017035099,
                        "iteration": 745,
                        "remaining_time": 0.346282728,
                        "learn": [
                          0.005241075067
                        ]
                      },
                      {
                        "passed_time": 1.018218267,
                        "iteration": 746,
                        "remaining_time": 0.3448583957,
                        "learn": [
                          0.005239377825
                        ]
                      },
                      {
                        "passed_time": 1.019330333,
                        "iteration": 747,
                        "remaining_time": 0.343410754,
                        "learn": [
                          0.005236851863
                        ]
                      },
                      {
                        "passed_time": 1.020503043,
                        "iteration": 748,
                        "remaining_time": 0.3419843307,
                        "learn": [
                          0.005235442738
                        ]
                      },
                      {
                        "passed_time": 1.021771083,
                        "iteration": 749,
                        "remaining_time": 0.3405903609,
                        "learn": [
                          0.00522840566
                        ]
                      },
                      {
                        "passed_time": 1.023129358,
                        "iteration": 750,
                        "remaining_time": 0.3392266448,
                        "learn": [
                          0.00522483145
                        ]
                      },
                      {
                        "passed_time": 1.024867632,
                        "iteration": 751,
                        "remaining_time": 0.3379882615,
                        "learn": [
                          0.00522170357
                        ]
                      },
                      {
                        "passed_time": 1.026038607,
                        "iteration": 752,
                        "remaining_time": 0.3365624646,
                        "learn": [
                          0.005218268259
                        ]
                      },
                      {
                        "passed_time": 1.027286002,
                        "iteration": 753,
                        "remaining_time": 0.3351622764,
                        "learn": [
                          0.0052146968
                        ]
                      },
                      {
                        "passed_time": 1.028428011,
                        "iteration": 754,
                        "remaining_time": 0.3337282949,
                        "learn": [
                          0.005213564161
                        ]
                      },
                      {
                        "passed_time": 1.029558076,
                        "iteration": 755,
                        "remaining_time": 0.332291231,
                        "learn": [
                          0.005211406874
                        ]
                      },
                      {
                        "passed_time": 1.030735801,
                        "iteration": 756,
                        "remaining_time": 0.3308702769,
                        "learn": [
                          0.005206966971
                        ]
                      },
                      {
                        "passed_time": 1.031847461,
                        "iteration": 757,
                        "remaining_time": 0.3294288727,
                        "learn": [
                          0.005198351227
                        ]
                      },
                      {
                        "passed_time": 1.03296848,
                        "iteration": 758,
                        "remaining_time": 0.3279913092,
                        "learn": [
                          0.005193003164
                        ]
                      },
                      {
                        "passed_time": 1.034119164,
                        "iteration": 759,
                        "remaining_time": 0.3265639466,
                        "learn": [
                          0.005189304266
                        ]
                      },
                      {
                        "passed_time": 1.035247089,
                        "iteration": 760,
                        "remaining_time": 0.3251301633,
                        "learn": [
                          0.005187050935
                        ]
                      },
                      {
                        "passed_time": 1.036476365,
                        "iteration": 761,
                        "remaining_time": 0.3237288385,
                        "learn": [
                          0.00518169006
                        ]
                      },
                      {
                        "passed_time": 1.037603353,
                        "iteration": 762,
                        "remaining_time": 0.3222961923,
                        "learn": [
                          0.005178459624
                        ]
                      },
                      {
                        "passed_time": 1.038757783,
                        "iteration": 763,
                        "remaining_time": 0.3208728231,
                        "learn": [
                          0.005174432062
                        ]
                      },
                      {
                        "passed_time": 1.039932463,
                        "iteration": 764,
                        "remaining_time": 0.3194563775,
                        "learn": [
                          0.005169022709
                        ]
                      },
                      {
                        "passed_time": 1.041110577,
                        "iteration": 765,
                        "remaining_time": 0.3180416124,
                        "learn": [
                          0.005164546534
                        ]
                      },
                      {
                        "passed_time": 1.042281451,
                        "iteration": 766,
                        "remaining_time": 0.3166252648,
                        "learn": [
                          0.005161492864
                        ]
                      },
                      {
                        "passed_time": 1.043466696,
                        "iteration": 767,
                        "remaining_time": 0.3152138977,
                        "learn": [
                          0.005155127049
                        ]
                      },
                      {
                        "passed_time": 1.044637369,
                        "iteration": 768,
                        "remaining_time": 0.3137987415,
                        "learn": [
                          0.005152886818
                        ]
                      },
                      {
                        "passed_time": 1.04579919,
                        "iteration": 769,
                        "remaining_time": 0.3123815763,
                        "learn": [
                          0.005148639984
                        ]
                      },
                      {
                        "passed_time": 1.04697383,
                        "iteration": 770,
                        "remaining_time": 0.3109688808,
                        "learn": [
                          0.005143287138
                        ]
                      },
                      {
                        "passed_time": 1.048095756,
                        "iteration": 771,
                        "remaining_time": 0.3095412338,
                        "learn": [
                          0.005139622082
                        ]
                      },
                      {
                        "passed_time": 1.049251247,
                        "iteration": 772,
                        "remaining_time": 0.3081242343,
                        "learn": [
                          0.005135580298
                        ]
                      },
                      {
                        "passed_time": 1.050414299,
                        "iteration": 773,
                        "remaining_time": 0.3067101185,
                        "learn": [
                          0.005133271471
                        ]
                      },
                      {
                        "passed_time": 1.051585868,
                        "iteration": 774,
                        "remaining_time": 0.3052991229,
                        "learn": [
                          0.005132345244
                        ]
                      },
                      {
                        "passed_time": 1.052714062,
                        "iteration": 775,
                        "remaining_time": 0.3038762241,
                        "learn": [
                          0.005127361617
                        ]
                      },
                      {
                        "passed_time": 1.053864571,
                        "iteration": 776,
                        "remaining_time": 0.3024604882,
                        "learn": [
                          0.00512120021
                        ]
                      },
                      {
                        "passed_time": 1.055030509,
                        "iteration": 777,
                        "remaining_time": 0.3010498367,
                        "learn": [
                          0.00511666059
                        ]
                      },
                      {
                        "passed_time": 1.05616876,
                        "iteration": 778,
                        "remaining_time": 0.2996319589,
                        "learn": [
                          0.005112175666
                        ]
                      },
                      {
                        "passed_time": 1.057388704,
                        "iteration": 779,
                        "remaining_time": 0.2982378395,
                        "learn": [
                          0.005108390519
                        ]
                      },
                      {
                        "passed_time": 1.058548704,
                        "iteration": 780,
                        "remaining_time": 0.2968273575,
                        "learn": [
                          0.005106029861
                        ]
                      },
                      {
                        "passed_time": 1.059710123,
                        "iteration": 781,
                        "remaining_time": 0.2954179115,
                        "learn": [
                          0.00510524335
                        ]
                      },
                      {
                        "passed_time": 1.060840063,
                        "iteration": 782,
                        "remaining_time": 0.2940003751,
                        "learn": [
                          0.005101124132
                        ]
                      },
                      {
                        "passed_time": 1.0619755,
                        "iteration": 783,
                        "remaining_time": 0.2925850866,
                        "learn": [
                          0.005098355508
                        ]
                      },
                      {
                        "passed_time": 1.063090826,
                        "iteration": 784,
                        "remaining_time": 0.2911650034,
                        "learn": [
                          0.005094935628
                        ]
                      },
                      {
                        "passed_time": 1.064238474,
                        "iteration": 785,
                        "remaining_time": 0.2897544956,
                        "learn": [
                          0.005092762496
                        ]
                      },
                      {
                        "passed_time": 1.065469118,
                        "iteration": 786,
                        "remaining_time": 0.2883671185,
                        "learn": [
                          0.005089079887
                        ]
                      },
                      {
                        "passed_time": 1.066649933,
                        "iteration": 787,
                        "remaining_time": 0.2869667333,
                        "learn": [
                          0.005083843382
                        ]
                      },
                      {
                        "passed_time": 1.067772318,
                        "iteration": 788,
                        "remaining_time": 0.2855512788,
                        "learn": [
                          0.005078764949
                        ]
                      },
                      {
                        "passed_time": 1.069029738,
                        "iteration": 789,
                        "remaining_time": 0.2841724619,
                        "learn": [
                          0.005075066508
                        ]
                      },
                      {
                        "passed_time": 1.070153551,
                        "iteration": 790,
                        "remaining_time": 0.2827586499,
                        "learn": [
                          0.005071741797
                        ]
                      },
                      {
                        "passed_time": 1.071290697,
                        "iteration": 791,
                        "remaining_time": 0.281349072,
                        "learn": [
                          0.00507002967
                        ]
                      },
                      {
                        "passed_time": 1.072454465,
                        "iteration": 792,
                        "remaining_time": 0.2799471301,
                        "learn": [
                          0.00506460535
                        ]
                      },
                      {
                        "passed_time": 1.073625111,
                        "iteration": 793,
                        "remaining_time": 0.2785475728,
                        "learn": [
                          0.005060650156
                        ]
                      },
                      {
                        "passed_time": 1.074756057,
                        "iteration": 794,
                        "remaining_time": 0.2771383543,
                        "learn": [
                          0.005057525716
                        ]
                      },
                      {
                        "passed_time": 1.075879563,
                        "iteration": 795,
                        "remaining_time": 0.2757279282,
                        "learn": [
                          0.005052597514
                        ]
                      },
                      {
                        "passed_time": 1.077016352,
                        "iteration": 796,
                        "remaining_time": 0.2743216053,
                        "learn": [
                          0.005050682255
                        ]
                      },
                      {
                        "passed_time": 1.078129074,
                        "iteration": 797,
                        "remaining_time": 0.2729098657,
                        "learn": [
                          0.005048670567
                        ]
                      },
                      {
                        "passed_time": 1.079281811,
                        "iteration": 798,
                        "remaining_time": 0.2715089413,
                        "learn": [
                          0.00504411752
                        ]
                      },
                      {
                        "passed_time": 1.080413175,
                        "iteration": 799,
                        "remaining_time": 0.2701032938,
                        "learn": [
                          0.005040417912
                        ]
                      },
                      {
                        "passed_time": 1.081661817,
                        "iteration": 800,
                        "remaining_time": 0.2687274676,
                        "learn": [
                          0.005039440924
                        ]
                      },
                      {
                        "passed_time": 1.082820023,
                        "iteration": 801,
                        "remaining_time": 0.2673296317,
                        "learn": [
                          0.005035712236
                        ]
                      },
                      {
                        "passed_time": 1.084000189,
                        "iteration": 802,
                        "remaining_time": 0.2659377799,
                        "learn": [
                          0.005033794372
                        ]
                      },
                      {
                        "passed_time": 1.085170671,
                        "iteration": 803,
                        "remaining_time": 0.2645440939,
                        "learn": [
                          0.005031687337
                        ]
                      },
                      {
                        "passed_time": 1.086311996,
                        "iteration": 804,
                        "remaining_time": 0.2631438997,
                        "learn": [
                          0.00502926578
                        ]
                      },
                      {
                        "passed_time": 1.087515348,
                        "iteration": 805,
                        "remaining_time": 0.2617592772,
                        "learn": [
                          0.005025205567
                        ]
                      },
                      {
                        "passed_time": 1.088681839,
                        "iteration": 806,
                        "remaining_time": 0.2603662886,
                        "learn": [
                          0.005022713366
                        ]
                      },
                      {
                        "passed_time": 1.089817522,
                        "iteration": 807,
                        "remaining_time": 0.2589665398,
                        "learn": [
                          0.005018546518
                        ]
                      },
                      {
                        "passed_time": 1.090958988,
                        "iteration": 808,
                        "remaining_time": 0.2575688094,
                        "learn": [
                          0.005016067598
                        ]
                      },
                      {
                        "passed_time": 1.092094355,
                        "iteration": 809,
                        "remaining_time": 0.2561702808,
                        "learn": [
                          0.005013666464
                        ]
                      },
                      {
                        "passed_time": 1.093571414,
                        "iteration": 810,
                        "remaining_time": 0.2548520311,
                        "learn": [
                          0.005010556896
                        ]
                      },
                      {
                        "passed_time": 1.094741465,
                        "iteration": 811,
                        "remaining_time": 0.2534623096,
                        "learn": [
                          0.005005314825
                        ]
                      },
                      {
                        "passed_time": 1.095936575,
                        "iteration": 812,
                        "remaining_time": 0.2520788923,
                        "learn": [
                          0.005002623649
                        ]
                      },
                      {
                        "passed_time": 1.097070116,
                        "iteration": 813,
                        "remaining_time": 0.2506818692,
                        "learn": [
                          0.004998226736
                        ]
                      },
                      {
                        "passed_time": 1.098317905,
                        "iteration": 814,
                        "remaining_time": 0.2493114262,
                        "learn": [
                          0.004994202088
                        ]
                      },
                      {
                        "passed_time": 1.099471505,
                        "iteration": 815,
                        "remaining_time": 0.2479200452,
                        "learn": [
                          0.004992300504
                        ]
                      },
                      {
                        "passed_time": 1.1007002,
                        "iteration": 816,
                        "remaining_time": 0.2465460668,
                        "learn": [
                          0.004990287125
                        ]
                      },
                      {
                        "passed_time": 1.101840488,
                        "iteration": 817,
                        "remaining_time": 0.2451527735,
                        "learn": [
                          0.004989261332
                        ]
                      },
                      {
                        "passed_time": 1.103066947,
                        "iteration": 818,
                        "remaining_time": 0.2437791421,
                        "learn": [
                          0.004986902708
                        ]
                      },
                      {
                        "passed_time": 1.104240444,
                        "iteration": 819,
                        "remaining_time": 0.2423942439,
                        "learn": [
                          0.004981123539
                        ]
                      },
                      {
                        "passed_time": 1.10536114,
                        "iteration": 820,
                        "remaining_time": 0.2409983484,
                        "learn": [
                          0.004976893767
                        ]
                      },
                      {
                        "passed_time": 1.106526995,
                        "iteration": 821,
                        "remaining_time": 0.2396129015,
                        "learn": [
                          0.004973178307
                        ]
                      },
                      {
                        "passed_time": 1.107716652,
                        "iteration": 822,
                        "remaining_time": 0.2382331075,
                        "learn": [
                          0.004969285887
                        ]
                      },
                      {
                        "passed_time": 1.10886785,
                        "iteration": 823,
                        "remaining_time": 0.2368455601,
                        "learn": [
                          0.004964767521
                        ]
                      },
                      {
                        "passed_time": 1.110097403,
                        "iteration": 824,
                        "remaining_time": 0.2354752066,
                        "learn": [
                          0.004961646448
                        ]
                      },
                      {
                        "passed_time": 1.111291533,
                        "iteration": 825,
                        "remaining_time": 0.2340977321,
                        "learn": [
                          0.004958928258
                        ]
                      },
                      {
                        "passed_time": 1.112485308,
                        "iteration": 826,
                        "remaining_time": 0.2327206268,
                        "learn": [
                          0.004954384057
                        ]
                      },
                      {
                        "passed_time": 1.113674711,
                        "iteration": 827,
                        "remaining_time": 0.231343056,
                        "learn": [
                          0.004951464458
                        ]
                      },
                      {
                        "passed_time": 1.114809931,
                        "iteration": 828,
                        "remaining_time": 0.2299547627,
                        "learn": [
                          0.004950249922
                        ]
                      },
                      {
                        "passed_time": 1.115926945,
                        "iteration": 829,
                        "remaining_time": 0.2285633502,
                        "learn": [
                          0.004948269222
                        ]
                      },
                      {
                        "passed_time": 1.117031097,
                        "iteration": 830,
                        "remaining_time": 0.2271699825,
                        "learn": [
                          0.004946756673
                        ]
                      },
                      {
                        "passed_time": 1.118176694,
                        "iteration": 831,
                        "remaining_time": 0.2257856785,
                        "learn": [
                          0.004940905007
                        ]
                      },
                      {
                        "passed_time": 1.119370915,
                        "iteration": 832,
                        "remaining_time": 0.2244116961,
                        "learn": [
                          0.004934338304
                        ]
                      },
                      {
                        "passed_time": 1.120540803,
                        "iteration": 833,
                        "remaining_time": 0.2230333014,
                        "learn": [
                          0.004930052058
                        ]
                      },
                      {
                        "passed_time": 1.121691255,
                        "iteration": 834,
                        "remaining_time": 0.2216515653,
                        "learn": [
                          0.004927519523
                        ]
                      },
                      {
                        "passed_time": 1.122815636,
                        "iteration": 835,
                        "remaining_time": 0.2202652683,
                        "learn": [
                          0.004923416143
                        ]
                      },
                      {
                        "passed_time": 1.123954204,
                        "iteration": 836,
                        "remaining_time": 0.21888236,
                        "learn": [
                          0.004917253815
                        ]
                      },
                      {
                        "passed_time": 1.12512546,
                        "iteration": 837,
                        "remaining_time": 0.2175063539,
                        "learn": [
                          0.004915484172
                        ]
                      },
                      {
                        "passed_time": 1.126323025,
                        "iteration": 838,
                        "remaining_time": 0.2161358845,
                        "learn": [
                          0.004911750733
                        ]
                      },
                      {
                        "passed_time": 1.127459235,
                        "iteration": 839,
                        "remaining_time": 0.21475414,
                        "learn": [
                          0.004910014657
                        ]
                      },
                      {
                        "passed_time": 1.128751187,
                        "iteration": 840,
                        "remaining_time": 0.2134024242,
                        "learn": [
                          0.004906811053
                        ]
                      },
                      {
                        "passed_time": 1.130039737,
                        "iteration": 841,
                        "remaining_time": 0.2120502119,
                        "learn": [
                          0.004903631511
                        ]
                      },
                      {
                        "passed_time": 1.131362015,
                        "iteration": 842,
                        "remaining_time": 0.2107044323,
                        "learn": [
                          0.004901674654
                        ]
                      },
                      {
                        "passed_time": 1.132560432,
                        "iteration": 843,
                        "remaining_time": 0.2093358144,
                        "learn": [
                          0.004897122254
                        ]
                      },
                      {
                        "passed_time": 1.13383284,
                        "iteration": 844,
                        "remaining_time": 0.2079811718,
                        "learn": [
                          0.004895424583
                        ]
                      },
                      {
                        "passed_time": 1.135002923,
                        "iteration": 845,
                        "remaining_time": 0.2066080971,
                        "learn": [
                          0.004892415527
                        ]
                      },
                      {
                        "passed_time": 1.136148374,
                        "iteration": 846,
                        "remaining_time": 0.2052310522,
                        "learn": [
                          0.004886994416
                        ]
                      },
                      {
                        "passed_time": 1.137342992,
                        "iteration": 847,
                        "remaining_time": 0.2038633665,
                        "learn": [
                          0.004882790917
                        ]
                      },
                      {
                        "passed_time": 1.138468382,
                        "iteration": 848,
                        "remaining_time": 0.2024837758,
                        "learn": [
                          0.00487837184
                        ]
                      },
                      {
                        "passed_time": 1.139675335,
                        "iteration": 849,
                        "remaining_time": 0.2011191768,
                        "learn": [
                          0.004876841082
                        ]
                      },
                      {
                        "passed_time": 1.14084858,
                        "iteration": 850,
                        "remaining_time": 0.1997490463,
                        "learn": [
                          0.004874276163
                        ]
                      },
                      {
                        "passed_time": 1.141993369,
                        "iteration": 851,
                        "remaining_time": 0.198374435,
                        "learn": [
                          0.00487132127
                        ]
                      },
                      {
                        "passed_time": 1.143160908,
                        "iteration": 852,
                        "remaining_time": 0.1970042831,
                        "learn": [
                          0.004868398108
                        ]
                      },
                      {
                        "passed_time": 1.144339871,
                        "iteration": 853,
                        "remaining_time": 0.1956365587,
                        "learn": [
                          0.004864714677
                        ]
                      },
                      {
                        "passed_time": 1.145489689,
                        "iteration": 854,
                        "remaining_time": 0.1942643332,
                        "learn": [
                          0.004862996727
                        ]
                      },
                      {
                        "passed_time": 1.146623882,
                        "iteration": 855,
                        "remaining_time": 0.1928899988,
                        "learn": [
                          0.004859746631
                        ]
                      },
                      {
                        "passed_time": 1.147811538,
                        "iteration": 856,
                        "remaining_time": 0.1915251457,
                        "learn": [
                          0.004858717764
                        ]
                      },
                      {
                        "passed_time": 1.148958733,
                        "iteration": 857,
                        "remaining_time": 0.1901540094,
                        "learn": [
                          0.004855824278
                        ]
                      },
                      {
                        "passed_time": 1.150082151,
                        "iteration": 858,
                        "remaining_time": 0.1887794916,
                        "learn": [
                          0.004854268808
                        ]
                      },
                      {
                        "passed_time": 1.151341149,
                        "iteration": 859,
                        "remaining_time": 0.1874276289,
                        "learn": [
                          0.004850913513
                        ]
                      },
                      {
                        "passed_time": 1.152524179,
                        "iteration": 860,
                        "remaining_time": 0.1860637177,
                        "learn": [
                          0.004848684046
                        ]
                      },
                      {
                        "passed_time": 1.15367069,
                        "iteration": 861,
                        "remaining_time": 0.1846943796,
                        "learn": [
                          0.004846257747
                        ]
                      },
                      {
                        "passed_time": 1.154786512,
                        "iteration": 862,
                        "remaining_time": 0.1833206861,
                        "learn": [
                          0.004840304766
                        ]
                      },
                      {
                        "passed_time": 1.155946755,
                        "iteration": 863,
                        "remaining_time": 0.1819545818,
                        "learn": [
                          0.00483873472
                        ]
                      },
                      {
                        "passed_time": 1.157093368,
                        "iteration": 864,
                        "remaining_time": 0.1805868262,
                        "learn": [
                          0.004836070134
                        ]
                      },
                      {
                        "passed_time": 1.158251669,
                        "iteration": 865,
                        "remaining_time": 0.17922139,
                        "learn": [
                          0.004833852427
                        ]
                      },
                      {
                        "passed_time": 1.159357953,
                        "iteration": 866,
                        "remaining_time": 0.1778484519,
                        "learn": [
                          0.004829424083
                        ]
                      },
                      {
                        "passed_time": 1.160466169,
                        "iteration": 867,
                        "remaining_time": 0.1764764221,
                        "learn": [
                          0.004827750267
                        ]
                      },
                      {
                        "passed_time": 1.16169244,
                        "iteration": 868,
                        "remaining_time": 0.1751227959,
                        "learn": [
                          0.004827002732
                        ]
                      },
                      {
                        "passed_time": 1.162811454,
                        "iteration": 869,
                        "remaining_time": 0.1737534357,
                        "learn": [
                          0.004822255479
                        ]
                      },
                      {
                        "passed_time": 1.163949944,
                        "iteration": 870,
                        "remaining_time": 0.1723875347,
                        "learn": [
                          0.004818585091
                        ]
                      },
                      {
                        "passed_time": 1.165077572,
                        "iteration": 871,
                        "remaining_time": 0.1710205611,
                        "learn": [
                          0.004814002112
                        ]
                      },
                      {
                        "passed_time": 1.166244619,
                        "iteration": 872,
                        "remaining_time": 0.1696598701,
                        "learn": [
                          0.004812869071
                        ]
                      },
                      {
                        "passed_time": 1.167434877,
                        "iteration": 873,
                        "remaining_time": 0.1683029685,
                        "learn": [
                          0.004810239398
                        ]
                      },
                      {
                        "passed_time": 1.168574026,
                        "iteration": 874,
                        "remaining_time": 0.1669391465,
                        "learn": [
                          0.004807622031
                        ]
                      },
                      {
                        "passed_time": 1.169720929,
                        "iteration": 875,
                        "remaining_time": 0.1655769351,
                        "learn": [
                          0.004806362451
                        ]
                      },
                      {
                        "passed_time": 1.170836492,
                        "iteration": 876,
                        "remaining_time": 0.1642108192,
                        "learn": [
                          0.004801873434
                        ]
                      },
                      {
                        "passed_time": 1.172014211,
                        "iteration": 877,
                        "remaining_time": 0.1628539109,
                        "learn": [
                          0.004799339058
                        ]
                      },
                      {
                        "passed_time": 1.173132614,
                        "iteration": 878,
                        "remaining_time": 0.161489245,
                        "learn": [
                          0.004797382716
                        ]
                      },
                      {
                        "passed_time": 1.174273943,
                        "iteration": 879,
                        "remaining_time": 0.160128265,
                        "learn": [
                          0.004794104494
                        ]
                      },
                      {
                        "passed_time": 1.175417959,
                        "iteration": 880,
                        "remaining_time": 0.1587681466,
                        "learn": [
                          0.004790542045
                        ]
                      },
                      {
                        "passed_time": 1.176670133,
                        "iteration": 881,
                        "remaining_time": 0.1574229883,
                        "learn": [
                          0.004787932886
                        ]
                      },
                      {
                        "passed_time": 1.177794522,
                        "iteration": 882,
                        "remaining_time": 0.1560611088,
                        "learn": [
                          0.0047860412
                        ]
                      },
                      {
                        "passed_time": 1.178950586,
                        "iteration": 883,
                        "remaining_time": 0.154703923,
                        "learn": [
                          0.004783708268
                        ]
                      },
                      {
                        "passed_time": 1.180146979,
                        "iteration": 884,
                        "remaining_time": 0.1533524322,
                        "learn": [
                          0.004779672033
                        ]
                      },
                      {
                        "passed_time": 1.181292378,
                        "iteration": 885,
                        "remaining_time": 0.1519947303,
                        "learn": [
                          0.004776532816
                        ]
                      },
                      {
                        "passed_time": 1.182463367,
                        "iteration": 886,
                        "remaining_time": 0.1506407672,
                        "learn": [
                          0.004773748978
                        ]
                      },
                      {
                        "passed_time": 1.18362937,
                        "iteration": 887,
                        "remaining_time": 0.1492865872,
                        "learn": [
                          0.004771347267
                        ]
                      },
                      {
                        "passed_time": 1.184738528,
                        "iteration": 888,
                        "remaining_time": 0.1479257329,
                        "learn": [
                          0.00476756633
                        ]
                      },
                      {
                        "passed_time": 1.185880935,
                        "iteration": 889,
                        "remaining_time": 0.1465695538,
                        "learn": [
                          0.004764788632
                        ]
                      },
                      {
                        "passed_time": 1.187060241,
                        "iteration": 890,
                        "remaining_time": 0.1452183684,
                        "learn": [
                          0.004762537649
                        ]
                      },
                      {
                        "passed_time": 1.188206568,
                        "iteration": 891,
                        "remaining_time": 0.1438635754,
                        "learn": [
                          0.004759223763
                        ]
                      },
                      {
                        "passed_time": 1.189379535,
                        "iteration": 892,
                        "remaining_time": 0.1425124414,
                        "learn": [
                          0.004757811868
                        ]
                      },
                      {
                        "passed_time": 1.19073391,
                        "iteration": 893,
                        "remaining_time": 0.1411832153,
                        "learn": [
                          0.004753699027
                        ]
                      },
                      {
                        "passed_time": 1.191895801,
                        "iteration": 894,
                        "remaining_time": 0.139831351,
                        "learn": [
                          0.004752853599
                        ]
                      },
                      {
                        "passed_time": 1.193013503,
                        "iteration": 895,
                        "remaining_time": 0.1384747816,
                        "learn": [
                          0.004747866623
                        ]
                      },
                      {
                        "passed_time": 1.194155721,
                        "iteration": 896,
                        "remaining_time": 0.1371215599,
                        "learn": [
                          0.004744127604
                        ]
                      },
                      {
                        "passed_time": 1.195281607,
                        "iteration": 897,
                        "remaining_time": 0.1357669531,
                        "learn": [
                          0.004741167301
                        ]
                      },
                      {
                        "passed_time": 1.196406247,
                        "iteration": 898,
                        "remaining_time": 0.1344127152,
                        "learn": [
                          0.004738237932
                        ]
                      },
                      {
                        "passed_time": 1.197554591,
                        "iteration": 899,
                        "remaining_time": 0.1330616212,
                        "learn": [
                          0.004735764315
                        ]
                      },
                      {
                        "passed_time": 1.198662986,
                        "iteration": 900,
                        "remaining_time": 0.1317065878,
                        "learn": [
                          0.004733630862
                        ]
                      },
                      {
                        "passed_time": 1.199804169,
                        "iteration": 901,
                        "remaining_time": 0.1303556636,
                        "learn": [
                          0.004731538119
                        ]
                      },
                      {
                        "passed_time": 1.200981439,
                        "iteration": 902,
                        "remaining_time": 0.1290090804,
                        "learn": [
                          0.004729190864
                        ]
                      },
                      {
                        "passed_time": 1.202165144,
                        "iteration": 903,
                        "remaining_time": 0.1276635552,
                        "learn": [
                          0.004728581793
                        ]
                      },
                      {
                        "passed_time": 1.203322291,
                        "iteration": 904,
                        "remaining_time": 0.1263155996,
                        "learn": [
                          0.004726293917
                        ]
                      },
                      {
                        "passed_time": 1.204506551,
                        "iteration": 905,
                        "remaining_time": 0.1249708784,
                        "learn": [
                          0.004722365654
                        ]
                      },
                      {
                        "passed_time": 1.205709682,
                        "iteration": 906,
                        "remaining_time": 0.1236284459,
                        "learn": [
                          0.004718453873
                        ]
                      },
                      {
                        "passed_time": 1.207136481,
                        "iteration": 907,
                        "remaining_time": 0.1223089827,
                        "learn": [
                          0.004716398268
                        ]
                      },
                      {
                        "passed_time": 1.208340182,
                        "iteration": 908,
                        "remaining_time": 0.1209669489,
                        "learn": [
                          0.004713831676
                        ]
                      },
                      {
                        "passed_time": 1.20956815,
                        "iteration": 909,
                        "remaining_time": 0.1196276192,
                        "learn": [
                          0.004710614367
                        ]
                      },
                      {
                        "passed_time": 1.21071853,
                        "iteration": 910,
                        "remaining_time": 0.118280954,
                        "learn": [
                          0.004706084
                        ]
                      },
                      {
                        "passed_time": 1.211997175,
                        "iteration": 911,
                        "remaining_time": 0.1169470959,
                        "learn": [
                          0.004702036362
                        ]
                      },
                      {
                        "passed_time": 1.213106614,
                        "iteration": 912,
                        "remaining_time": 0.1155972348,
                        "learn": [
                          0.004700600954
                        ]
                      },
                      {
                        "passed_time": 1.21424073,
                        "iteration": 913,
                        "remaining_time": 0.1142502219,
                        "learn": [
                          0.004697905352
                        ]
                      },
                      {
                        "passed_time": 1.215435245,
                        "iteration": 914,
                        "remaining_time": 0.1129092851,
                        "learn": [
                          0.004693912854
                        ]
                      },
                      {
                        "passed_time": 1.216584368,
                        "iteration": 915,
                        "remaining_time": 0.1115645054,
                        "learn": [
                          0.004690325771
                        ]
                      },
                      {
                        "passed_time": 1.217740503,
                        "iteration": 916,
                        "remaining_time": 0.1102207871,
                        "learn": [
                          0.004689512575
                        ]
                      },
                      {
                        "passed_time": 1.218864281,
                        "iteration": 917,
                        "remaining_time": 0.1088745872,
                        "learn": [
                          0.004686740098
                        ]
                      },
                      {
                        "passed_time": 1.219994159,
                        "iteration": 918,
                        "remaining_time": 0.107529409,
                        "learn": [
                          0.004682142156
                        ]
                      },
                      {
                        "passed_time": 1.221171827,
                        "iteration": 919,
                        "remaining_time": 0.1061888546,
                        "learn": [
                          0.004680675807
                        ]
                      },
                      {
                        "passed_time": 1.222283077,
                        "iteration": 920,
                        "remaining_time": 0.1048429567,
                        "learn": [
                          0.004677035726
                        ]
                      },
                      {
                        "passed_time": 1.223452866,
                        "iteration": 921,
                        "remaining_time": 0.1035025201,
                        "learn": [
                          0.00467134528
                        ]
                      },
                      {
                        "passed_time": 1.224575054,
                        "iteration": 922,
                        "remaining_time": 0.1021584823,
                        "learn": [
                          0.004668797675
                        ]
                      },
                      {
                        "passed_time": 1.225755785,
                        "iteration": 923,
                        "remaining_time": 0.1008197399,
                        "learn": [
                          0.004666626131
                        ]
                      },
                      {
                        "passed_time": 1.226935177,
                        "iteration": 924,
                        "remaining_time": 0.09948123056,
                        "learn": [
                          0.004665648642
                        ]
                      },
                      {
                        "passed_time": 1.228037198,
                        "iteration": 925,
                        "remaining_time": 0.09813688195,
                        "learn": [
                          0.004662655035
                        ]
                      },
                      {
                        "passed_time": 1.229147714,
                        "iteration": 926,
                        "remaining_time": 0.09679372509,
                        "learn": [
                          0.004658676585
                        ]
                      },
                      {
                        "passed_time": 1.230323098,
                        "iteration": 927,
                        "remaining_time": 0.09545610243,
                        "learn": [
                          0.004654585086
                        ]
                      },
                      {
                        "passed_time": 1.233488696,
                        "iteration": 928,
                        "remaining_time": 0.0942709337,
                        "learn": [
                          0.004653272132
                        ]
                      },
                      {
                        "passed_time": 1.235618906,
                        "iteration": 929,
                        "remaining_time": 0.09300357358,
                        "learn": [
                          0.004649423231
                        ]
                      },
                      {
                        "passed_time": 1.237896643,
                        "iteration": 930,
                        "remaining_time": 0.09174529366,
                        "learn": [
                          0.004644786067
                        ]
                      },
                      {
                        "passed_time": 1.244372948,
                        "iteration": 931,
                        "remaining_time": 0.0907911593,
                        "learn": [
                          0.004644068273
                        ]
                      },
                      {
                        "passed_time": 1.245991278,
                        "iteration": 932,
                        "remaining_time": 0.08947632975,
                        "learn": [
                          0.004642689438
                        ]
                      },
                      {
                        "passed_time": 1.24735771,
                        "iteration": 933,
                        "remaining_time": 0.08814305017,
                        "learn": [
                          0.004642103953
                        ]
                      },
                      {
                        "passed_time": 1.248536128,
                        "iteration": 934,
                        "remaining_time": 0.0867966292,
                        "learn": [
                          0.004639489065
                        ]
                      },
                      {
                        "passed_time": 1.249691333,
                        "iteration": 935,
                        "remaining_time": 0.08544898006,
                        "learn": [
                          0.00463625743
                        ]
                      },
                      {
                        "passed_time": 1.250875322,
                        "iteration": 936,
                        "remaining_time": 0.08410367692,
                        "learn": [
                          0.004634222787
                        ]
                      },
                      {
                        "passed_time": 1.252076802,
                        "iteration": 937,
                        "remaining_time": 0.08275987388,
                        "learn": [
                          0.004633066582
                        ]
                      },
                      {
                        "passed_time": 1.253211128,
                        "iteration": 938,
                        "remaining_time": 0.08141201154,
                        "learn": [
                          0.004631224481
                        ]
                      },
                      {
                        "passed_time": 1.254362271,
                        "iteration": 939,
                        "remaining_time": 0.08006567686,
                        "learn": [
                          0.004628667604
                        ]
                      },
                      {
                        "passed_time": 1.255526526,
                        "iteration": 940,
                        "remaining_time": 0.07872057923,
                        "learn": [
                          0.004627247035
                        ]
                      },
                      {
                        "passed_time": 1.25674431,
                        "iteration": 941,
                        "remaining_time": 0.07737916135,
                        "learn": [
                          0.004622447098
                        ]
                      },
                      {
                        "passed_time": 1.257921594,
                        "iteration": 942,
                        "remaining_time": 0.07603555763,
                        "learn": [
                          0.004619556205
                        ]
                      },
                      {
                        "passed_time": 1.259142062,
                        "iteration": 943,
                        "remaining_time": 0.07469486811,
                        "learn": [
                          0.004618408388
                        ]
                      },
                      {
                        "passed_time": 1.260310938,
                        "iteration": 944,
                        "remaining_time": 0.07335143027,
                        "learn": [
                          0.004614650716
                        ]
                      },
                      {
                        "passed_time": 1.261477509,
                        "iteration": 945,
                        "remaining_time": 0.07200822988,
                        "learn": [
                          0.004611845859
                        ]
                      },
                      {
                        "passed_time": 1.262821109,
                        "iteration": 946,
                        "remaining_time": 0.07067531024,
                        "learn": [
                          0.004609104786
                        ]
                      },
                      {
                        "passed_time": 1.26398058,
                        "iteration": 947,
                        "remaining_time": 0.06933226811,
                        "learn": [
                          0.004606514205
                        ]
                      },
                      {
                        "passed_time": 1.265103795,
                        "iteration": 948,
                        "remaining_time": 0.06798766441,
                        "learn": [
                          0.004604561689
                        ]
                      },
                      {
                        "passed_time": 1.266259699,
                        "iteration": 949,
                        "remaining_time": 0.06664524734,
                        "learn": [
                          0.004602218442
                        ]
                      },
                      {
                        "passed_time": 1.267400824,
                        "iteration": 950,
                        "remaining_time": 0.06530246096,
                        "learn": [
                          0.004599040162
                        ]
                      },
                      {
                        "passed_time": 1.26856968,
                        "iteration": 951,
                        "remaining_time": 0.06396149646,
                        "learn": [
                          0.004595992019
                        ]
                      },
                      {
                        "passed_time": 1.269732765,
                        "iteration": 952,
                        "remaining_time": 0.06262060856,
                        "learn": [
                          0.004595216826
                        ]
                      },
                      {
                        "passed_time": 1.27085681,
                        "iteration": 953,
                        "remaining_time": 0.06127821096,
                        "learn": [
                          0.004589158178
                        ]
                      },
                      {
                        "passed_time": 1.273236217,
                        "iteration": 954,
                        "remaining_time": 0.05999542384,
                        "learn": [
                          0.004587081858
                        ]
                      },
                      {
                        "passed_time": 1.275588561,
                        "iteration": 955,
                        "remaining_time": 0.05870909697,
                        "learn": [
                          0.004585153841
                        ]
                      },
                      {
                        "passed_time": 1.278926204,
                        "iteration": 956,
                        "remaining_time": 0.05746481377,
                        "learn": [
                          0.004582126672
                        ]
                      },
                      {
                        "passed_time": 1.280286027,
                        "iteration": 957,
                        "remaining_time": 0.05612945004,
                        "learn": [
                          0.004581262484
                        ]
                      },
                      {
                        "passed_time": 1.281407613,
                        "iteration": 958,
                        "remaining_time": 0.05478384997,
                        "learn": [
                          0.004577260199
                        ]
                      },
                      {
                        "passed_time": 1.282545974,
                        "iteration": 959,
                        "remaining_time": 0.0534394156,
                        "learn": [
                          0.004576057814
                        ]
                      },
                      {
                        "passed_time": 1.283693349,
                        "iteration": 960,
                        "remaining_time": 0.05209577586,
                        "learn": [
                          0.004574123001
                        ]
                      },
                      {
                        "passed_time": 1.284854227,
                        "iteration": 961,
                        "remaining_time": 0.05075307759,
                        "learn": [
                          0.004572814044
                        ]
                      },
                      {
                        "passed_time": 1.286037271,
                        "iteration": 962,
                        "remaining_time": 0.04941160853,
                        "learn": [
                          0.0045700732
                        ]
                      },
                      {
                        "passed_time": 1.287145733,
                        "iteration": 963,
                        "remaining_time": 0.04806768296,
                        "learn": [
                          0.004565475121
                        ]
                      },
                      {
                        "passed_time": 1.288318944,
                        "iteration": 964,
                        "remaining_time": 0.04672659382,
                        "learn": [
                          0.004562770991
                        ]
                      },
                      {
                        "passed_time": 1.289455243,
                        "iteration": 965,
                        "remaining_time": 0.04538455308,
                        "learn": [
                          0.004560158849
                        ]
                      },
                      {
                        "passed_time": 1.290566157,
                        "iteration": 966,
                        "remaining_time": 0.04404207155,
                        "learn": [
                          0.004558687687
                        ]
                      },
                      {
                        "passed_time": 1.291704859,
                        "iteration": 967,
                        "remaining_time": 0.04270098707,
                        "learn": [
                          0.004556524927
                        ]
                      },
                      {
                        "passed_time": 1.292818729,
                        "iteration": 968,
                        "remaining_time": 0.0413595259,
                        "learn": [
                          0.004552147732
                        ]
                      },
                      {
                        "passed_time": 1.293961165,
                        "iteration": 969,
                        "remaining_time": 0.04001941748,
                        "learn": [
                          0.004547253366
                        ]
                      },
                      {
                        "passed_time": 1.295129311,
                        "iteration": 970,
                        "remaining_time": 0.03868048406,
                        "learn": [
                          0.004545343653
                        ]
                      },
                      {
                        "passed_time": 1.296402153,
                        "iteration": 971,
                        "remaining_time": 0.03734491799,
                        "learn": [
                          0.004541676475
                        ]
                      },
                      {
                        "passed_time": 1.29763367,
                        "iteration": 972,
                        "remaining_time": 0.03600833411,
                        "learn": [
                          0.004539088477
                        ]
                      },
                      {
                        "passed_time": 1.298772158,
                        "iteration": 973,
                        "remaining_time": 0.03466948267,
                        "learn": [
                          0.004534152336
                        ]
                      },
                      {
                        "passed_time": 1.300010598,
                        "iteration": 974,
                        "remaining_time": 0.03333360509,
                        "learn": [
                          0.004530948282
                        ]
                      },
                      {
                        "passed_time": 1.301119187,
                        "iteration": 975,
                        "remaining_time": 0.0319947341,
                        "learn": [
                          0.004529331121
                        ]
                      },
                      {
                        "passed_time": 1.302259305,
                        "iteration": 976,
                        "remaining_time": 0.03065707678,
                        "learn": [
                          0.004528660016
                        ]
                      },
                      {
                        "passed_time": 1.303425289,
                        "iteration": 977,
                        "remaining_time": 0.02932040528,
                        "learn": [
                          0.004525809019
                        ]
                      },
                      {
                        "passed_time": 1.304629464,
                        "iteration": 978,
                        "remaining_time": 0.02798490168,
                        "learn": [
                          0.004524480592
                        ]
                      },
                      {
                        "passed_time": 1.305920727,
                        "iteration": 979,
                        "remaining_time": 0.02665144341,
                        "learn": [
                          0.004522616539
                        ]
                      },
                      {
                        "passed_time": 1.307047904,
                        "iteration": 980,
                        "remaining_time": 0.02531489315,
                        "learn": [
                          0.004518562648
                        ]
                      },
                      {
                        "passed_time": 1.308309126,
                        "iteration": 981,
                        "remaining_time": 0.02398122633,
                        "learn": [
                          0.004517158971
                        ]
                      },
                      {
                        "passed_time": 1.309521419,
                        "iteration": 982,
                        "remaining_time": 0.02264686075,
                        "learn": [
                          0.004512784636
                        ]
                      },
                      {
                        "passed_time": 1.310698832,
                        "iteration": 983,
                        "remaining_time": 0.02131217613,
                        "learn": [
                          0.004509314643
                        ]
                      },
                      {
                        "passed_time": 1.311826698,
                        "iteration": 984,
                        "remaining_time": 0.01997705632,
                        "learn": [
                          0.004508660279
                        ]
                      },
                      {
                        "passed_time": 1.312953581,
                        "iteration": 985,
                        "remaining_time": 0.01864234293,
                        "learn": [
                          0.00450545112
                        ]
                      },
                      {
                        "passed_time": 1.315021094,
                        "iteration": 986,
                        "remaining_time": 0.01732043994,
                        "learn": [
                          0.004502733316
                        ]
                      },
                      {
                        "passed_time": 1.316571142,
                        "iteration": 987,
                        "remaining_time": 0.01599074262,
                        "learn": [
                          0.004499218949
                        ]
                      },
                      {
                        "passed_time": 1.317705615,
                        "iteration": 988,
                        "remaining_time": 0.01465597752,
                        "learn": [
                          0.004495783958
                        ]
                      },
                      {
                        "passed_time": 1.318896194,
                        "iteration": 989,
                        "remaining_time": 0.01332218378,
                        "learn": [
                          0.004494137016
                        ]
                      },
                      {
                        "passed_time": 1.320033906,
                        "iteration": 990,
                        "remaining_time": 0.01198819894,
                        "learn": [
                          0.00449168334
                        ]
                      },
                      {
                        "passed_time": 1.321239597,
                        "iteration": 991,
                        "remaining_time": 0.01065515804,
                        "learn": [
                          0.004488471702
                        ]
                      },
                      {
                        "passed_time": 1.322360844,
                        "iteration": 992,
                        "remaining_time": 0.009321778356,
                        "learn": [
                          0.00448584918
                        ]
                      },
                      {
                        "passed_time": 1.323482303,
                        "iteration": 993,
                        "remaining_time": 0.007988826781,
                        "learn": [
                          0.004483788149
                        ]
                      },
                      {
                        "passed_time": 1.324678209,
                        "iteration": 994,
                        "remaining_time": 0.006656674418,
                        "learn": [
                          0.004481408854
                        ]
                      },
                      {
                        "passed_time": 1.325842113,
                        "iteration": 995,
                        "remaining_time": 0.005324667119,
                        "learn": [
                          0.004477179942
                        ]
                      },
                      {
                        "passed_time": 1.326958724,
                        "iteration": 996,
                        "remaining_time": 0.003992854735,
                        "learn": [
                          0.00447498923
                        ]
                      },
                      {
                        "passed_time": 1.328153056,
                        "iteration": 997,
                        "remaining_time": 0.002661629371,
                        "learn": [
                          0.004471938417
                        ]
                      },
                      {
                        "passed_time": 1.329282275,
                        "iteration": 998,
                        "remaining_time": 0.001330612888,
                        "learn": [
                          0.004469667118
                        ]
                      },
                      {
                        "passed_time": 1.330423709,
                        "iteration": 999,
                        "remaining_time": 0,
                        "learn": [
                          0.004466653597
                        ]
                      }
                    ]
                  },
                  "total_iterations": 1000,
                  "passed_iterations": 999
                },
                "path": "catboost_info",
                "name": "catboost_info"
              }
            },
            "_view_module": "catboost-widget",
            "_model_module_version": "^1.0.0",
            "_view_count": null,
            "_view_module_version": "^1.0.0",
            "layout": "IPY_MODEL_d1af8565501c47a98b06a3b0d083040c",
            "_model_module": "catboost-widget"
          }
        }
      }
    }
  },
  "cells": [
    {
      "cell_type": "markdown",
      "metadata": {
        "id": "view-in-github",
        "colab_type": "text"
      },
      "source": [
        "<a href=\"https://colab.research.google.com/github/msb1002/models/blob/master/Models.ipynb\" target=\"_parent\"><img src=\"https://colab.research.google.com/assets/colab-badge.svg\" alt=\"Open In Colab\"/></a>"
      ]
    },
    {
      "cell_type": "markdown",
      "metadata": {
        "id": "R8_fvOzTytD_"
      },
      "source": [
        "# Models Pipeline\n",
        "\n",
        "Sun Bin MUN\n",
        "\n",
        "If the data are used in STOOQ, skip step 2 and \n",
        "go directly to Step 3 - model validation"
      ]
    },
    {
      "cell_type": "markdown",
      "metadata": {
        "id": "Vk-3B5ghyxvI"
      },
      "source": [
        "##1. Library Import"
      ]
    },
    {
      "cell_type": "code",
      "metadata": {
        "colab": {
          "base_uri": "https://localhost:8080/"
        },
        "id": "h1XVaNQEysTF",
        "outputId": "cf5045aa-78e6-4278-c84d-f4ed86d0af0d"
      },
      "source": [
        "from google.colab import drive\n",
        "drive.mount('/content/drive/')"
      ],
      "execution_count": null,
      "outputs": [
        {
          "output_type": "stream",
          "name": "stdout",
          "text": [
            "Mounted at /content/drive/\n"
          ]
        }
      ]
    },
    {
      "cell_type": "code",
      "metadata": {
        "id": "hmuB3k6mylAO",
        "colab": {
          "base_uri": "https://localhost:8080/"
        },
        "outputId": "f3627ec8-35b1-47c5-aee1-71707f6103a9"
      },
      "source": [
        "import numpy as np\n",
        "import pandas as pd\n",
        "import matplotlib.pyplot as plt\n",
        "\n",
        "import torch.nn as nn\n",
        "import os.path as osp\n",
        "import torch.utils.data as data\n",
        "import torch.nn.functional as F\n",
        "\n",
        "from tqdm import tqdm\n",
        "import time, matplotlib, torch, os\n",
        "from statsmodels.tsa.arima_model import ARIMA\n",
        "from torch.utils.tensorboard import SummaryWriter"
      ],
      "execution_count": null,
      "outputs": [
        {
          "output_type": "stream",
          "name": "stderr",
          "text": [
            "/usr/local/lib/python3.7/dist-packages/statsmodels/tools/_testing.py:19: FutureWarning: pandas.util.testing is deprecated. Use the functions in the public API at pandas.testing instead.\n",
            "  import pandas.util.testing as tm\n"
          ]
        }
      ]
    },
    {
      "cell_type": "code",
      "metadata": {
        "id": "8oksc1P41mEM"
      },
      "source": [
        "import os\n",
        "from os import walk\n",
        "\n",
        "import plotly\n",
        "%matplotlib inline\n",
        "import datetime\n",
        "import numpy as np\n",
        "import pandas as pd\n",
        "import matplotlib.pyplot as plt\n",
        "import plotly.graph_objects as go\n",
        "from datetime import datetime\n",
        "#import seaborn as sns"
      ],
      "execution_count": null,
      "outputs": []
    },
    {
      "cell_type": "code",
      "metadata": {
        "id": "YSYq86FJCYy3"
      },
      "source": [
        "import tensorflow as tf\n",
        "from tensorflow import keras\n",
        "from tensorflow.keras import layers\n",
        "from sklearn.preprocessing import MinMaxScaler\n",
        "from sklearn.model_selection import train_test_split\n",
        "from sklearn.metrics import r2_score, mean_squared_error, mean_absolute_error"
      ],
      "execution_count": null,
      "outputs": []
    },
    {
      "cell_type": "code",
      "metadata": {
        "id": "4BYyOxIKA8kd"
      },
      "source": [
        "#For DNN / CNN+LSTM\n",
        "import keras.backend as K\n",
        "from keras.models import Sequential\n",
        "from keras.layers import Conv1D, LSTM, Flatten, Dense"
      ],
      "execution_count": null,
      "outputs": []
    },
    {
      "cell_type": "code",
      "metadata": {
        "id": "NeItdZ3TOgfa"
      },
      "source": [
        "#For SVR\n",
        "from sklearn.svm import SVR\n",
        "\n",
        "#For SVM\n",
        "from sklearn import svm\n",
        "from sklearn.svm import SVC"
      ],
      "execution_count": null,
      "outputs": []
    },
    {
      "cell_type": "code",
      "metadata": {
        "id": "-NK-tTTtr1lv"
      },
      "source": [
        "#For ARIMA\n",
        "import math\n",
        "import warnings\n",
        "warnings.filterwarnings('ignore')\n",
        "import statsmodels as sm\n",
        "from statsmodels.tsa.stattools import adfuller\n",
        "from statsmodels.tsa.seasonal import seasonal_decompose\n",
        "from statsmodels.tsa.arima_model import ARIMA\n",
        "#from pmdarima.arima import auto_arima\n",
        "from statsmodels.graphics.tsaplots import plot_acf,plot_pacf\n"
      ],
      "execution_count": null,
      "outputs": []
    },
    {
      "cell_type": "code",
      "source": [
        "pip install -q -U keras-tuner"
      ],
      "metadata": {
        "colab": {
          "base_uri": "https://localhost:8080/"
        },
        "id": "utUGtA77hMe3",
        "outputId": "d26c7349-6744-4791-a117-083757d3beb7"
      },
      "execution_count": null,
      "outputs": [
        {
          "output_type": "stream",
          "name": "stdout",
          "text": [
            "\u001b[?25l\r\u001b[K     |███▍                            | 10 kB 13.6 MB/s eta 0:00:01\r\u001b[K     |██████▊                         | 20 kB 17.1 MB/s eta 0:00:01\r\u001b[K     |██████████                      | 30 kB 10.8 MB/s eta 0:00:01\r\u001b[K     |█████████████▍                  | 40 kB 9.0 MB/s eta 0:00:01\r\u001b[K     |████████████████▊               | 51 kB 5.2 MB/s eta 0:00:01\r\u001b[K     |████████████████████            | 61 kB 5.3 MB/s eta 0:00:01\r\u001b[K     |███████████████████████▍        | 71 kB 5.4 MB/s eta 0:00:01\r\u001b[K     |██████████████████████████▊     | 81 kB 5.9 MB/s eta 0:00:01\r\u001b[K     |██████████████████████████████  | 92 kB 6.3 MB/s eta 0:00:01\r\u001b[K     |████████████████████████████████| 98 kB 3.2 MB/s \n",
            "\u001b[?25h"
          ]
        }
      ]
    },
    {
      "cell_type": "code",
      "source": [
        "#For CNN - LSTM\n",
        "import keras_tuner as kt\n",
        "from keras.models import Sequential\n",
        "from keras.layers import InputLayer, ConvLSTM1D, LSTM, Flatten, RepeatVector, Dense, TimeDistributed\n",
        "from keras.callbacks import EarlyStopping\n",
        "\n",
        "from sklearn.preprocessing import MinMaxScaler\n",
        "scaler = MinMaxScaler()\n",
        "\n",
        "from tensorflow.keras.metrics import RootMeanSquaredError\n",
        "from tensorflow.keras.optimizers import Adam\n",
        "import keras.backend as K\n",
        "#from keras.losses import Huber"
      ],
      "metadata": {
        "id": "Lj5Bp6N4gjaU"
      },
      "execution_count": null,
      "outputs": []
    },
    {
      "cell_type": "markdown",
      "metadata": {
        "id": "DwrOy2XPy1Gr"
      },
      "source": [
        "##2. Data Preprocessing\n"
      ]
    },
    {
      "cell_type": "code",
      "metadata": {
        "colab": {
          "base_uri": "https://localhost:8080/"
        },
        "id": "ADzBJ2jnBrzd",
        "outputId": "e011ed68-c6f2-4539-9f57-79cdd3fa936c"
      },
      "source": [
        "#@title\n",
        "DIR = '/content/drive/MyDrive/COMP_4981'\n",
        "\n",
        "#List of datasets\n",
        "dataset_folders = os.listdir(DIR)[1:]\n",
        "print(dataset_folders.sort())"
      ],
      "execution_count": null,
      "outputs": [
        {
          "output_type": "stream",
          "name": "stdout",
          "text": [
            "None\n"
          ]
        }
      ]
    },
    {
      "cell_type": "code",
      "metadata": {
        "id": "BRQyIEt34P94"
      },
      "source": [
        "def finder(ds,target):\n",
        "  for e in ds:\n",
        "    if code in e:\n",
        "      return e\n",
        "\n",
        "def timestamp(i):\n",
        "  formatted_date = datetime.fromtimestamp(i)\n",
        "  return formatted_date"
      ],
      "execution_count": null,
      "outputs": []
    },
    {
      "cell_type": "code",
      "metadata": {
        "colab": {
          "base_uri": "https://localhost:8080/",
          "height": 221
        },
        "id": "EvHheiJnzqSm",
        "outputId": "6c93804a-9c44-48a4-bce3-e180d965f583"
      },
      "source": [
        "code = input()+'.csv'\n",
        "filename = f'{DIR}/'+finder(dataset_folders,code)\n",
        "df = pd.read_csv(filename)\n",
        "df.head()"
      ],
      "execution_count": null,
      "outputs": [
        {
          "name": "stdout",
          "output_type": "stream",
          "text": [
            "2000\n"
          ]
        },
        {
          "output_type": "execute_result",
          "data": {
            "text/html": [
              "<div>\n",
              "<style scoped>\n",
              "    .dataframe tbody tr th:only-of-type {\n",
              "        vertical-align: middle;\n",
              "    }\n",
              "\n",
              "    .dataframe tbody tr th {\n",
              "        vertical-align: top;\n",
              "    }\n",
              "\n",
              "    .dataframe thead th {\n",
              "        text-align: right;\n",
              "    }\n",
              "</style>\n",
              "<table border=\"1\" class=\"dataframe\">\n",
              "  <thead>\n",
              "    <tr style=\"text-align: right;\">\n",
              "      <th></th>\n",
              "      <th>Unnamed: 0</th>\n",
              "      <th>timestamp</th>\n",
              "      <th>Asset_ID</th>\n",
              "      <th>Count</th>\n",
              "      <th>Open</th>\n",
              "      <th>High</th>\n",
              "      <th>Low</th>\n",
              "      <th>Close</th>\n",
              "      <th>Volume</th>\n",
              "      <th>VWAP</th>\n",
              "      <th>Target</th>\n",
              "    </tr>\n",
              "  </thead>\n",
              "  <tbody>\n",
              "    <tr>\n",
              "      <th>0</th>\n",
              "      <td>0</td>\n",
              "      <td>1514764860</td>\n",
              "      <td>2</td>\n",
              "      <td>40.0</td>\n",
              "      <td>2376.5800</td>\n",
              "      <td>2399.5000</td>\n",
              "      <td>2357.1400</td>\n",
              "      <td>2374.5900</td>\n",
              "      <td>19.233005</td>\n",
              "      <td>2373.116392</td>\n",
              "      <td>-0.004218</td>\n",
              "    </tr>\n",
              "    <tr>\n",
              "      <th>1</th>\n",
              "      <td>1</td>\n",
              "      <td>1514764860</td>\n",
              "      <td>0</td>\n",
              "      <td>5.0</td>\n",
              "      <td>8.5300</td>\n",
              "      <td>8.5300</td>\n",
              "      <td>8.5300</td>\n",
              "      <td>8.5300</td>\n",
              "      <td>78.380000</td>\n",
              "      <td>8.530000</td>\n",
              "      <td>-0.014399</td>\n",
              "    </tr>\n",
              "    <tr>\n",
              "      <th>2</th>\n",
              "      <td>2</td>\n",
              "      <td>1514764860</td>\n",
              "      <td>1</td>\n",
              "      <td>229.0</td>\n",
              "      <td>13835.1940</td>\n",
              "      <td>14013.8000</td>\n",
              "      <td>13666.1100</td>\n",
              "      <td>13850.1760</td>\n",
              "      <td>31.550062</td>\n",
              "      <td>13827.062093</td>\n",
              "      <td>-0.014643</td>\n",
              "    </tr>\n",
              "    <tr>\n",
              "      <th>3</th>\n",
              "      <td>3</td>\n",
              "      <td>1514764860</td>\n",
              "      <td>5</td>\n",
              "      <td>32.0</td>\n",
              "      <td>7.6596</td>\n",
              "      <td>7.6596</td>\n",
              "      <td>7.6567</td>\n",
              "      <td>7.6576</td>\n",
              "      <td>6626.713370</td>\n",
              "      <td>7.657713</td>\n",
              "      <td>-0.013922</td>\n",
              "    </tr>\n",
              "    <tr>\n",
              "      <th>4</th>\n",
              "      <td>4</td>\n",
              "      <td>1514764860</td>\n",
              "      <td>7</td>\n",
              "      <td>5.0</td>\n",
              "      <td>25.9200</td>\n",
              "      <td>25.9200</td>\n",
              "      <td>25.8740</td>\n",
              "      <td>25.8770</td>\n",
              "      <td>121.087310</td>\n",
              "      <td>25.891363</td>\n",
              "      <td>-0.008264</td>\n",
              "    </tr>\n",
              "  </tbody>\n",
              "</table>\n",
              "</div>"
            ],
            "text/plain": [
              "   Unnamed: 0   timestamp  Asset_ID  ...       Volume          VWAP    Target\n",
              "0           0  1514764860         2  ...    19.233005   2373.116392 -0.004218\n",
              "1           1  1514764860         0  ...    78.380000      8.530000 -0.014399\n",
              "2           2  1514764860         1  ...    31.550062  13827.062093 -0.014643\n",
              "3           3  1514764860         5  ...  6626.713370      7.657713 -0.013922\n",
              "4           4  1514764860         7  ...   121.087310     25.891363 -0.008264\n",
              "\n",
              "[5 rows x 11 columns]"
            ]
          },
          "metadata": {},
          "execution_count": 12
        }
      ]
    },
    {
      "cell_type": "code",
      "metadata": {
        "id": "JXRPkJux68cw"
      },
      "source": [
        "#Modify timestamp\n",
        "x = df['timestamp'].apply(lambda x: timestamp(x))\n",
        "df['date'] = x\n",
        "df.set_index(df['date'], inplace=True)\n",
        "df.drop(columns=['Unnamed: 0'],axis=1,inplace=True)"
      ],
      "execution_count": null,
      "outputs": []
    },
    {
      "cell_type": "code",
      "metadata": {
        "id": "_B-e_0Qm5Jx4"
      },
      "source": [
        "#Leave olhc\n",
        "df.set_index('date', inplace=True)\n",
        "df_olhcv = df[['Open','High','Low','Close','Volume']]"
      ],
      "execution_count": null,
      "outputs": []
    },
    {
      "cell_type": "markdown",
      "metadata": {
        "id": "00e0C9Z9JNlf"
      },
      "source": [
        "##2 b) Using pandas datareader for analysis"
      ]
    },
    {
      "cell_type": "code",
      "metadata": {
        "id": "NvyVNLBH5aFq"
      },
      "source": [
        "import pandas_datareader.data as web\n",
        "\n",
        "#Setting the index values as timestamp\n",
        "def process():\n",
        "  print(\"Enter the code of the model that you want to implement\")\n",
        "  code = input()\n",
        "  #final_code = '^'+code\n",
        "  final_code = code\n",
        "  df_ = web.DataReader(final_code, 'stooq')\n",
        "  #df_['timestamp'] = df_.index.astype('int64')\n",
        "  df_.reset_index(drop=True, inplace=True)\n",
        "  #df_.set_index('timestamp', inplace=True)\n",
        "\n",
        "  print(f\"Loading the dataset for the {code}\")\n",
        "\n",
        "  return df_\n"
      ],
      "execution_count": null,
      "outputs": []
    },
    {
      "cell_type": "markdown",
      "metadata": {
        "id": "1gliw90nI1X0"
      },
      "source": [
        "Reference : https://github.com/SaahilMadge-zz/Spring-2015-IW/blob/master/techsectoranalysis.py\n"
      ]
    },
    {
      "cell_type": "code",
      "metadata": {
        "id": "HCFhGI_3LbWa"
      },
      "source": [
        "def additional_features(df):\n",
        "  #SMA\n",
        "  df['10_sma'] = df['Close'].rolling(window=10,min_periods=1).mean()\n",
        "  df['20_sma'] = df['Close'].rolling(window=20,min_periods=1).mean()\n",
        "  df['50_sma'] = df['Close'].rolling(window=50,min_periods=1).mean()\n",
        "  \n",
        "  #EMA\n",
        "  df['10_ema'] = df['Close'].ewm(span=10,min_periods=1).mean()\n",
        "  df['20_ema'] = df['Close'].ewm(span=20,min_periods=1).mean()\n",
        "  df['50_ema'] = df['Close'].ewm(span=50,min_periods=1).mean()\n",
        "\n",
        "  #Bollinger\n",
        "  df['bollinger_mean'] = df['Close'].rolling(20, min_periods=1).mean()\n",
        "  df['bollinger_std'] = df['Close'].rolling(20, min_periods=1).std()\n",
        "  df['BOL_UP'] = df['bollinger_mean'] + (2 * df['bollinger_std'])\n",
        "  df['BOL_DOWN'] = df['bollinger_mean'] - (2 * df['bollinger_std'])\n",
        "  df[\"bollinger_gap\"] = df[\"BOL_UP\"]-df['BOL_DOWN']\n",
        "  df.dropna(inplace=True) #Not sure if I can change?\n",
        "\n",
        "  price_change =  df['Close'].pct_change().fillna(0)\n",
        "  df['percetage_change'] = price_change\n",
        "\n",
        "  momentum = [1,1]\n",
        "  for i in range(2,len(df)):\n",
        "    momentum.append(1 if df['Close'][i] > df['Close'][i-1] else -1)\n",
        "  df['momentum'] = momentum"
      ],
      "execution_count": null,
      "outputs": []
    },
    {
      "cell_type": "code",
      "metadata": {
        "colab": {
          "base_uri": "https://localhost:8080/",
          "height": 322
        },
        "id": "-u2K68y1JSX8",
        "outputId": "c28689cf-dfc3-45e4-8829-2f1461e539cb"
      },
      "source": [
        "#Print the database for the implementations\n",
        "\n",
        "df = process()\n",
        "additional_features(df)\n",
        "df.head()"
      ],
      "execution_count": null,
      "outputs": [
        {
          "output_type": "stream",
          "name": "stdout",
          "text": [
            "Enter the code of the model that you want to implement\n",
            "AAPL\n",
            "Loading the dataset for the AAPL\n"
          ]
        },
        {
          "output_type": "execute_result",
          "data": {
            "text/html": [
              "\n",
              "  <div id=\"df-fbc36e87-a5a2-4d63-8f60-00c3855051c2\">\n",
              "    <div class=\"colab-df-container\">\n",
              "      <div>\n",
              "<style scoped>\n",
              "    .dataframe tbody tr th:only-of-type {\n",
              "        vertical-align: middle;\n",
              "    }\n",
              "\n",
              "    .dataframe tbody tr th {\n",
              "        vertical-align: top;\n",
              "    }\n",
              "\n",
              "    .dataframe thead th {\n",
              "        text-align: right;\n",
              "    }\n",
              "</style>\n",
              "<table border=\"1\" class=\"dataframe\">\n",
              "  <thead>\n",
              "    <tr style=\"text-align: right;\">\n",
              "      <th></th>\n",
              "      <th>Open</th>\n",
              "      <th>High</th>\n",
              "      <th>Low</th>\n",
              "      <th>Close</th>\n",
              "      <th>Volume</th>\n",
              "      <th>10_sma</th>\n",
              "      <th>20_sma</th>\n",
              "      <th>50_sma</th>\n",
              "      <th>10_ema</th>\n",
              "      <th>20_ema</th>\n",
              "      <th>50_ema</th>\n",
              "      <th>bollinger_mean</th>\n",
              "      <th>bollinger_std</th>\n",
              "      <th>BOL_UP</th>\n",
              "      <th>BOL_DOWN</th>\n",
              "      <th>bollinger_gap</th>\n",
              "      <th>percetage_change</th>\n",
              "      <th>momentum</th>\n",
              "    </tr>\n",
              "  </thead>\n",
              "  <tbody>\n",
              "    <tr>\n",
              "      <th>1</th>\n",
              "      <td>172.8900</td>\n",
              "      <td>174.14</td>\n",
              "      <td>171.03</td>\n",
              "      <td>172.17</td>\n",
              "      <td>86709147</td>\n",
              "      <td>172.180000</td>\n",
              "      <td>172.180000</td>\n",
              "      <td>172.180000</td>\n",
              "      <td>172.179000</td>\n",
              "      <td>172.179500</td>\n",
              "      <td>172.179800</td>\n",
              "      <td>172.180000</td>\n",
              "      <td>0.014142</td>\n",
              "      <td>172.208284</td>\n",
              "      <td>172.151716</td>\n",
              "      <td>0.056569</td>\n",
              "      <td>0.000000</td>\n",
              "      <td>1</td>\n",
              "    </tr>\n",
              "    <tr>\n",
              "      <th>2</th>\n",
              "      <td>172.6335</td>\n",
              "      <td>175.30</td>\n",
              "      <td>171.64</td>\n",
              "      <td>172.00</td>\n",
              "      <td>96903955</td>\n",
              "      <td>172.120000</td>\n",
              "      <td>172.120000</td>\n",
              "      <td>172.120000</td>\n",
              "      <td>172.107043</td>\n",
              "      <td>172.113589</td>\n",
              "      <td>172.117454</td>\n",
              "      <td>172.120000</td>\n",
              "      <td>0.104403</td>\n",
              "      <td>172.328806</td>\n",
              "      <td>171.911194</td>\n",
              "      <td>0.417612</td>\n",
              "      <td>-0.000987</td>\n",
              "      <td>1</td>\n",
              "    </tr>\n",
              "    <tr>\n",
              "      <th>3</th>\n",
              "      <td>179.6100</td>\n",
              "      <td>180.17</td>\n",
              "      <td>174.64</td>\n",
              "      <td>174.92</td>\n",
              "      <td>94537602</td>\n",
              "      <td>172.820000</td>\n",
              "      <td>172.820000</td>\n",
              "      <td>172.820000</td>\n",
              "      <td>173.033787</td>\n",
              "      <td>172.923756</td>\n",
              "      <td>172.860678</td>\n",
              "      <td>172.820000</td>\n",
              "      <td>1.402593</td>\n",
              "      <td>175.625186</td>\n",
              "      <td>170.014814</td>\n",
              "      <td>5.610371</td>\n",
              "      <td>0.016977</td>\n",
              "      <td>-1</td>\n",
              "    </tr>\n",
              "    <tr>\n",
              "      <th>4</th>\n",
              "      <td>182.6300</td>\n",
              "      <td>182.94</td>\n",
              "      <td>179.12</td>\n",
              "      <td>179.70</td>\n",
              "      <td>99310438</td>\n",
              "      <td>174.196000</td>\n",
              "      <td>174.196000</td>\n",
              "      <td>174.196000</td>\n",
              "      <td>174.947476</td>\n",
              "      <td>174.562872</td>\n",
              "      <td>174.340114</td>\n",
              "      <td>174.196000</td>\n",
              "      <td>3.307919</td>\n",
              "      <td>180.811839</td>\n",
              "      <td>167.580161</td>\n",
              "      <td>13.231677</td>\n",
              "      <td>0.027327</td>\n",
              "      <td>1</td>\n",
              "    </tr>\n",
              "    <tr>\n",
              "      <th>5</th>\n",
              "      <td>177.8300</td>\n",
              "      <td>182.88</td>\n",
              "      <td>177.71</td>\n",
              "      <td>182.01</td>\n",
              "      <td>104701220</td>\n",
              "      <td>175.498333</td>\n",
              "      <td>175.498333</td>\n",
              "      <td>175.498333</td>\n",
              "      <td>176.781857</td>\n",
              "      <td>176.133876</td>\n",
              "      <td>175.749597</td>\n",
              "      <td>175.498333</td>\n",
              "      <td>4.350896</td>\n",
              "      <td>184.200125</td>\n",
              "      <td>166.796541</td>\n",
              "      <td>17.403584</td>\n",
              "      <td>0.012855</td>\n",
              "      <td>1</td>\n",
              "    </tr>\n",
              "  </tbody>\n",
              "</table>\n",
              "</div>\n",
              "      <button class=\"colab-df-convert\" onclick=\"convertToInteractive('df-fbc36e87-a5a2-4d63-8f60-00c3855051c2')\"\n",
              "              title=\"Convert this dataframe to an interactive table.\"\n",
              "              style=\"display:none;\">\n",
              "        \n",
              "  <svg xmlns=\"http://www.w3.org/2000/svg\" height=\"24px\"viewBox=\"0 0 24 24\"\n",
              "       width=\"24px\">\n",
              "    <path d=\"M0 0h24v24H0V0z\" fill=\"none\"/>\n",
              "    <path d=\"M18.56 5.44l.94 2.06.94-2.06 2.06-.94-2.06-.94-.94-2.06-.94 2.06-2.06.94zm-11 1L8.5 8.5l.94-2.06 2.06-.94-2.06-.94L8.5 2.5l-.94 2.06-2.06.94zm10 10l.94 2.06.94-2.06 2.06-.94-2.06-.94-.94-2.06-.94 2.06-2.06.94z\"/><path d=\"M17.41 7.96l-1.37-1.37c-.4-.4-.92-.59-1.43-.59-.52 0-1.04.2-1.43.59L10.3 9.45l-7.72 7.72c-.78.78-.78 2.05 0 2.83L4 21.41c.39.39.9.59 1.41.59.51 0 1.02-.2 1.41-.59l7.78-7.78 2.81-2.81c.8-.78.8-2.07 0-2.86zM5.41 20L4 18.59l7.72-7.72 1.47 1.35L5.41 20z\"/>\n",
              "  </svg>\n",
              "      </button>\n",
              "      \n",
              "  <style>\n",
              "    .colab-df-container {\n",
              "      display:flex;\n",
              "      flex-wrap:wrap;\n",
              "      gap: 12px;\n",
              "    }\n",
              "\n",
              "    .colab-df-convert {\n",
              "      background-color: #E8F0FE;\n",
              "      border: none;\n",
              "      border-radius: 50%;\n",
              "      cursor: pointer;\n",
              "      display: none;\n",
              "      fill: #1967D2;\n",
              "      height: 32px;\n",
              "      padding: 0 0 0 0;\n",
              "      width: 32px;\n",
              "    }\n",
              "\n",
              "    .colab-df-convert:hover {\n",
              "      background-color: #E2EBFA;\n",
              "      box-shadow: 0px 1px 2px rgba(60, 64, 67, 0.3), 0px 1px 3px 1px rgba(60, 64, 67, 0.15);\n",
              "      fill: #174EA6;\n",
              "    }\n",
              "\n",
              "    [theme=dark] .colab-df-convert {\n",
              "      background-color: #3B4455;\n",
              "      fill: #D2E3FC;\n",
              "    }\n",
              "\n",
              "    [theme=dark] .colab-df-convert:hover {\n",
              "      background-color: #434B5C;\n",
              "      box-shadow: 0px 1px 3px 1px rgba(0, 0, 0, 0.15);\n",
              "      filter: drop-shadow(0px 1px 2px rgba(0, 0, 0, 0.3));\n",
              "      fill: #FFFFFF;\n",
              "    }\n",
              "  </style>\n",
              "\n",
              "      <script>\n",
              "        const buttonEl =\n",
              "          document.querySelector('#df-fbc36e87-a5a2-4d63-8f60-00c3855051c2 button.colab-df-convert');\n",
              "        buttonEl.style.display =\n",
              "          google.colab.kernel.accessAllowed ? 'block' : 'none';\n",
              "\n",
              "        async function convertToInteractive(key) {\n",
              "          const element = document.querySelector('#df-fbc36e87-a5a2-4d63-8f60-00c3855051c2');\n",
              "          const dataTable =\n",
              "            await google.colab.kernel.invokeFunction('convertToInteractive',\n",
              "                                                     [key], {});\n",
              "          if (!dataTable) return;\n",
              "\n",
              "          const docLinkHtml = 'Like what you see? Visit the ' +\n",
              "            '<a target=\"_blank\" href=https://colab.research.google.com/notebooks/data_table.ipynb>data table notebook</a>'\n",
              "            + ' to learn more about interactive tables.';\n",
              "          element.innerHTML = '';\n",
              "          dataTable['output_type'] = 'display_data';\n",
              "          await google.colab.output.renderOutput(dataTable, element);\n",
              "          const docLink = document.createElement('div');\n",
              "          docLink.innerHTML = docLinkHtml;\n",
              "          element.appendChild(docLink);\n",
              "        }\n",
              "      </script>\n",
              "    </div>\n",
              "  </div>\n",
              "  "
            ],
            "text/plain": [
              "       Open    High     Low  ...  bollinger_gap  percetage_change  momentum\n",
              "1  172.8900  174.14  171.03  ...       0.056569          0.000000         1\n",
              "2  172.6335  175.30  171.64  ...       0.417612         -0.000987         1\n",
              "3  179.6100  180.17  174.64  ...       5.610371          0.016977        -1\n",
              "4  182.6300  182.94  179.12  ...      13.231677          0.027327         1\n",
              "5  177.8300  182.88  177.71  ...      17.403584          0.012855         1\n",
              "\n",
              "[5 rows x 18 columns]"
            ]
          },
          "metadata": {},
          "execution_count": 41
        }
      ]
    },
    {
      "cell_type": "markdown",
      "metadata": {
        "id": "dEuORRvCJC_J"
      },
      "source": [
        "## 3. Model Selections (in function)\n",
        "\n",
        "For demonstration, all the models are from STOOQ for simplicity. Implement Step 1,2 for latter versions\n",
        "\n",
        "Further references - https://pandas-datareader.readthedocs.io/en/latest/remote_data.html#remote-data-stooq\n"
      ]
    },
    {
      "cell_type": "markdown",
      "metadata": {
        "id": "SmGbpfw97uWB"
      },
      "source": [
        "## 3 a) SVR"
      ]
    },
    {
      "cell_type": "code",
      "metadata": {
        "id": "Fd5Bw0sk7tpN"
      },
      "source": [
        "from sklearn.svm import SVR\n",
        "\n",
        "def svr_func(df_):\n",
        "  train_df = df_\n",
        "  #Data Preprocessing\n",
        "  train_df_svr = train_df.head(len(train_df)-1) \n",
        "  days = train_df_svr.index.tolist()\n",
        "  days = [[i] for i in days]\n",
        "  #adj_prices = [[i] for i in adj_prices]\n",
        "  adj_prices = train_df_svr['Close'].tolist()\n",
        "  train_X, test_X, train_y, test_y = train_test_split(days, adj_prices, test_size=0.25)\n",
        "\n",
        "  #SVR Models-1\n",
        "  #lin_svr = SVR(kernel='linear',C=1000.0)\n",
        "  #lin_svr.fit(train_X,train_y)\n",
        "\n",
        "  #SVR Models-2\n",
        "  poly_svr = SVR(kernel='poly',C=1000.0, degree=2)\n",
        "  poly_svr.fit(train_X,train_y)\n",
        "\n",
        "  #SVR Models-3\n",
        "  rbf_svr = SVR(kernel='rbf',C=1000.0, gamma = 0.15)\n",
        "  rbf_svr.fit(train_X,train_y)\n",
        "\n",
        "  #performance evaluation\n",
        "\n",
        "  print(\"Pure prediction section\")\n",
        "  print(\"Actual score - poly\")\n",
        "  print(poly_svr.score(test_X, test_y))\n",
        "  print(\"Actual score - rbf\")\n",
        "  print(rbf_svr.score(test_X, test_y))\n",
        "\n",
        "  print(\"------------------------------------\")\n",
        "  #svr_list = [lin_svr,poly_svr,rbf_svr]\n",
        "  svr_list = [poly_svr,rbf_svr]\n",
        "  for svr in svr_list:\n",
        "    svr_predict = svr.predict(test_X)\n",
        "\n",
        "    print('SVR {} PERFORMANCE'.format(str(svr)))\n",
        "    print('r2 score: '+str(r2_score(test_y, svr_predict)))\n",
        "    print('RMSE : '+str(np.sqrt(mean_squared_error(test_y, svr_predict))))\n",
        "    print(\"Mean Absolute Error : \" + str(mean_absolute_error(test_y,svr_predict)))\n",
        "\n",
        "\n",
        "def svm_func(df_):\n",
        "\n",
        "  print(\"Momentum prediction - as classifier\")\n",
        "\n",
        "  length = len(df)\n",
        "\n",
        "  X = np.transpose(np.array([df['percetage_change'],df['bollinger_gap'],df['bollinger_mean'],df['bollinger_std']]))\n",
        "  Y = np.array(df['momentum'])\n",
        "\n",
        "  X_train = X[0:int(0.8*length)]\n",
        "  X_test = X[int(0.8*length):]\n",
        "  y_train = Y[0:int(0.8*length)]\n",
        "  y_test = Y[int(0.8*length):]\n",
        "\n",
        "\n",
        "  poly_svm = svm.SVC(kernel='poly')\n",
        "  poly_svm.fit(X_train, y_train)\n",
        "  poly_score = poly_svm.score(X_test, y_test)\n",
        "  print(\"Prediction score for poly SVM classifier : \",poly_score)\n",
        "\n",
        "  rbf_svm = svm.SVC(kernel='rbf')\n",
        "  rbf_svm.fit(X_train, y_train)\n",
        "  rbf_score = rbf_svm.score(X_test, y_test)\n",
        "  print(\"Prediction score for RBF SVM classifier : \",rbf_score)\n",
        "\n"
      ],
      "execution_count": null,
      "outputs": []
    },
    {
      "cell_type": "code",
      "source": [
        "df = process()\n",
        "additional_features(df)"
      ],
      "metadata": {
        "colab": {
          "base_uri": "https://localhost:8080/"
        },
        "id": "V-b827bRCMy-",
        "outputId": "17b82d94-b455-47e0-ba70-8b353d8e3ac9"
      },
      "execution_count": null,
      "outputs": [
        {
          "name": "stdout",
          "output_type": "stream",
          "text": [
            "Enter the code of the model that you want to implement\n",
            "AAPL\n"
          ]
        }
      ]
    },
    {
      "cell_type": "code",
      "metadata": {
        "id": "eY2HHB6lS5Q8",
        "colab": {
          "base_uri": "https://localhost:8080/"
        },
        "outputId": "8eaa92b7-0259-4d2d-c840-a12fb82a0f5d"
      },
      "source": [
        "import pandas as pd\n",
        "from sklearn import svm\n",
        "\n",
        "svr_func(df)"
      ],
      "execution_count": null,
      "outputs": [
        {
          "output_type": "stream",
          "name": "stdout",
          "text": [
            "Pure prediction section\n",
            "Actual score - poly\n",
            "0.6017115370987292\n",
            "Actual score - rbf\n",
            "0.9947189276683958\n",
            "------------------------------------\n",
            "SVR SVR(C=1000.0, degree=2, kernel='poly') PERFORMANCE\n",
            "r2 score: 0.6017115370987292\n",
            "RMSE : 26.165288115024303\n",
            "Mean Absolute Error : 20.78294217528931\n",
            "SVR SVR(C=1000.0, gamma=0.15) PERFORMANCE\n",
            "r2 score: 0.9947189276683958\n",
            "RMSE : 3.0129208020039013\n",
            "Mean Absolute Error : 1.6942414477853822\n"
          ]
        }
      ]
    },
    {
      "cell_type": "code",
      "metadata": {
        "colab": {
          "base_uri": "https://localhost:8080/"
        },
        "id": "_0wJDjr9eFNF",
        "outputId": "f5bc1b6c-9843-489d-a1f6-a970bb3e2cf9"
      },
      "source": [
        "svm_func(df)"
      ],
      "execution_count": null,
      "outputs": [
        {
          "output_type": "stream",
          "name": "stdout",
          "text": [
            "Momentum prediction - as classifier\n",
            "Prediction score for poly SVM classifier :  0.5476190476190477\n",
            "Prediction score for RBF SVM classifier :  0.5476190476190477\n"
          ]
        }
      ]
    },
    {
      "cell_type": "code",
      "metadata": {
        "colab": {
          "base_uri": "https://localhost:8080/",
          "height": 236
        },
        "id": "sxj24hAIeaI1",
        "outputId": "8a368557-336a-4473-b786-4a35f1530716"
      },
      "source": [
        "from sklearn.model_selection import GridSearchCV\n",
        "from sklearn.metrics import classification_report\n",
        "from sklearn.svm import SVC\n",
        "\n",
        "train_X, val_X, train_y, val_y = train_test_split(X, y,random_state = 1002)\n",
        "\n",
        "tuned_parameters = [{'kernel': ['linear', 'poly', 'rbf'],'C': [1,100,1000]}]\n",
        "\n",
        "clf = GridSearchCV(SVC(), tuned_parameters, scoring='accuracy')\n",
        "clf.fit(train_X, train_y)\n",
        "\n",
        "clf.best_params_"
      ],
      "execution_count": null,
      "outputs": [
        {
          "output_type": "error",
          "ename": "NameError",
          "evalue": "ignored",
          "traceback": [
            "\u001b[0;31m---------------------------------------------------------------------------\u001b[0m",
            "\u001b[0;31mNameError\u001b[0m                                 Traceback (most recent call last)",
            "\u001b[0;32m<ipython-input-48-2f098989530b>\u001b[0m in \u001b[0;36m<module>\u001b[0;34m()\u001b[0m\n\u001b[1;32m      3\u001b[0m \u001b[0;32mfrom\u001b[0m \u001b[0msklearn\u001b[0m\u001b[0;34m.\u001b[0m\u001b[0msvm\u001b[0m \u001b[0;32mimport\u001b[0m \u001b[0mSVC\u001b[0m\u001b[0;34m\u001b[0m\u001b[0;34m\u001b[0m\u001b[0m\n\u001b[1;32m      4\u001b[0m \u001b[0;34m\u001b[0m\u001b[0m\n\u001b[0;32m----> 5\u001b[0;31m \u001b[0mtrain_X\u001b[0m\u001b[0;34m,\u001b[0m \u001b[0mval_X\u001b[0m\u001b[0;34m,\u001b[0m \u001b[0mtrain_y\u001b[0m\u001b[0;34m,\u001b[0m \u001b[0mval_y\u001b[0m \u001b[0;34m=\u001b[0m \u001b[0mtrain_test_split\u001b[0m\u001b[0;34m(\u001b[0m\u001b[0mX\u001b[0m\u001b[0;34m,\u001b[0m \u001b[0my\u001b[0m\u001b[0;34m,\u001b[0m\u001b[0mrandom_state\u001b[0m \u001b[0;34m=\u001b[0m \u001b[0;36m1002\u001b[0m\u001b[0;34m)\u001b[0m\u001b[0;34m\u001b[0m\u001b[0;34m\u001b[0m\u001b[0m\n\u001b[0m\u001b[1;32m      6\u001b[0m \u001b[0;34m\u001b[0m\u001b[0m\n\u001b[1;32m      7\u001b[0m \u001b[0;34m\u001b[0m\u001b[0m\n",
            "\u001b[0;31mNameError\u001b[0m: name 'X' is not defined"
          ]
        }
      ]
    },
    {
      "cell_type": "code",
      "metadata": {
        "colab": {
          "base_uri": "https://localhost:8080/"
        },
        "id": "rA1ApSg5eh-U",
        "outputId": "d45a2a06-8925-4a94-d5d8-072020b368a2"
      },
      "source": [
        "clf.best_params_"
      ],
      "execution_count": null,
      "outputs": [
        {
          "output_type": "execute_result",
          "data": {
            "text/plain": [
              "{'C': 1, 'kernel': 'linear'}"
            ]
          },
          "metadata": {},
          "execution_count": 147
        }
      ]
    },
    {
      "cell_type": "markdown",
      "metadata": {
        "id": "8XiLZ4JVfEHL"
      },
      "source": [
        "Reference : https://stackoverflow.com/questions/62346013/svc-object-has-no-attribute-svc\n"
      ]
    },
    {
      "cell_type": "code",
      "metadata": {
        "colab": {
          "base_uri": "https://localhost:8080/"
        },
        "id": "OiOVimFRe39d",
        "outputId": "5886dd47-21d1-4507-e20a-14141fdc677d"
      },
      "source": [
        "means = clf.cv_results_['mean_test_score']\n",
        "stds = clf.cv_results_['std_test_score']\n",
        "clf.cv_results_['params']\n",
        "\n",
        "for mean, std, params in zip(means, stds, clf.cv_results_['params']):\n",
        "    print(\"%0.3f (+/-%0.03f) for %r\"\n",
        "          % (mean, std * 2, params))"
      ],
      "execution_count": null,
      "outputs": [
        {
          "output_type": "stream",
          "name": "stdout",
          "text": [
            "0.565 (+/-0.048) for {'C': 1, 'kernel': 'linear'}\n",
            "0.556 (+/-0.004) for {'C': 1, 'kernel': 'poly'}\n",
            "0.556 (+/-0.004) for {'C': 1, 'kernel': 'rbf'}\n"
          ]
        }
      ]
    },
    {
      "cell_type": "markdown",
      "metadata": {
        "id": "4Dhk5wk28guF"
      },
      "source": [
        "## 3 b) DNN Model (pure)"
      ]
    },
    {
      "cell_type": "code",
      "metadata": {
        "id": "a_KXWpZD8YRG"
      },
      "source": [
        "import tensorflow as tf\n",
        "from tensorflow import keras\n",
        "from tensorflow.keras import layers\n",
        "from sklearn.preprocessing import MinMaxScaler\n",
        "from sklearn.model_selection import train_test_split\n",
        "from sklearn.metrics import r2_score, mean_squared_error, mean_absolute_error"
      ],
      "execution_count": null,
      "outputs": []
    },
    {
      "cell_type": "code",
      "metadata": {
        "id": "W_k4NZBk8hEU"
      },
      "source": [
        "#Data Pre-processing\n",
        "train_df = df\n",
        "\n",
        "X = train_df[['Open','High','Low','Volume']]\n",
        "Y = train_df[['Close']]\n",
        "\n",
        "X_scaler = MinMaxScaler(feature_range=(0, 1))\n",
        "X[X.columns] = X_scaler.fit_transform(X[X.columns])\n",
        "X = X.fillna(X.median())\n",
        "\n",
        "Y_scaler = MinMaxScaler(feature_range=(0, 1))\n",
        "Y[Y.columns] = Y_scaler.fit_transform(Y[Y.columns])\n",
        "Y = Y.fillna(Y.median())\n",
        "\n",
        "train_X, test_X, train_y, test_y = train_test_split(X, Y, test_size=0.25)"
      ],
      "execution_count": null,
      "outputs": []
    },
    {
      "cell_type": "code",
      "metadata": {
        "id": "89MD-JWwPuo7"
      },
      "source": [
        "#Model\n",
        "model = keras.Sequential(\n",
        "    [\n",
        "        layers.Dense(64, activation=\"relu\", input_shape=(4,)),\n",
        "        layers.Dense(128, activation=\"relu\", name=\"layer1\"),\n",
        "        layers.Dense(256, activation=\"relu\", name=\"layer2\"),\n",
        "        layers.Dense(1,activation=\"linear\", name=\"layer3\")\n",
        "    ]\n",
        ")\n",
        "\n",
        "model.compile(loss='mean_squared_error',optimizer='adam')\n",
        "history = model.fit(train_X,train_y,validation_data=(val_X, val_y),epochs = 200 ,batch_size = 10,verbose=False)"
      ],
      "execution_count": null,
      "outputs": []
    },
    {
      "cell_type": "code",
      "source": [
        "history_df = pd.DataFrame(history.history)\n",
        "history_df['loss'].plot();\n",
        "history_df['val_loss'].plot();\n",
        "plt.title(\"Simple DNN Architecture\")"
      ],
      "metadata": {
        "colab": {
          "base_uri": "https://localhost:8080/",
          "height": 265
        },
        "id": "-GAFWwmEb4Ae",
        "outputId": "3467732e-3695-4753-e718-c3428e20976b"
      },
      "execution_count": null,
      "outputs": [
        {
          "output_type": "display_data",
          "data": {
            "image/png": "[encoded data removed]",
            "text/plain": [
              "<Figure size 432x288 with 1 Axes>"
            ]
          },
          "metadata": {
            "needs_background": "light"
          }
        }
      ]
    },
    {
      "cell_type": "code",
      "metadata": {
        "colab": {
          "base_uri": "https://localhost:8080/"
        },
        "id": "JvRNawsbP45r",
        "outputId": "0bf2931f-ffb3-4acc-e0a9-322713b62988"
      },
      "source": [
        "model.summary()"
      ],
      "execution_count": null,
      "outputs": [
        {
          "output_type": "stream",
          "name": "stdout",
          "text": [
            "Model: \"sequential_2\"\n",
            "_________________________________________________________________\n",
            " Layer (type)                Output Shape              Param #   \n",
            "=================================================================\n",
            " dense_2 (Dense)             (None, 64)                320       \n",
            "                                                                 \n",
            " layer1 (Dense)              (None, 128)               8320      \n",
            "                                                                 \n",
            " layer2 (Dense)              (None, 256)               33024     \n",
            "                                                                 \n",
            " layer3 (Dense)              (None, 1)                 257       \n",
            "                                                                 \n",
            "=================================================================\n",
            "Total params: 41,921\n",
            "Trainable params: 41,921\n",
            "Non-trainable params: 0\n",
            "_________________________________________________________________\n"
          ]
        }
      ]
    },
    {
      "cell_type": "code",
      "metadata": {
        "colab": {
          "base_uri": "https://localhost:8080/"
        },
        "id": "76EX1r2NP8_q",
        "outputId": "1a5c6b38-30a7-422c-8034-8e86ea6e5c2a"
      },
      "source": [
        "dnn_predict = model.predict(test_X)\n",
        "\n",
        "print('SIMPLE DNN PERFORMANCE')\n",
        "print('r2 score: '+str(r2_score(test_y, dnn_predict)))\n",
        "print('RMSE : '+str(np.sqrt(mean_squared_error(test_y, dnn_predict))))\n",
        "print(\"Mean Absolute Error : \" + str(mean_absolute_error(test_y,dnn_predict)))\n"
      ],
      "execution_count": null,
      "outputs": [
        {
          "output_type": "stream",
          "name": "stdout",
          "text": [
            "SIMPLE DNN PERFORMANCE\n",
            "r2 score: 0.9996283879928268\n",
            "RMSE : 0.0050040235595410236\n",
            "Mean Absolute Error : 0.0034069171659931907\n"
          ]
        }
      ]
    },
    {
      "cell_type": "markdown",
      "source": [
        "### 3 c) Complex DNN Model"
      ],
      "metadata": {
        "id": "HpyiPwr77B_A"
      }
    },
    {
      "cell_type": "code",
      "source": [
        "train_X, test_X, train_y, test_y = train_test_split(X, Y, test_size=0.25)\n",
        "train_X,val_X,train_y,val_y = train_test_split(train_X, train_y, test_size=0.25)"
      ],
      "metadata": {
        "id": "ec7U-2U0HrMD"
      },
      "execution_count": null,
      "outputs": []
    },
    {
      "cell_type": "code",
      "source": [
        "from tensorflow import keras\n",
        "from tensorflow.keras import layers, callbacks\n",
        "\n",
        "early_stopping = callbacks.EarlyStopping(\n",
        "    min_delta=0.0001, # minimium change considered improvement\n",
        "    patience=50, # how many epochs to wait before stopping\n",
        "    restore_best_weights=True,\n",
        ")\n",
        "\n",
        "#train_X, test_X, train_y, test_y\n",
        "model = keras.Sequential([\n",
        "    layers.Dense(units=1024, input_shape=[len(train_X.columns)]),\n",
        "    layers.Dropout(0.2),\n",
        "    layers.BatchNormalization(),\n",
        "    layers.Dense(512, activation='relu'),\n",
        "    layers.Dropout(0.2),\n",
        "    layers.BatchNormalization(),\n",
        "    layers.Dense(256, activation='relu'),\n",
        "    layers.Dropout(0.2),\n",
        "    layers.BatchNormalization(),\n",
        "    layers.Dense(1)\n",
        "\n",
        "])\n",
        "\n",
        "model.compile(\n",
        "    optimizer='adam',\n",
        "    loss='mae',\n",
        ")\n",
        "\n",
        "history = model.fit(\n",
        "    train_X, train_y,\n",
        "    validation_data=(val_X, val_y),\n",
        "    batch_size=256,\n",
        "    epochs=200,\n",
        "    callbacks=[early_stopping], # put your callbacks in a list\n",
        "    verbose=True\n",
        ")"
      ],
      "metadata": {
        "id": "HFpDWcg27BsD"
      },
      "execution_count": null,
      "outputs": []
    },
    {
      "cell_type": "code",
      "source": [
        "#Expressing the loss - underfitting\n",
        "history_df = pd.DataFrame(history.history)\n",
        "history_df['loss'].plot();\n",
        "history_df['val_loss'].plot();\n",
        "plt.title(\"Complex DNN Structure\")"
      ],
      "metadata": {
        "id": "yBpO_-_a7BJ9",
        "colab": {
          "base_uri": "https://localhost:8080/",
          "height": 298
        },
        "outputId": "26e43341-13b7-42ca-adcb-d979752202a3"
      },
      "execution_count": null,
      "outputs": [
        {
          "output_type": "execute_result",
          "data": {
            "text/plain": [
              "Text(0.5, 1.0, 'Complex DNN Structure')"
            ]
          },
          "metadata": {},
          "execution_count": 107
        },
        {
          "output_type": "display_data",
          "data": {
            "image/png": "[encoded data removed]",
            "text/plain": [
              "<Figure size 432x288 with 1 Axes>"
            ]
          },
          "metadata": {
            "needs_background": "light"
          }
        }
      ]
    },
    {
      "cell_type": "markdown",
      "metadata": {
        "id": "m4tgv8On-1v9"
      },
      "source": [
        "## 3 c) XGBoost\n"
      ]
    },
    {
      "cell_type": "code",
      "metadata": {
        "id": "U-3YeEha-4qt",
        "colab": {
          "base_uri": "https://localhost:8080/"
        },
        "outputId": "61f66191-a993-4044-da5d-7823036e5a6b"
      },
      "source": [
        "from xgboost import XGBRegressor\n",
        "\n",
        "train_X, test_X, train_y, test_y = train_test_split(X, Y, test_size=0.2)\n",
        "model = XGBRegressor(learning_rate = 0.01,n_estimators=1000)\n",
        "\n",
        "model.fit(train_X, train_y, early_stopping_rounds=5, eval_set=[(test_X, test_y)], verbose=False)\n",
        "xgb_pred_y = model.predict(test_X)"
      ],
      "execution_count": null,
      "outputs": [
        {
          "output_type": "stream",
          "name": "stdout",
          "text": [
            "[17:17:08] WARNING: /workspace/src/objective/regression_obj.cu:152: reg:linear is now deprecated in favor of reg:squarederror.\n"
          ]
        }
      ]
    },
    {
      "cell_type": "code",
      "metadata": {
        "colab": {
          "base_uri": "https://localhost:8080/"
        },
        "id": "kUkJl2OyQFvU",
        "outputId": "4eb81cfb-8fd8-4a51-c089-5a6746d40e47"
      },
      "source": [
        "#Performance evaluation\n",
        "print('XGBOOST PERFORMANCE')\n",
        "print('r2 score: '+str(r2_score(test_y, xgb_pred_y)))\n",
        "print('RMSE : '+str(np.sqrt(mean_squared_error(test_y, xgb_pred_y))))\n",
        "print(\"Mean Absolute Error : \" + str(mean_absolute_error(test_y,xgb_pred_y)))"
      ],
      "execution_count": null,
      "outputs": [
        {
          "output_type": "stream",
          "name": "stdout",
          "text": [
            "XGBOOST PERFORMANCE\n",
            "r2 score: 0.9986942559752144\n",
            "RMSE : 0.008269744040337553\n",
            "Mean Absolute Error : 0.005616374277021515\n"
          ]
        }
      ]
    },
    {
      "cell_type": "markdown",
      "metadata": {
        "id": "jmGjDj1U-5LW"
      },
      "source": [
        "## 3 d) CatBoost"
      ]
    },
    {
      "cell_type": "code",
      "metadata": {
        "id": "o86lI_xw-65I"
      },
      "source": [
        "pip install catboost"
      ],
      "execution_count": null,
      "outputs": []
    },
    {
      "cell_type": "code",
      "metadata": {
        "colab": {
          "base_uri": "https://localhost:8080/",
          "height": 17,
          "referenced_widgets": [
            "74827bf9e78d4a9ab9317c688174b0c0"
          ]
        },
        "id": "-qiGwOy0QXDX",
        "outputId": "5c710f05-0386-4886-9f7d-bad7088cedcd"
      },
      "source": [
        "from catboost import CatBoostRegressor\n",
        "\n",
        "model_cat = CatBoostRegressor(random_state=1002,logging_level='Silent')\n",
        "\n",
        "model_cat.fit(train_X, train_y, plot=True)\n",
        "pred_cat = model_cat.predict(test_X, verbose=True)"
      ],
      "execution_count": null,
      "outputs": [
        {
          "output_type": "display_data",
          "data": {
            "application/vnd.jupyter.widget-view+json": {
              "model_id": "74827bf9e78d4a9ab9317c688174b0c0",
              "version_minor": 0,
              "version_major": 2
            },
            "text/plain": [
              "MetricVisualizer(layout=Layout(align_self='stretch', height='500px'))"
            ]
          },
          "metadata": {}
        }
      ]
    },
    {
      "cell_type": "code",
      "metadata": {
        "colab": {
          "base_uri": "https://localhost:8080/"
        },
        "id": "c6DTbG9XQctx",
        "outputId": "3fad7513-6c96-473f-d30e-0bb626e9f22d"
      },
      "source": [
        "#Performance evaluation\n",
        "print('CATBoost PERFORMANCE')\n",
        "print('r2 score: '+str(r2_score(test_y, pred_cat)))\n",
        "print('RMSE : '+str(np.sqrt(mean_squared_error(test_y, pred_cat))))\n",
        "print(\"Mean Absolute Error : \" + str(mean_absolute_error(test_y,pred_cat)))"
      ],
      "execution_count": null,
      "outputs": [
        {
          "output_type": "stream",
          "name": "stdout",
          "text": [
            "CATBoost PERFORMANCE\n",
            "r2 score: 0.9985437550211245\n",
            "RMSE : 0.008733337919420405\n",
            "Mean Absolute Error : 0.005950686297095928\n"
          ]
        }
      ]
    },
    {
      "cell_type": "markdown",
      "metadata": {
        "id": "zLGtEzfzf9E9"
      },
      "source": [
        "## 3 e) ARIMA\n",
        "\n",
        "Reference"
      ]
    },
    {
      "cell_type": "markdown",
      "metadata": {
        "id": "DBIhfNBL_5ew"
      },
      "source": [
        "ARIMA - Auto Regression Integrated Moving Average (AR, I, MA)\n",
        "\n",
        "**p**: order of the autoregressive model (how lagged it is) -> # of preceding Y values that needs to be added\n",
        "\n",
        "**d**: degree of differencing (How much the value is different from the previous) -> d until it makes data stationary (const variance)\n",
        "\n",
        "e.g. \n",
        "\n",
        "If d=1:  yt  =  Yt - Yt-1\n",
        "\n",
        "If d=2:  yt  =  (Yt - Yt-1) - (Yt-1 - Yt-2)  = Yt - 2Yt-1 + Yt-2\n",
        "\n",
        "**q** : Order of moving average (MA) - error terms (adding the noise)"
      ]
    },
    {
      "cell_type": "markdown",
      "metadata": {
        "id": "2lvXmDlLBV4a"
      },
      "source": [
        "Criteria \n",
        "\n",
        "- ACF,PACF graph : appropriateness of the model\n",
        "- AIC : Lowest\n",
        "- BIC : Lowest"
      ]
    },
    {
      "cell_type": "code",
      "metadata": {
        "id": "rvoG9w7kQqYR",
        "colab": {
          "base_uri": "https://localhost:8080/",
          "height": 434
        },
        "outputId": "0b47d4c8-f3a3-4551-e420-4ac971a5e0a0"
      },
      "source": [
        "df_close = df['Close']\n",
        "\n",
        "#For the ADF test\n",
        "\n",
        "def test_stationarity(timeseries):\n",
        "    #Determing rolling statistics\n",
        "    rolmean = timeseries.rolling(12).mean() #window size 12 mean\n",
        "\n",
        "    rolstd = timeseries.rolling(12).std() #windoiw size 12 std\n",
        "    #Plot rolling statistics:\n",
        "    plt.plot(timeseries, color='blue',label='Base')\n",
        "    plt.plot(rolmean, color='red', label='Rolling Mean')\n",
        "    plt.plot(rolstd, color='black', label = 'Rolling Std')\n",
        "    plt.legend(loc='best')\n",
        "    plt.title('Rolling Mean and Standard Deviation')\n",
        "    plt.show(block=False)\n",
        "\n",
        "    print(\"Results of dickey fuller test\")\n",
        "    adft = adfuller(timeseries,autolag='AIC')\n",
        "\n",
        "    # Resulting test statistics, p-value, lags used and number of observation\n",
        "    output = pd.Series(adft[0:4],index=['Test Statistics','p-value','# lags','# observations used'])\n",
        "    for key,values in adft[4].items():\n",
        "        output['critical value (%s)'%key] =  values\n",
        "    print(output)\n",
        "    \n",
        "test_stationarity(df_close)"
      ],
      "execution_count": null,
      "outputs": [
        {
          "output_type": "display_data",
          "data": {
            "image/png": "[encoded data removed]",
            "text/plain": [
              "<Figure size 432x288 with 1 Axes>"
            ]
          },
          "metadata": {
            "needs_background": "light"
          }
        },
        {
          "output_type": "stream",
          "name": "stdout",
          "text": [
            "Results of dickey fuller test\n",
            "Test Statistics           -1.668351\n",
            "p-value                    0.447488\n",
            "# lags                     9.000000\n",
            "# observations used     1248.000000\n",
            "critical value (1%)       -3.435601\n",
            "critical value (5%)       -2.863859\n",
            "critical value (10%)      -2.568004\n",
            "dtype: float64\n"
          ]
        }
      ]
    },
    {
      "cell_type": "markdown",
      "metadata": {
        "id": "_TVoPJM_ELva"
      },
      "source": [
        "Unit Root Test : \n",
        "Time Series y_t = D_t + z_t + e_t\n",
        "- D_t : Deterministic (trend,season)\n",
        "- z_t : stochastic (random walk with a drift) **testing this part**\n",
        "- e_t : stationary error\n",
        "\n",
        "Model with unit root has a \"spike and shocks\" = high unit root means highly stochastic\n",
        "\n",
        "\n",
        "Critical value (1%,5%,10% C.I) < Test Statistics\n",
        "\n",
        "H_0 : (O) unit root exists vs H_a : (X) unit root does not exist\n",
        "\n",
        "NOT Stationary"
      ]
    },
    {
      "cell_type": "code",
      "metadata": {
        "colab": {
          "base_uri": "https://localhost:8080/",
          "height": 548
        },
        "id": "vf6KqIQEsPzy",
        "outputId": "8dd5754c-bb37-4d6e-aa3f-494a64302c41"
      },
      "source": [
        "#The data is non-linear\n",
        "#Analyzing the Close, Trend, and seasonality\n",
        "result = seasonal_decompose(df_close, model='multiplicative', period = 30)\n",
        "\n",
        "fig = plt.figure()  \n",
        "fig = result.plot()  \n",
        "fig.set_size_inches(16, 8)"
      ],
      "execution_count": null,
      "outputs": [
        {
          "output_type": "display_data",
          "data": {
            "text/plain": [
              "<Figure size 432x288 with 0 Axes>"
            ]
          },
          "metadata": {}
        },
        {
          "output_type": "display_data",
          "data": {
            "image/png": "[encoded data removed]",
            "text/plain": [
              "<Figure size 1152x576 with 4 Axes>"
            ]
          },
          "metadata": {
            "needs_background": "light"
          }
        }
      ]
    },
    {
      "cell_type": "markdown",
      "metadata": {
        "id": "7rAYOw_-DYEG"
      },
      "source": [
        "Based on the graph above, it is evident that there is a downward trend in Close price, meaning that the data is **not stationary**\n",
        "\n",
        "- mean should be stationary over time\n",
        "- variance should not be function of time (homoscedasticity)\n",
        "-covariance should not be function of time\n",
        "\n"
      ]
    },
    {
      "cell_type": "markdown",
      "metadata": {
        "id": "h4FzezL3HgX9"
      },
      "source": [
        "Methods to make data stationary : https://people.duke.edu/~rnau/whatuse.htm"
      ]
    },
    {
      "cell_type": "code",
      "metadata": {
        "id": "eoG9qPMzFINA"
      },
      "source": [
        "#Log,Differencing to make it stationary - Transformations such as logarithms can help to stabilise the variance of a time series. \n",
        "df_log = np.log(df_close)\n",
        "moving_avg = df_log.rolling(12).mean()\n",
        "std_dev = df_log.rolling(12).std()\n",
        "\n",
        "#Separating the training and testing\n",
        "train_data, test_data = df_log[:int(len(df_log)*0.9)], df_log[int(len(df_log)*0.9):]\n"
      ],
      "execution_count": null,
      "outputs": []
    },
    {
      "cell_type": "markdown",
      "metadata": {
        "id": "VvuWHDWdJwIp"
      },
      "source": [
        "Autocorrelation : relationship between the lags (serial correlation)\n",
        "- X axis : # of lags\n",
        "- Y axis : Moran's I (how one is similar to surrounding)\n",
        "\n",
        "Below\n",
        "\n",
        "- ACF : Quite close to one another and is all in one side\n",
        "-PACF : Part of y(t) vs y(t-2) not explained by y(t-1)\n",
        "\n",
        "AR : ACF decrease slowly & PACF sharp drop\n",
        "\n",
        "MA : ACF sharp drop & PACF gradual decline\n",
        "\n",
        "ARMA : moth ACF & PACF decrease\n",
        "\n",
        "e.g. 둘 다 서서히 줄어들면 ARMA(1,1), ACF에서 두번 쭉 떨어지면 MA(2)"
      ]
    },
    {
      "cell_type": "code",
      "metadata": {
        "colab": {
          "base_uri": "https://localhost:8080/",
          "height": 981
        },
        "id": "o5EPdRj-JMMW",
        "outputId": "a11e0a98-1d43-426e-a758-71056dc0a90c"
      },
      "source": [
        "#Auto-correlation\n",
        "plt.rcParams[\"figure.figsize\"] = (16,8)\n",
        "plot_acf(Y**2)\n",
        "plt.show()\n",
        "\n",
        "#Partial Auto-correlation\n",
        "plot_pacf(Y**2)\n",
        "plt.show()"
      ],
      "execution_count": null,
      "outputs": [
        {
          "output_type": "display_data",
          "data": {
            "image/png": "[encoded data removed]",
            "text/plain": [
              "<Figure size 1152x576 with 1 Axes>"
            ]
          },
          "metadata": {
            "needs_background": "light"
          }
        },
        {
          "output_type": "display_data",
          "data": {
            "image/png": "[encoded data removed]",
            "text/plain": [
              "<Figure size 1152x576 with 1 Axes>"
            ]
          },
          "metadata": {
            "needs_background": "light"
          }
        }
      ]
    },
    {
      "cell_type": "code",
      "metadata": {
        "colab": {
          "base_uri": "https://localhost:8080/",
          "height": 1000
        },
        "id": "Qg2dYwF6INfJ",
        "outputId": "e66d2791-af45-44cb-cadc-5c662b651ce0"
      },
      "source": [
        "#Selecting the mest ARIMA combination\n",
        "model_autoARIMA = auto_arima(train_data, start_p=0, start_q=0,\n",
        "                      test='adf',       # use adftest to find optimal 'd'\n",
        "                      max_p=10, max_q=10, # maximum p and q\n",
        "                      m=1,              # frequency of series\n",
        "                      d=None,           # let model determine 'd'\n",
        "                      seasonal=False,   # No Seasonality\n",
        "                      start_P=0, \n",
        "                      D=0, \n",
        "                      trace=True,\n",
        "                      error_action='ignore',  \n",
        "                      suppress_warnings=True, \n",
        "                      stepwise=True)\n",
        "\n",
        "print(model_autoARIMA.summary())\n",
        "\n",
        "model_autoARIMA.plot_diagnostics(figsize=(15,8))\n",
        "\n",
        "plt.show()\n"
      ],
      "execution_count": null,
      "outputs": [
        {
          "output_type": "stream",
          "name": "stdout",
          "text": [
            "Performing stepwise search to minimize aic\n",
            " ARIMA(0,1,0)(0,0,0)[0] intercept   : AIC=-6562.189, Time=0.21 sec\n",
            " ARIMA(1,1,0)(0,0,0)[0] intercept   : AIC=-6617.136, Time=0.25 sec\n",
            " ARIMA(0,1,1)(0,0,0)[0] intercept   : AIC=-6603.162, Time=0.57 sec\n",
            " ARIMA(0,1,0)(0,0,0)[0]             : AIC=-6562.764, Time=0.08 sec\n",
            " ARIMA(2,1,0)(0,0,0)[0] intercept   : AIC=-6637.775, Time=0.49 sec\n",
            " ARIMA(3,1,0)(0,0,0)[0] intercept   : AIC=-6638.135, Time=0.30 sec\n",
            " ARIMA(4,1,0)(0,0,0)[0] intercept   : AIC=-6648.589, Time=0.42 sec\n",
            " ARIMA(5,1,0)(0,0,0)[0] intercept   : AIC=-6650.683, Time=0.47 sec\n",
            " ARIMA(6,1,0)(0,0,0)[0] intercept   : AIC=-6672.850, Time=0.63 sec\n",
            " ARIMA(7,1,0)(0,0,0)[0] intercept   : AIC=-6707.710, Time=0.84 sec\n",
            " ARIMA(8,1,0)(0,0,0)[0] intercept   : AIC=-6717.218, Time=0.98 sec\n",
            " ARIMA(9,1,0)(0,0,0)[0] intercept   : AIC=-6728.582, Time=1.28 sec\n",
            " ARIMA(10,1,0)(0,0,0)[0] intercept   : AIC=-6727.510, Time=1.18 sec\n",
            " ARIMA(9,1,1)(0,0,0)[0] intercept   : AIC=-6726.124, Time=3.52 sec\n",
            " ARIMA(8,1,1)(0,0,0)[0] intercept   : AIC=-6717.814, Time=5.41 sec\n",
            " ARIMA(10,1,1)(0,0,0)[0] intercept   : AIC=-6725.545, Time=4.07 sec\n",
            " ARIMA(9,1,0)(0,0,0)[0]             : AIC=-6729.042, Time=0.56 sec\n",
            " ARIMA(8,1,0)(0,0,0)[0]             : AIC=-6717.313, Time=1.31 sec\n",
            " ARIMA(10,1,0)(0,0,0)[0]             : AIC=-6727.883, Time=0.75 sec\n",
            " ARIMA(9,1,1)(0,0,0)[0]             : AIC=-6726.491, Time=2.12 sec\n",
            " ARIMA(8,1,1)(0,0,0)[0]             : AIC=-6713.909, Time=0.61 sec\n",
            " ARIMA(10,1,1)(0,0,0)[0]             : AIC=-6725.706, Time=0.83 sec\n",
            "\n",
            "Best model:  ARIMA(9,1,0)(0,0,0)[0]          \n",
            "Total fit time: 26.945 seconds\n",
            "                               SARIMAX Results                                \n",
            "==============================================================================\n",
            "Dep. Variable:                      y   No. Observations:                 1132\n",
            "Model:               SARIMAX(9, 1, 0)   Log Likelihood                3374.521\n",
            "Date:                Sat, 27 Nov 2021   AIC                          -6729.042\n",
            "Time:                        16:20:05   BIC                          -6678.734\n",
            "Sample:                             0   HQIC                         -6710.036\n",
            "                               - 1132                                         \n",
            "Covariance Type:                  opg                                         \n",
            "==============================================================================\n",
            "                 coef    std err          z      P>|z|      [0.025      0.975]\n",
            "------------------------------------------------------------------------------\n",
            "ar.L1         -0.1204      0.015     -8.150      0.000      -0.149      -0.091\n",
            "ar.L2          0.1164      0.015      7.789      0.000       0.087       0.146\n",
            "ar.L3          0.0431      0.015      2.859      0.004       0.014       0.073\n",
            "ar.L4         -0.0791      0.016     -4.877      0.000      -0.111      -0.047\n",
            "ar.L5          0.0196      0.018      1.081      0.280      -0.016       0.055\n",
            "ar.L6         -0.1013      0.013     -7.796      0.000      -0.127      -0.076\n",
            "ar.L7          0.1514      0.016      9.490      0.000       0.120       0.183\n",
            "ar.L8         -0.0850      0.016     -5.337      0.000      -0.116      -0.054\n",
            "ar.L9          0.1103      0.016      7.066      0.000       0.080       0.141\n",
            "sigma2         0.0001   2.75e-06     54.548      0.000       0.000       0.000\n",
            "===================================================================================\n",
            "Ljung-Box (L1) (Q):                   0.00   Jarque-Bera (JB):             11011.90\n",
            "Prob(Q):                              0.95   Prob(JB):                         0.00\n",
            "Heteroskedasticity (H):               0.76   Skew:                             1.11\n",
            "Prob(H) (two-sided):                  0.01   Kurtosis:                        18.12\n",
            "===================================================================================\n",
            "\n",
            "Warnings:\n",
            "[1] Covariance matrix calculated using the outer product of gradients (complex-step).\n"
          ]
        },
        {
          "output_type": "display_data",
          "data": {
            "image/png": "[encoded data removed]",
            "text/plain": [
              "<Figure size 1080x576 with 4 Axes>"
            ]
          },
          "metadata": {
            "needs_background": "light"
          }
        }
      ]
    },
    {
      "cell_type": "markdown",
      "metadata": {
        "id": "Q2VA53QCOHT4"
      },
      "source": [
        "Reference: https://www.statsmodels.org/dev/generated/statsmodels.tsa.arima.model.ARIMAResults.plot_diagnostics.html\n",
        "\n",
        "Produces a 2x2 plot grid with the following plots (ordered clockwise from top left):\n",
        "\n",
        "1. Standardized residuals over time\n",
        "\n",
        "2. Histogram plus estimated density of standardized residuals, along with a Normal(0,1) density plotted for reference. (KDE - Epanechnikov kernel function)\n",
        "\n",
        "3. Normal Q-Q plot, with Normal reference line. (finding the apt distribution)\n",
        "\n",
        "4. Correlogram"
      ]
    },
    {
      "cell_type": "code",
      "metadata": {
        "colab": {
          "base_uri": "https://localhost:8080/"
        },
        "id": "RLRVq_EdMtZ_",
        "outputId": "e199076c-0c30-46f3-e773-91c124749add"
      },
      "source": [
        "#As expected, better to use the AR > MA focused model\n",
        "#Best model:  ARIMA(9,1,0)(0,0,0)[0]\n",
        "\n",
        "from statsmodels.tsa.arima.model import ARIMA\n",
        "\n",
        "model = ARIMA(train_data, order=(9,1,0))  \n",
        "arima_model = model.fit()\n",
        "\n",
        "print(arima_model.summary())"
      ],
      "execution_count": null,
      "outputs": [
        {
          "output_type": "stream",
          "name": "stdout",
          "text": [
            "                               SARIMAX Results                                \n",
            "==============================================================================\n",
            "Dep. Variable:                  Close   No. Observations:                 1132\n",
            "Model:                 ARIMA(9, 1, 0)   Log Likelihood                3374.521\n",
            "Date:                Sat, 27 Nov 2021   AIC                          -6729.042\n",
            "Time:                        16:42:33   BIC                          -6678.734\n",
            "Sample:                             0   HQIC                         -6710.036\n",
            "                               - 1132                                         \n",
            "Covariance Type:                  opg                                         \n",
            "==============================================================================\n",
            "                 coef    std err          z      P>|z|      [0.025      0.975]\n",
            "------------------------------------------------------------------------------\n",
            "ar.L1         -0.1204      0.015     -8.150      0.000      -0.149      -0.091\n",
            "ar.L2          0.1164      0.015      7.789      0.000       0.087       0.146\n",
            "ar.L3          0.0431      0.015      2.859      0.004       0.014       0.073\n",
            "ar.L4         -0.0791      0.016     -4.877      0.000      -0.111      -0.047\n",
            "ar.L5          0.0196      0.018      1.081      0.280      -0.016       0.055\n",
            "ar.L6         -0.1013      0.013     -7.796      0.000      -0.127      -0.076\n",
            "ar.L7          0.1514      0.016      9.490      0.000       0.120       0.183\n",
            "ar.L8         -0.0850      0.016     -5.337      0.000      -0.116      -0.054\n",
            "ar.L9          0.1103      0.016      7.066      0.000       0.080       0.141\n",
            "sigma2         0.0001   2.75e-06     54.548      0.000       0.000       0.000\n",
            "===================================================================================\n",
            "Ljung-Box (L1) (Q):                   0.00   Jarque-Bera (JB):             11011.90\n",
            "Prob(Q):                              0.95   Prob(JB):                         0.00\n",
            "Heteroskedasticity (H):               0.76   Skew:                             1.11\n",
            "Prob(H) (two-sided):                  0.01   Kurtosis:                        18.12\n",
            "===================================================================================\n",
            "\n",
            "Warnings:\n",
            "[1] Covariance matrix calculated using the outer product of gradients (complex-step).\n"
          ]
        },
        {
          "output_type": "execute_result",
          "data": {
            "text/plain": [
              "1       10.485826\n",
              "2       10.486089\n",
              "3       10.480642\n",
              "4       10.480157\n",
              "5       10.487683\n",
              "          ...    \n",
              "1128     9.958744\n",
              "1129     9.961003\n",
              "1130     9.962053\n",
              "1131     9.959120\n",
              "1132     9.952690\n",
              "Name: Close, Length: 1132, dtype: float64"
            ]
          },
          "metadata": {},
          "execution_count": 25
        }
      ]
    },
    {
      "cell_type": "code",
      "metadata": {
        "colab": {
          "base_uri": "https://localhost:8080/",
          "height": 500
        },
        "id": "4XpGoEzoSzjd",
        "outputId": "33ee077e-7cca-4710-ffea-ccbc135a7081"
      },
      "source": [
        "#train,test -> after the log / difference\n",
        "plt.plot(train_data,color='blue')\n",
        "\n",
        "model = ARIMA(train_data[1:], order=(9,1,0))\n",
        "results = model.fit()\n",
        "plt.plot(results.fittedvalues[1:], color='red')"
      ],
      "execution_count": null,
      "outputs": [
        {
          "output_type": "execute_result",
          "data": {
            "text/plain": [
              "[<matplotlib.lines.Line2D at 0x7f7b66abc550>]"
            ]
          },
          "metadata": {},
          "execution_count": 53
        },
        {
          "output_type": "display_data",
          "data": {
            "image/png": "[encoded data removed]",
            "text/plain": [
              "<Figure size 1152x576 with 1 Axes>"
            ]
          },
          "metadata": {
            "needs_background": "light"
          }
        }
      ]
    },
    {
      "cell_type": "code",
      "metadata": {
        "id": "kvnQ-k3gXv3Y"
      },
      "source": [
        "model = ARIMA(train_data, order=(9,1,0))"
      ],
      "execution_count": null,
      "outputs": []
    },
    {
      "cell_type": "code",
      "metadata": {
        "colab": {
          "base_uri": "https://localhost:8080/"
        },
        "id": "TJiNSysNas6R",
        "outputId": "192f4d4d-b5f9-4048-9d9e-6c4641a93c14"
      },
      "source": [
        "r = model.fit()\n"
      ],
      "execution_count": null,
      "outputs": [
        {
          "output_type": "execute_result",
          "data": {
            "text/plain": [
              "<statsmodels.tsa.arima.model.ARIMAResultsWrapper at 0x7f7b66b59650>"
            ]
          },
          "metadata": {},
          "execution_count": 84
        }
      ]
    },
    {
      "cell_type": "code",
      "metadata": {
        "colab": {
          "base_uri": "https://localhost:8080/"
        },
        "id": "SPs8jZyIay40",
        "outputId": "d14b2124-1391-4cc1-f5fd-dafca724beef"
      },
      "source": [
        "x = r.predict(start=len(train_data),end=len(df))"
      ],
      "execution_count": null,
      "outputs": [
        {
          "output_type": "execute_result",
          "data": {
            "text/plain": [
              "1132    9.951732\n",
              "1133    9.951597\n",
              "1134    9.950551\n",
              "1135    9.951411\n",
              "1136    9.951199\n",
              "          ...   \n",
              "1254    9.950414\n",
              "1255    9.950414\n",
              "1256    9.950414\n",
              "1257    9.950414\n",
              "1258    9.950414\n",
              "Name: predicted_mean, Length: 127, dtype: float64"
            ]
          },
          "metadata": {},
          "execution_count": 86
        }
      ]
    },
    {
      "cell_type": "code",
      "metadata": {
        "colab": {
          "base_uri": "https://localhost:8080/",
          "height": 500
        },
        "id": "hAoQsBKHWQ8Q",
        "outputId": "6539fa37-9e42-496c-d838-b32a6e3cd501"
      },
      "source": [
        "plt.plot(train_data,color='blue')\n",
        "plt.plot(results.fittedvalues[1:], color='red')\n",
        "plt.plot(test_data,color='green')\n",
        "plt.plot(x,color='orange')"
      ],
      "execution_count": null,
      "outputs": [
        {
          "output_type": "execute_result",
          "data": {
            "text/plain": [
              "[<matplotlib.lines.Line2D at 0x7f7b66935910>]"
            ]
          },
          "metadata": {},
          "execution_count": 89
        },
        {
          "output_type": "display_data",
          "data": {
            "image/png": "[encoded data removed]",
            "text/plain": [
              "<Figure size 1152x576 with 1 Axes>"
            ]
          },
          "metadata": {
            "needs_background": "light"
          }
        }
      ]
    },
    {
      "cell_type": "markdown",
      "metadata": {
        "id": "VN7Tfm6CH79-"
      },
      "source": [
        ""
      ]
    },
    {
      "cell_type": "markdown",
      "metadata": {
        "id": "dvaG6n8CH8VK"
      },
      "source": [
        "Autoregressive models are used for \n",
        "1. Stationary (AR)\n",
        "2. Trend (ARIMA)\n",
        "3. Seasonality (SARIMA)\n",
        "\n",
        "\n",
        "ARCH - AR(p) model applied to variance of time series\n",
        "\n"
      ]
    },
    {
      "cell_type": "markdown",
      "metadata": {
        "id": "3MK8WpTGcfEe"
      },
      "source": [
        "## 3 f) RandomForest"
      ]
    },
    {
      "cell_type": "code",
      "metadata": {
        "id": "fIqr0SUjcevQ"
      },
      "source": [
        "from sklearn.ensemble import RandomForestRegressor\n",
        "from sklearn.model_selection import cross_val_score\n",
        "from sklearn.pipeline import Pipeline\n",
        "from sklearn.impute import SimpleImputer\n",
        "\n",
        "final_pipeline = Pipeline(steps=[('preprocessor', SimpleImputer()),\n",
        "                              ('model', RandomForestRegressor(n_estimators=50,random_state=0))\n",
        "                             ])\n",
        "# cv returns negative MAE, so *-1\n",
        "scores = -1 * cross_val_score(final_pipeline, X, Y,\n",
        "                              cv=5, #how many partitions they have\n",
        "                              scoring='neg_mean_absolute_error')"
      ],
      "execution_count": null,
      "outputs": []
    },
    {
      "cell_type": "code",
      "source": [
        "scores"
      ],
      "metadata": {
        "colab": {
          "base_uri": "https://localhost:8080/"
        },
        "id": "7riGiDI8feH4",
        "outputId": "01c6e0a0-bebe-4bd6-8c38-6ac1e7909b14"
      },
      "execution_count": null,
      "outputs": [
        {
          "output_type": "execute_result",
          "data": {
            "text/plain": [
              "array([0.07100342, 0.02887952, 0.00217016, 0.00208685, 0.0078143 ])"
            ]
          },
          "metadata": {},
          "execution_count": 110
        }
      ]
    },
    {
      "cell_type": "markdown",
      "metadata": {
        "id": "FxAvhIsxhca6"
      },
      "source": [
        "## 3 e) CNN + LSTM\n",
        "\n",
        "Reference : https://machinelearningmastery.com/cnn-long-short-term-memory-networks/\n",
        "\n",
        "### define CNN model\n",
        "cnn = Sequential()\n",
        "\n",
        "cnn.add(Conv2D(...))\n",
        "\n",
        "cnn.add(MaxPooling2D(...))\n",
        "\n",
        "cnn.add(Flatten())\n",
        "### define LSTM model\n",
        "model = Sequential()\n",
        "\n",
        "model.add(TimeDistributed(cnn, ...))\n",
        "\n",
        "model.add(LSTM(..))\n",
        "\n",
        "model.add(Dense(...))"
      ]
    },
    {
      "cell_type": "code",
      "source": [
        "import numpy as np\n",
        "import pandas as pd\n",
        "import matplotlib.pyplot as plt\n",
        "%matplotlib inline\n",
        "\n",
        "import tensorflow as tf\n",
        "import tensorflow.keras as keras\n",
        "import keras_tuner as kt\n",
        "from keras.models import Sequential\n",
        "from keras.layers import InputLayer, ConvLSTM1D, LSTM, Flatten, RepeatVector, Dense, TimeDistributed\n",
        "from keras.callbacks import EarlyStopping\n",
        "\n",
        "from tensorflow.keras.metrics import RootMeanSquaredError\n",
        "from tensorflow.keras.optimizers import Adam\n",
        "import keras.backend as K\n",
        "from keras.losses import Huber\n",
        "\n",
        "from sklearn.preprocessing import MinMaxScaler\n",
        "scaler = MinMaxScaler()\n"
      ],
      "metadata": {
        "id": "PrrmmiLgqFr-"
      },
      "execution_count": null,
      "outputs": []
    },
    {
      "cell_type": "code",
      "source": [
        "X.shape"
      ],
      "metadata": {
        "colab": {
          "base_uri": "https://localhost:8080/"
        },
        "id": "PezAhKtEqyC6",
        "outputId": "b4aa6d80-ab1e-4cb8-8dee-6a4d2bc543d0"
      },
      "execution_count": null,
      "outputs": [
        {
          "output_type": "execute_result",
          "data": {
            "text/plain": [
              "(1257, 16)"
            ]
          },
          "metadata": {},
          "execution_count": 126
        }
      ]
    },
    {
      "cell_type": "code",
      "source": [
        "Y.shape"
      ],
      "metadata": {
        "colab": {
          "base_uri": "https://localhost:8080/"
        },
        "id": "bJ_Hkosuq6bF",
        "outputId": "7065e3e6-c12b-49f2-b89b-239b230ae1d2"
      },
      "execution_count": null,
      "outputs": [
        {
          "output_type": "execute_result",
          "data": {
            "text/plain": [
              "(1257,)"
            ]
          },
          "metadata": {},
          "execution_count": 127
        }
      ]
    },
    {
      "cell_type": "code",
      "source": [
        "#train_test forms\n",
        "btc_trf_scaled = scaler.fit_transform(X)\n",
        "btc_trt_log = np.log(Y)\n",
        "\n",
        "def build_model(hp):\n",
        "    model = keras.Sequential()\n",
        "\n",
        "    # Input Layer\n",
        "    model.add(InputLayer(input_shape=btc_trf_scaled.shape[1:]))\n",
        "\n",
        "    # ConvLSTM1D\n",
        "    convLSTM_hp_filters = hp.Int('filters', min_value=32, max_value=512, step=32)\n",
        "    convLSTM_hp_kernel_size = hp.Choice('kernel_size', values=[3,5,7])\n",
        "    convLSTM_activation = hp.Choice('convLSTM_activation', values=['selu', 'relu'])\n",
        "    model.add(ConvLSTM1D(filters=convLSTM_hp_filters,\n",
        "                       kernel_size=convLSTM_hp_kernel_size,\n",
        "                       padding='same',\n",
        "                       activation=convLSTM_activation,\n",
        "                       use_bias=True,\n",
        "                       bias_initializer='zeros'))\n",
        "\n",
        "    # Flatten\n",
        "    model.add(Flatten())\n",
        "\n",
        "    # RepeatVector\n",
        "    model.add(RepeatVector(5))\n",
        "\n",
        "    # LSTM\n",
        "    LSTM_hp_units = hp.Int('LSTM_units', min_value=32, max_value=512, step=32)\n",
        "    LSTM_activation = hp.Choice('LSTM_activation', values=['selu', 'relu'])\n",
        "    model.add(LSTM(units=LSTM_hp_units, activation=LSTM_activation, return_sequences=True))\n",
        "\n",
        "    # TimeDistributed Dense\n",
        "    dense_units = hp.Int('dense_units', min_value=32, max_value=512, step=32)\n",
        "    dense_activation = hp.Choice('dense_activation', values=['selu', 'relu'])\n",
        "    model.add(TimeDistributed(Dense(units=dense_units, activation=dense_activation)))\n",
        "\n",
        "    # TimeDistributed Dense_Output\n",
        "    model.add(Dense(1))\n",
        "\n",
        "    # Set Learning Rate\n",
        "    hp_learning_rate = hp.Choice('learning_rate', values=[1e-2, 1e-3, 1e-4])\n",
        "\n",
        "    # Compile Model\n",
        "    model.compile(optimizer=Adam(learning_rate=hp_learning_rate),\n",
        "                loss=Huber(),\n",
        "                metrics=[RootMeanSquaredError()])\n",
        "    \n",
        "    return model\n",
        "tuner = kt.Hyperband(build_model,\n",
        "                     objective=kt.Objective('root_mean_squared_error', direction='min'),\n",
        "                     max_epochs=10,\n",
        "                     factor=3)\n",
        "\n",
        "early_stop = EarlyStopping(monitor='root_mean_squared_error', patience=5)\n",
        "\n",
        "tuner.search(btc_trf_scaled, btc_trt_log, epochs=50, callbacks=[early_stop])\n",
        "\n",
        "opt_hps = tuner.get_best_hyperparameters(num_trials=1)[0]"
      ],
      "metadata": {
        "colab": {
          "base_uri": "https://localhost:8080/",
          "height": 416
        },
        "id": "ChXYnkInqvT4",
        "outputId": "9b74e850-44bf-4364-b51a-4d4394a369c9"
      },
      "execution_count": null,
      "outputs": [
        {
          "output_type": "error",
          "ename": "ValueError",
          "evalue": "ignored",
          "traceback": [
            "\u001b[0;31m---------------------------------------------------------------------------\u001b[0m",
            "\u001b[0;31mValueError\u001b[0m                                Traceback (most recent call last)",
            "\u001b[0;32m<ipython-input-128-93f2697097aa>\u001b[0m in \u001b[0;36m<module>\u001b[0;34m()\u001b[0m\n\u001b[1;32m     51\u001b[0m                      \u001b[0mobjective\u001b[0m\u001b[0;34m=\u001b[0m\u001b[0mkt\u001b[0m\u001b[0;34m.\u001b[0m\u001b[0mObjective\u001b[0m\u001b[0;34m(\u001b[0m\u001b[0;34m'root_mean_squared_error'\u001b[0m\u001b[0;34m,\u001b[0m \u001b[0mdirection\u001b[0m\u001b[0;34m=\u001b[0m\u001b[0;34m'min'\u001b[0m\u001b[0;34m)\u001b[0m\u001b[0;34m,\u001b[0m\u001b[0;34m\u001b[0m\u001b[0;34m\u001b[0m\u001b[0m\n\u001b[1;32m     52\u001b[0m                      \u001b[0mmax_epochs\u001b[0m\u001b[0;34m=\u001b[0m\u001b[0;36m10\u001b[0m\u001b[0;34m,\u001b[0m\u001b[0;34m\u001b[0m\u001b[0;34m\u001b[0m\u001b[0m\n\u001b[0;32m---> 53\u001b[0;31m                      factor=3)\n\u001b[0m\u001b[1;32m     54\u001b[0m \u001b[0;34m\u001b[0m\u001b[0m\n\u001b[1;32m     55\u001b[0m \u001b[0mearly_stop\u001b[0m \u001b[0;34m=\u001b[0m \u001b[0mEarlyStopping\u001b[0m\u001b[0;34m(\u001b[0m\u001b[0mmonitor\u001b[0m\u001b[0;34m=\u001b[0m\u001b[0;34m'root_mean_squared_error'\u001b[0m\u001b[0;34m,\u001b[0m \u001b[0mpatience\u001b[0m\u001b[0;34m=\u001b[0m\u001b[0;36m5\u001b[0m\u001b[0;34m)\u001b[0m\u001b[0;34m\u001b[0m\u001b[0;34m\u001b[0m\u001b[0m\n",
            "\u001b[0;32m/usr/local/lib/python3.7/dist-packages/keras_tuner/tuners/hyperband.py\u001b[0m in \u001b[0;36m__init__\u001b[0;34m(self, hypermodel, objective, max_epochs, factor, hyperband_iterations, seed, hyperparameters, tune_new_entries, allow_new_entries, **kwargs)\u001b[0m\n\u001b[1;32m    366\u001b[0m         )\n\u001b[1;32m    367\u001b[0m         super(Hyperband, self).__init__(\n\u001b[0;32m--> 368\u001b[0;31m             \u001b[0moracle\u001b[0m\u001b[0;34m=\u001b[0m\u001b[0moracle\u001b[0m\u001b[0;34m,\u001b[0m \u001b[0mhypermodel\u001b[0m\u001b[0;34m=\u001b[0m\u001b[0mhypermodel\u001b[0m\u001b[0;34m,\u001b[0m \u001b[0;34m**\u001b[0m\u001b[0mkwargs\u001b[0m\u001b[0;34m\u001b[0m\u001b[0;34m\u001b[0m\u001b[0m\n\u001b[0m\u001b[1;32m    369\u001b[0m         )\n\u001b[1;32m    370\u001b[0m \u001b[0;34m\u001b[0m\u001b[0m\n",
            "\u001b[0;32m/usr/local/lib/python3.7/dist-packages/keras_tuner/engine/tuner.py\u001b[0m in \u001b[0;36m__init__\u001b[0;34m(self, oracle, hypermodel, max_model_size, optimizer, loss, metrics, distribution_strategy, directory, project_name, logger, tuner_id, overwrite, executions_per_trial)\u001b[0m\n\u001b[1;32m    115\u001b[0m             \u001b[0mproject_name\u001b[0m\u001b[0;34m=\u001b[0m\u001b[0mproject_name\u001b[0m\u001b[0;34m,\u001b[0m\u001b[0;34m\u001b[0m\u001b[0;34m\u001b[0m\u001b[0m\n\u001b[1;32m    116\u001b[0m             \u001b[0mlogger\u001b[0m\u001b[0;34m=\u001b[0m\u001b[0mlogger\u001b[0m\u001b[0;34m,\u001b[0m\u001b[0;34m\u001b[0m\u001b[0;34m\u001b[0m\u001b[0m\n\u001b[0;32m--> 117\u001b[0;31m             \u001b[0moverwrite\u001b[0m\u001b[0;34m=\u001b[0m\u001b[0moverwrite\u001b[0m\u001b[0;34m,\u001b[0m\u001b[0;34m\u001b[0m\u001b[0;34m\u001b[0m\u001b[0m\n\u001b[0m\u001b[1;32m    118\u001b[0m         )\n\u001b[1;32m    119\u001b[0m \u001b[0;34m\u001b[0m\u001b[0m\n",
            "\u001b[0;32m/usr/local/lib/python3.7/dist-packages/keras_tuner/engine/base_tuner.py\u001b[0m in \u001b[0;36m__init__\u001b[0;34m(self, oracle, hypermodel, directory, project_name, logger, overwrite)\u001b[0m\n\u001b[1;32m    101\u001b[0m         \u001b[0mself\u001b[0m\u001b[0;34m.\u001b[0m\u001b[0m_display\u001b[0m \u001b[0;34m=\u001b[0m \u001b[0mtuner_utils\u001b[0m\u001b[0;34m.\u001b[0m\u001b[0mDisplay\u001b[0m\u001b[0;34m(\u001b[0m\u001b[0moracle\u001b[0m\u001b[0;34m=\u001b[0m\u001b[0mself\u001b[0m\u001b[0;34m.\u001b[0m\u001b[0moracle\u001b[0m\u001b[0;34m)\u001b[0m\u001b[0;34m\u001b[0m\u001b[0;34m\u001b[0m\u001b[0m\n\u001b[1;32m    102\u001b[0m \u001b[0;34m\u001b[0m\u001b[0m\n\u001b[0;32m--> 103\u001b[0;31m         \u001b[0mself\u001b[0m\u001b[0;34m.\u001b[0m\u001b[0m_populate_initial_space\u001b[0m\u001b[0;34m(\u001b[0m\u001b[0;34m)\u001b[0m\u001b[0;34m\u001b[0m\u001b[0;34m\u001b[0m\u001b[0m\n\u001b[0m\u001b[1;32m    104\u001b[0m \u001b[0;34m\u001b[0m\u001b[0m\n\u001b[1;32m    105\u001b[0m         \u001b[0;32mif\u001b[0m \u001b[0;32mnot\u001b[0m \u001b[0moverwrite\u001b[0m \u001b[0;32mand\u001b[0m \u001b[0mtf\u001b[0m\u001b[0;34m.\u001b[0m\u001b[0mio\u001b[0m\u001b[0;34m.\u001b[0m\u001b[0mgfile\u001b[0m\u001b[0;34m.\u001b[0m\u001b[0mexists\u001b[0m\u001b[0;34m(\u001b[0m\u001b[0mself\u001b[0m\u001b[0;34m.\u001b[0m\u001b[0m_get_tuner_fname\u001b[0m\u001b[0;34m(\u001b[0m\u001b[0;34m)\u001b[0m\u001b[0;34m)\u001b[0m\u001b[0;34m:\u001b[0m\u001b[0;34m\u001b[0m\u001b[0;34m\u001b[0m\u001b[0m\n",
            "\u001b[0;32m/usr/local/lib/python3.7/dist-packages/keras_tuner/engine/base_tuner.py\u001b[0m in \u001b[0;36m_populate_initial_space\u001b[0;34m(self)\u001b[0m\n\u001b[1;32m    130\u001b[0m \u001b[0;34m\u001b[0m\u001b[0m\n\u001b[1;32m    131\u001b[0m         \u001b[0;32mwhile\u001b[0m \u001b[0;32mTrue\u001b[0m\u001b[0;34m:\u001b[0m\u001b[0;34m\u001b[0m\u001b[0;34m\u001b[0m\u001b[0m\n\u001b[0;32m--> 132\u001b[0;31m             \u001b[0mself\u001b[0m\u001b[0;34m.\u001b[0m\u001b[0mhypermodel\u001b[0m\u001b[0;34m.\u001b[0m\u001b[0mbuild\u001b[0m\u001b[0;34m(\u001b[0m\u001b[0mhp\u001b[0m\u001b[0;34m)\u001b[0m\u001b[0;34m\u001b[0m\u001b[0;34m\u001b[0m\u001b[0m\n\u001b[0m\u001b[1;32m    133\u001b[0m \u001b[0;34m\u001b[0m\u001b[0m\n\u001b[1;32m    134\u001b[0m             \u001b[0;31m# Update the recored scopes.\u001b[0m\u001b[0;34m\u001b[0m\u001b[0;34m\u001b[0m\u001b[0;34m\u001b[0m\u001b[0m\n",
            "\u001b[0;32m<ipython-input-128-93f2697097aa>\u001b[0m in \u001b[0;36mbuild_model\u001b[0;34m(hp)\u001b[0m\n\u001b[1;32m     18\u001b[0m                        \u001b[0mactivation\u001b[0m\u001b[0;34m=\u001b[0m\u001b[0mconvLSTM_activation\u001b[0m\u001b[0;34m,\u001b[0m\u001b[0;34m\u001b[0m\u001b[0;34m\u001b[0m\u001b[0m\n\u001b[1;32m     19\u001b[0m                        \u001b[0muse_bias\u001b[0m\u001b[0;34m=\u001b[0m\u001b[0;32mTrue\u001b[0m\u001b[0;34m,\u001b[0m\u001b[0;34m\u001b[0m\u001b[0;34m\u001b[0m\u001b[0m\n\u001b[0;32m---> 20\u001b[0;31m                        bias_initializer='zeros'))\n\u001b[0m\u001b[1;32m     21\u001b[0m \u001b[0;34m\u001b[0m\u001b[0m\n\u001b[1;32m     22\u001b[0m     \u001b[0;31m# Flatten\u001b[0m\u001b[0;34m\u001b[0m\u001b[0;34m\u001b[0m\u001b[0;34m\u001b[0m\u001b[0m\n",
            "\u001b[0;32m/usr/local/lib/python3.7/dist-packages/tensorflow/python/training/tracking/base.py\u001b[0m in \u001b[0;36m_method_wrapper\u001b[0;34m(self, *args, **kwargs)\u001b[0m\n\u001b[1;32m    528\u001b[0m     \u001b[0mself\u001b[0m\u001b[0;34m.\u001b[0m\u001b[0m_self_setattr_tracking\u001b[0m \u001b[0;34m=\u001b[0m \u001b[0;32mFalse\u001b[0m  \u001b[0;31m# pylint: disable=protected-access\u001b[0m\u001b[0;34m\u001b[0m\u001b[0;34m\u001b[0m\u001b[0m\n\u001b[1;32m    529\u001b[0m     \u001b[0;32mtry\u001b[0m\u001b[0;34m:\u001b[0m\u001b[0;34m\u001b[0m\u001b[0;34m\u001b[0m\u001b[0m\n\u001b[0;32m--> 530\u001b[0;31m       \u001b[0mresult\u001b[0m \u001b[0;34m=\u001b[0m \u001b[0mmethod\u001b[0m\u001b[0;34m(\u001b[0m\u001b[0mself\u001b[0m\u001b[0;34m,\u001b[0m \u001b[0;34m*\u001b[0m\u001b[0margs\u001b[0m\u001b[0;34m,\u001b[0m \u001b[0;34m**\u001b[0m\u001b[0mkwargs\u001b[0m\u001b[0;34m)\u001b[0m\u001b[0;34m\u001b[0m\u001b[0;34m\u001b[0m\u001b[0m\n\u001b[0m\u001b[1;32m    531\u001b[0m     \u001b[0;32mfinally\u001b[0m\u001b[0;34m:\u001b[0m\u001b[0;34m\u001b[0m\u001b[0;34m\u001b[0m\u001b[0m\n\u001b[1;32m    532\u001b[0m       \u001b[0mself\u001b[0m\u001b[0;34m.\u001b[0m\u001b[0m_self_setattr_tracking\u001b[0m \u001b[0;34m=\u001b[0m \u001b[0mprevious_value\u001b[0m  \u001b[0;31m# pylint: disable=protected-access\u001b[0m\u001b[0;34m\u001b[0m\u001b[0;34m\u001b[0m\u001b[0m\n",
            "\u001b[0;32m/usr/local/lib/python3.7/dist-packages/keras/utils/traceback_utils.py\u001b[0m in \u001b[0;36merror_handler\u001b[0;34m(*args, **kwargs)\u001b[0m\n\u001b[1;32m     65\u001b[0m     \u001b[0;32mexcept\u001b[0m \u001b[0mException\u001b[0m \u001b[0;32mas\u001b[0m \u001b[0me\u001b[0m\u001b[0;34m:\u001b[0m  \u001b[0;31m# pylint: disable=broad-except\u001b[0m\u001b[0;34m\u001b[0m\u001b[0;34m\u001b[0m\u001b[0m\n\u001b[1;32m     66\u001b[0m       \u001b[0mfiltered_tb\u001b[0m \u001b[0;34m=\u001b[0m \u001b[0m_process_traceback_frames\u001b[0m\u001b[0;34m(\u001b[0m\u001b[0me\u001b[0m\u001b[0;34m.\u001b[0m\u001b[0m__traceback__\u001b[0m\u001b[0;34m)\u001b[0m\u001b[0;34m\u001b[0m\u001b[0;34m\u001b[0m\u001b[0m\n\u001b[0;32m---> 67\u001b[0;31m       \u001b[0;32mraise\u001b[0m \u001b[0me\u001b[0m\u001b[0;34m.\u001b[0m\u001b[0mwith_traceback\u001b[0m\u001b[0;34m(\u001b[0m\u001b[0mfiltered_tb\u001b[0m\u001b[0;34m)\u001b[0m \u001b[0;32mfrom\u001b[0m \u001b[0;32mNone\u001b[0m\u001b[0;34m\u001b[0m\u001b[0;34m\u001b[0m\u001b[0m\n\u001b[0m\u001b[1;32m     68\u001b[0m     \u001b[0;32mfinally\u001b[0m\u001b[0;34m:\u001b[0m\u001b[0;34m\u001b[0m\u001b[0;34m\u001b[0m\u001b[0m\n\u001b[1;32m     69\u001b[0m       \u001b[0;32mdel\u001b[0m \u001b[0mfiltered_tb\u001b[0m\u001b[0;34m\u001b[0m\u001b[0;34m\u001b[0m\u001b[0m\n",
            "\u001b[0;32m/usr/local/lib/python3.7/dist-packages/keras/engine/input_spec.py\u001b[0m in \u001b[0;36massert_input_compatibility\u001b[0;34m(input_spec, inputs, layer_name)\u001b[0m\n\u001b[1;32m    211\u001b[0m       \u001b[0mndim\u001b[0m \u001b[0;34m=\u001b[0m \u001b[0mshape\u001b[0m\u001b[0;34m.\u001b[0m\u001b[0mrank\u001b[0m\u001b[0;34m\u001b[0m\u001b[0;34m\u001b[0m\u001b[0m\n\u001b[1;32m    212\u001b[0m       \u001b[0;32mif\u001b[0m \u001b[0mndim\u001b[0m \u001b[0;34m!=\u001b[0m \u001b[0mspec\u001b[0m\u001b[0;34m.\u001b[0m\u001b[0mndim\u001b[0m\u001b[0;34m:\u001b[0m\u001b[0;34m\u001b[0m\u001b[0;34m\u001b[0m\u001b[0m\n\u001b[0;32m--> 213\u001b[0;31m         raise ValueError(f'Input {input_index} of layer \"{layer_name}\" '\n\u001b[0m\u001b[1;32m    214\u001b[0m                          \u001b[0;34m'is incompatible with the layer: '\u001b[0m\u001b[0;34m\u001b[0m\u001b[0;34m\u001b[0m\u001b[0m\n\u001b[1;32m    215\u001b[0m                          \u001b[0;34mf'expected ndim={spec.ndim}, found ndim={ndim}. '\u001b[0m\u001b[0;34m\u001b[0m\u001b[0;34m\u001b[0m\u001b[0m\n",
            "\u001b[0;31mValueError\u001b[0m: Input 0 of layer \"conv_lstm1d\" is incompatible with the layer: expected ndim=4, found ndim=2. Full shape received: (None, 16)"
          ]
        }
      ]
    },
    {
      "cell_type": "code",
      "metadata": {
        "colab": {
          "base_uri": "https://localhost:8080/"
        },
        "id": "hkQXPJLkoRub",
        "outputId": "4e31c397-2e94-4412-890a-196879ffc4fe"
      },
      "source": [
        "df = process()\n",
        "additional_features(df)"
      ],
      "execution_count": null,
      "outputs": [
        {
          "output_type": "stream",
          "name": "stdout",
          "text": [
            "Enter the code of the model that you want to implement\n",
            "MSFT\n",
            "Loading the dataset for the MSFT\n"
          ]
        }
      ]
    },
    {
      "cell_type": "code",
      "metadata": {
        "id": "EOnwWwtMheou"
      },
      "source": [
        "length = len(df)\n",
        "df_sub = df\n",
        "\n",
        "X = np.array(df_sub.drop(columns = ['Close','momentum']))\n",
        "Y = np.array(df_sub['Close'])\n",
        "\n",
        "X_train = X[0:int(0.8*length)]\n",
        "X_test = X[int(0.8*length):]\n",
        "y_train = Y[0:int(0.8*length)]\n",
        "y_test = Y[int(0.8*length):]"
      ],
      "execution_count": null,
      "outputs": []
    },
    {
      "cell_type": "code",
      "source": [
        "#Using hp.Choice to find the optimal solution\n",
        "def model_builder(hp):\n",
        "\n",
        "  #Choosing the parameters\n",
        "  CNN_filter = hp.Int(\"filter\",min_value=32,max_value=512,step=32)\n",
        "  CNN_kernel = hp.Choice('kernel',values=[1,3,5,7,9])\n",
        "  CNN_activation = hp.Choice('activation',values=['relu','selu','softmax'])\n",
        "\n",
        "  hp_learning_rate = hp.Choice('learning_rate', values=[0.1,1e-2, 1e-3, 1e-4])\n",
        "\n",
        "  model = Sequential()\n",
        "  model.add(Conv1D(1, (2,2), activation='relu', padding='causal', input_shape=(10,10,1)))\n",
        "  model.add(MaxPooling1D(pool_size=(2, 2)))\n",
        "  model.add(Flatten())\n",
        "\n",
        "\n",
        "  model = keras.Sequential()\n",
        "  model.add(keras.layers.Flatten(input_shape=(28, 28)))\n",
        "\n",
        " \n",
        "  hp_units = hp.Int('units', min_value=32, max_value=512, step=32)\n",
        "  model.add(keras.layers.Dense(units=hp_units, activation='relu'))\n",
        "  model.add(keras.layers.Dense(10))\n",
        "\n",
        "  # Tune the learning rate for the optimizer\n",
        "  # Choose an optimal value from 0.01, 0.001, or 0.0001\n",
        "\n",
        "  model.compile(optimizer=keras.optimizers.Adam(learning_rate=hp_learning_rate),\n",
        "                loss=keras.losses.SparseCategoricalCrossentropy(from_logits=True),\n",
        "                metrics=[RootMeanSquaredError()])\n",
        "\n",
        "  return model"
      ],
      "metadata": {
        "id": "U2YWlg5Phhku"
      },
      "execution_count": null,
      "outputs": []
    },
    {
      "cell_type": "code",
      "metadata": {
        "id": "W7GHPs2Vjavw"
      },
      "source": [
        "#1 CNN\n",
        "cnn = Sequential()\n",
        "cnn.add(Conv1D(1, (2,2), activation='relu', padding='causal', input_shape=(10,10,1)))\n",
        "cnn.add(MaxPooling1D(pool_size=(2, 2)))\n",
        "cnn.add(Flatten())"
      ],
      "execution_count": null,
      "outputs": []
    }
  ]
}